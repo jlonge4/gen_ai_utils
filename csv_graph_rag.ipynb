{
  "nbformat": 4,
  "nbformat_minor": 0,
  "metadata": {
    "colab": {
      "provenance": [],
      "machine_shape": "hm",
      "authorship_tag": "ABX9TyM/oOp5+gpzsOscUO/G9arS",
      "include_colab_link": true
    },
    "kernelspec": {
      "name": "python3",
      "display_name": "Python 3"
    },
    "language_info": {
      "name": "python"
    }
  },
  "cells": [
    {
      "cell_type": "markdown",
      "metadata": {
        "id": "view-in-github",
        "colab_type": "text"
      },
      "source": [
        "<a href=\"https://colab.research.google.com/github/jlonge4/gen_ai_utils/blob/main/csv_graph_rag.ipynb\" target=\"_parent\"><img src=\"https://colab.research.google.com/assets/colab-badge.svg\" alt=\"Open In Colab\"/></a>"
      ]
    },
    {
      "cell_type": "code",
      "source": [
        "!pip install torch_geometric networkx matplotlib sentence_transformers openai"
      ],
      "metadata": {
        "id": "sAjS9YU28MPh"
      },
      "execution_count": null,
      "outputs": []
    },
    {
      "cell_type": "code",
      "execution_count": null,
      "metadata": {
        "id": "cVdcmVhN78Xf"
      },
      "outputs": [],
      "source": [
        "import pandas as pd\n",
        "import torch\n",
        "from torch_geometric.data import HeteroData\n",
        "from sentence_transformers import SentenceTransformer\n",
        "import openai  # or your preferred LLM API\n",
        "\n",
        "# Load CSV\n",
        "df = pd.read_csv('Accounts.csv')\n",
        "\n",
        "# Create HeteroData object\n",
        "data = HeteroData()\n",
        "\n",
        "# Automatically determine node types (columns) and create nodes\n",
        "for column in df.columns:\n",
        "    unique_values = df[column].unique()\n",
        "    data[column].x = torch.arange(len(unique_values))\n",
        "    data[column].mapping = {val: idx for idx, val in enumerate(unique_values)}\n",
        "\n",
        "# Create edges between all columns\n",
        "for col1 in df.columns:\n",
        "    for col2 in df.columns:\n",
        "        if col1 != col2:\n",
        "            edges = []\n",
        "            for _, row in df.iterrows():\n",
        "                src = data[col1].mapping[row[col1]]\n",
        "                dst = data[col2].mapping[row[col2]]\n",
        "                edges.append([src, dst])\n",
        "            data[col1, f'connected_to_{col2}', col2].edge_index = torch.tensor(edges).t().contiguous()\n",
        "\n",
        "print(data)"
      ]
    },
    {
      "cell_type": "code",
      "source": [
        "df.head()"
      ],
      "metadata": {
        "colab": {
          "base_uri": "https://localhost:8080/",
          "height": 206
        },
        "id": "Wi0JoVcAAhnh",
        "outputId": "ed552bcb-1061-482d-d971-1a92fd1ce839"
      },
      "execution_count": 234,
      "outputs": [
        {
          "output_type": "execute_result",
          "data": {
            "text/plain": [
              "   CompanyEXTID Company Name       City        State\n",
              "0             1        Yadel   Cheyenne      Wyoming\n",
              "1             2       Camido   Stamford  Connecticut\n",
              "2             3       Trudeo    Seattle   Washington\n",
              "3             4     Gigaclub  Anchorage       Alaska\n",
              "4             5   Brainverse       Troy     Michigan"
            ],
            "text/html": [
              "\n",
              "  <div id=\"df-5b1aad09-b473-481c-a3f1-f167e84facaf\" class=\"colab-df-container\">\n",
              "    <div>\n",
              "<style scoped>\n",
              "    .dataframe tbody tr th:only-of-type {\n",
              "        vertical-align: middle;\n",
              "    }\n",
              "\n",
              "    .dataframe tbody tr th {\n",
              "        vertical-align: top;\n",
              "    }\n",
              "\n",
              "    .dataframe thead th {\n",
              "        text-align: right;\n",
              "    }\n",
              "</style>\n",
              "<table border=\"1\" class=\"dataframe\">\n",
              "  <thead>\n",
              "    <tr style=\"text-align: right;\">\n",
              "      <th></th>\n",
              "      <th>CompanyEXTID</th>\n",
              "      <th>Company Name</th>\n",
              "      <th>City</th>\n",
              "      <th>State</th>\n",
              "    </tr>\n",
              "  </thead>\n",
              "  <tbody>\n",
              "    <tr>\n",
              "      <th>0</th>\n",
              "      <td>1</td>\n",
              "      <td>Yadel</td>\n",
              "      <td>Cheyenne</td>\n",
              "      <td>Wyoming</td>\n",
              "    </tr>\n",
              "    <tr>\n",
              "      <th>1</th>\n",
              "      <td>2</td>\n",
              "      <td>Camido</td>\n",
              "      <td>Stamford</td>\n",
              "      <td>Connecticut</td>\n",
              "    </tr>\n",
              "    <tr>\n",
              "      <th>2</th>\n",
              "      <td>3</td>\n",
              "      <td>Trudeo</td>\n",
              "      <td>Seattle</td>\n",
              "      <td>Washington</td>\n",
              "    </tr>\n",
              "    <tr>\n",
              "      <th>3</th>\n",
              "      <td>4</td>\n",
              "      <td>Gigaclub</td>\n",
              "      <td>Anchorage</td>\n",
              "      <td>Alaska</td>\n",
              "    </tr>\n",
              "    <tr>\n",
              "      <th>4</th>\n",
              "      <td>5</td>\n",
              "      <td>Brainverse</td>\n",
              "      <td>Troy</td>\n",
              "      <td>Michigan</td>\n",
              "    </tr>\n",
              "  </tbody>\n",
              "</table>\n",
              "</div>\n",
              "    <div class=\"colab-df-buttons\">\n",
              "\n",
              "  <div class=\"colab-df-container\">\n",
              "    <button class=\"colab-df-convert\" onclick=\"convertToInteractive('df-5b1aad09-b473-481c-a3f1-f167e84facaf')\"\n",
              "            title=\"Convert this dataframe to an interactive table.\"\n",
              "            style=\"display:none;\">\n",
              "\n",
              "  <svg xmlns=\"http://www.w3.org/2000/svg\" height=\"24px\" viewBox=\"0 -960 960 960\">\n",
              "    <path d=\"M120-120v-720h720v720H120Zm60-500h600v-160H180v160Zm220 220h160v-160H400v160Zm0 220h160v-160H400v160ZM180-400h160v-160H180v160Zm440 0h160v-160H620v160ZM180-180h160v-160H180v160Zm440 0h160v-160H620v160Z\"/>\n",
              "  </svg>\n",
              "    </button>\n",
              "\n",
              "  <style>\n",
              "    .colab-df-container {\n",
              "      display:flex;\n",
              "      gap: 12px;\n",
              "    }\n",
              "\n",
              "    .colab-df-convert {\n",
              "      background-color: #E8F0FE;\n",
              "      border: none;\n",
              "      border-radius: 50%;\n",
              "      cursor: pointer;\n",
              "      display: none;\n",
              "      fill: #1967D2;\n",
              "      height: 32px;\n",
              "      padding: 0 0 0 0;\n",
              "      width: 32px;\n",
              "    }\n",
              "\n",
              "    .colab-df-convert:hover {\n",
              "      background-color: #E2EBFA;\n",
              "      box-shadow: 0px 1px 2px rgba(60, 64, 67, 0.3), 0px 1px 3px 1px rgba(60, 64, 67, 0.15);\n",
              "      fill: #174EA6;\n",
              "    }\n",
              "\n",
              "    .colab-df-buttons div {\n",
              "      margin-bottom: 4px;\n",
              "    }\n",
              "\n",
              "    [theme=dark] .colab-df-convert {\n",
              "      background-color: #3B4455;\n",
              "      fill: #D2E3FC;\n",
              "    }\n",
              "\n",
              "    [theme=dark] .colab-df-convert:hover {\n",
              "      background-color: #434B5C;\n",
              "      box-shadow: 0px 1px 3px 1px rgba(0, 0, 0, 0.15);\n",
              "      filter: drop-shadow(0px 1px 2px rgba(0, 0, 0, 0.3));\n",
              "      fill: #FFFFFF;\n",
              "    }\n",
              "  </style>\n",
              "\n",
              "    <script>\n",
              "      const buttonEl =\n",
              "        document.querySelector('#df-5b1aad09-b473-481c-a3f1-f167e84facaf button.colab-df-convert');\n",
              "      buttonEl.style.display =\n",
              "        google.colab.kernel.accessAllowed ? 'block' : 'none';\n",
              "\n",
              "      async function convertToInteractive(key) {\n",
              "        const element = document.querySelector('#df-5b1aad09-b473-481c-a3f1-f167e84facaf');\n",
              "        const dataTable =\n",
              "          await google.colab.kernel.invokeFunction('convertToInteractive',\n",
              "                                                    [key], {});\n",
              "        if (!dataTable) return;\n",
              "\n",
              "        const docLinkHtml = 'Like what you see? Visit the ' +\n",
              "          '<a target=\"_blank\" href=https://colab.research.google.com/notebooks/data_table.ipynb>data table notebook</a>'\n",
              "          + ' to learn more about interactive tables.';\n",
              "        element.innerHTML = '';\n",
              "        dataTable['output_type'] = 'display_data';\n",
              "        await google.colab.output.renderOutput(dataTable, element);\n",
              "        const docLink = document.createElement('div');\n",
              "        docLink.innerHTML = docLinkHtml;\n",
              "        element.appendChild(docLink);\n",
              "      }\n",
              "    </script>\n",
              "  </div>\n",
              "\n",
              "\n",
              "<div id=\"df-6b5f95c8-14c6-4abf-b38d-432074b83ee4\">\n",
              "  <button class=\"colab-df-quickchart\" onclick=\"quickchart('df-6b5f95c8-14c6-4abf-b38d-432074b83ee4')\"\n",
              "            title=\"Suggest charts\"\n",
              "            style=\"display:none;\">\n",
              "\n",
              "<svg xmlns=\"http://www.w3.org/2000/svg\" height=\"24px\"viewBox=\"0 0 24 24\"\n",
              "     width=\"24px\">\n",
              "    <g>\n",
              "        <path d=\"M19 3H5c-1.1 0-2 .9-2 2v14c0 1.1.9 2 2 2h14c1.1 0 2-.9 2-2V5c0-1.1-.9-2-2-2zM9 17H7v-7h2v7zm4 0h-2V7h2v10zm4 0h-2v-4h2v4z\"/>\n",
              "    </g>\n",
              "</svg>\n",
              "  </button>\n",
              "\n",
              "<style>\n",
              "  .colab-df-quickchart {\n",
              "      --bg-color: #E8F0FE;\n",
              "      --fill-color: #1967D2;\n",
              "      --hover-bg-color: #E2EBFA;\n",
              "      --hover-fill-color: #174EA6;\n",
              "      --disabled-fill-color: #AAA;\n",
              "      --disabled-bg-color: #DDD;\n",
              "  }\n",
              "\n",
              "  [theme=dark] .colab-df-quickchart {\n",
              "      --bg-color: #3B4455;\n",
              "      --fill-color: #D2E3FC;\n",
              "      --hover-bg-color: #434B5C;\n",
              "      --hover-fill-color: #FFFFFF;\n",
              "      --disabled-bg-color: #3B4455;\n",
              "      --disabled-fill-color: #666;\n",
              "  }\n",
              "\n",
              "  .colab-df-quickchart {\n",
              "    background-color: var(--bg-color);\n",
              "    border: none;\n",
              "    border-radius: 50%;\n",
              "    cursor: pointer;\n",
              "    display: none;\n",
              "    fill: var(--fill-color);\n",
              "    height: 32px;\n",
              "    padding: 0;\n",
              "    width: 32px;\n",
              "  }\n",
              "\n",
              "  .colab-df-quickchart:hover {\n",
              "    background-color: var(--hover-bg-color);\n",
              "    box-shadow: 0 1px 2px rgba(60, 64, 67, 0.3), 0 1px 3px 1px rgba(60, 64, 67, 0.15);\n",
              "    fill: var(--button-hover-fill-color);\n",
              "  }\n",
              "\n",
              "  .colab-df-quickchart-complete:disabled,\n",
              "  .colab-df-quickchart-complete:disabled:hover {\n",
              "    background-color: var(--disabled-bg-color);\n",
              "    fill: var(--disabled-fill-color);\n",
              "    box-shadow: none;\n",
              "  }\n",
              "\n",
              "  .colab-df-spinner {\n",
              "    border: 2px solid var(--fill-color);\n",
              "    border-color: transparent;\n",
              "    border-bottom-color: var(--fill-color);\n",
              "    animation:\n",
              "      spin 1s steps(1) infinite;\n",
              "  }\n",
              "\n",
              "  @keyframes spin {\n",
              "    0% {\n",
              "      border-color: transparent;\n",
              "      border-bottom-color: var(--fill-color);\n",
              "      border-left-color: var(--fill-color);\n",
              "    }\n",
              "    20% {\n",
              "      border-color: transparent;\n",
              "      border-left-color: var(--fill-color);\n",
              "      border-top-color: var(--fill-color);\n",
              "    }\n",
              "    30% {\n",
              "      border-color: transparent;\n",
              "      border-left-color: var(--fill-color);\n",
              "      border-top-color: var(--fill-color);\n",
              "      border-right-color: var(--fill-color);\n",
              "    }\n",
              "    40% {\n",
              "      border-color: transparent;\n",
              "      border-right-color: var(--fill-color);\n",
              "      border-top-color: var(--fill-color);\n",
              "    }\n",
              "    60% {\n",
              "      border-color: transparent;\n",
              "      border-right-color: var(--fill-color);\n",
              "    }\n",
              "    80% {\n",
              "      border-color: transparent;\n",
              "      border-right-color: var(--fill-color);\n",
              "      border-bottom-color: var(--fill-color);\n",
              "    }\n",
              "    90% {\n",
              "      border-color: transparent;\n",
              "      border-bottom-color: var(--fill-color);\n",
              "    }\n",
              "  }\n",
              "</style>\n",
              "\n",
              "  <script>\n",
              "    async function quickchart(key) {\n",
              "      const quickchartButtonEl =\n",
              "        document.querySelector('#' + key + ' button');\n",
              "      quickchartButtonEl.disabled = true;  // To prevent multiple clicks.\n",
              "      quickchartButtonEl.classList.add('colab-df-spinner');\n",
              "      try {\n",
              "        const charts = await google.colab.kernel.invokeFunction(\n",
              "            'suggestCharts', [key], {});\n",
              "      } catch (error) {\n",
              "        console.error('Error during call to suggestCharts:', error);\n",
              "      }\n",
              "      quickchartButtonEl.classList.remove('colab-df-spinner');\n",
              "      quickchartButtonEl.classList.add('colab-df-quickchart-complete');\n",
              "    }\n",
              "    (() => {\n",
              "      let quickchartButtonEl =\n",
              "        document.querySelector('#df-6b5f95c8-14c6-4abf-b38d-432074b83ee4 button');\n",
              "      quickchartButtonEl.style.display =\n",
              "        google.colab.kernel.accessAllowed ? 'block' : 'none';\n",
              "    })();\n",
              "  </script>\n",
              "</div>\n",
              "\n",
              "    </div>\n",
              "  </div>\n"
            ],
            "application/vnd.google.colaboratory.intrinsic+json": {
              "type": "dataframe",
              "variable_name": "df",
              "summary": "{\n  \"name\": \"df\",\n  \"rows\": 100,\n  \"fields\": [\n    {\n      \"column\": \"CompanyEXTID\",\n      \"properties\": {\n        \"dtype\": \"number\",\n        \"std\": 29,\n        \"min\": 1,\n        \"max\": 100,\n        \"num_unique_values\": 100,\n        \"samples\": [\n          84,\n          54,\n          71\n        ],\n        \"semantic_type\": \"\",\n        \"description\": \"\"\n      }\n    },\n    {\n      \"column\": \"Company Name\",\n      \"properties\": {\n        \"dtype\": \"string\",\n        \"num_unique_values\": 87,\n        \"samples\": [\n          \"Thoughtworks\",\n          \"Yadel\",\n          \"Realcube\"\n        ],\n        \"semantic_type\": \"\",\n        \"description\": \"\"\n      }\n    },\n    {\n      \"column\": \"City\",\n      \"properties\": {\n        \"dtype\": \"string\",\n        \"num_unique_values\": 79,\n        \"samples\": [\n          \"Newark\",\n          \"Cheyenne\",\n          \"San Francisco\"\n        ],\n        \"semantic_type\": \"\",\n        \"description\": \"\"\n      }\n    },\n    {\n      \"column\": \"State\",\n      \"properties\": {\n        \"dtype\": \"category\",\n        \"num_unique_values\": 36,\n        \"samples\": [\n          \"Wisconsin\",\n          \"Ohio\",\n          \"Massachusetts\"\n        ],\n        \"semantic_type\": \"\",\n        \"description\": \"\"\n      }\n    }\n  ]\n}"
            }
          },
          "metadata": {},
          "execution_count": 234
        }
      ]
    },
    {
      "cell_type": "code",
      "source": [
        "# Create embeddings for node values\n",
        "model = SentenceTransformer('all-MiniLM-L6-v2')\n",
        "for node_type in data.node_types:\n",
        "    values = list(data[node_type].mapping.keys())\n",
        "    # Convert all values to strings\n",
        "    string_values = [str(value) for value in values]\n",
        "    embeddings = model.encode(string_values)\n",
        "    data[node_type].embeddings = torch.tensor(embeddings)"
      ],
      "metadata": {
        "colab": {
          "base_uri": "https://localhost:8080/"
        },
        "id": "mC2dKV7H9qXG",
        "outputId": "25c09f98-b112-4a18-df23-023f04c08ecb"
      },
      "execution_count": 165,
      "outputs": [
        {
          "output_type": "stream",
          "name": "stderr",
          "text": [
            "/usr/local/lib/python3.10/dist-packages/huggingface_hub/file_download.py:1132: FutureWarning: `resume_download` is deprecated and will be removed in version 1.0.0. Downloads always resume when possible. If you want to force a new download, use `force_download=True`.\n",
            "  warnings.warn(\n"
          ]
        }
      ]
    },
    {
      "cell_type": "code",
      "source": [
        "def get_graph_summary(data):\n",
        "    summary = {\n",
        "        \"node_types\": list(data.node_types),\n",
        "        \"edge_types\": list(data.edge_types),\n",
        "        \"node_counts\": {node_type: data[node_type].num_nodes for node_type in data.node_types},\n",
        "        \"edge_counts\": {edge_type: data[edge_type].num_edges for edge_type in data.edge_types},\n",
        "        \"node_features\": {node_type: list(data[node_type].keys()) for node_type in data.node_types}\n",
        "    }\n",
        "    return summary\n",
        "graph_summary = get_graph_summary(data)\n",
        "graph_summary"
      ],
      "metadata": {
        "colab": {
          "base_uri": "https://localhost:8080/"
        },
        "id": "VeEhS6YFdx8S",
        "outputId": "546ae4ae-101c-4805-c78d-0374d16c29d3"
      },
      "execution_count": 166,
      "outputs": [
        {
          "output_type": "execute_result",
          "data": {
            "text/plain": [
              "{'node_types': ['CompanyEXTID', 'Company Name', 'City', 'State'],\n",
              " 'edge_types': [('CompanyEXTID', 'connected_to_Company Name', 'Company Name'),\n",
              "  ('CompanyEXTID', 'connected_to_City', 'City'),\n",
              "  ('CompanyEXTID', 'connected_to_State', 'State'),\n",
              "  ('Company Name', 'connected_to_CompanyEXTID', 'CompanyEXTID'),\n",
              "  ('Company Name', 'connected_to_City', 'City'),\n",
              "  ('Company Name', 'connected_to_State', 'State'),\n",
              "  ('City', 'connected_to_CompanyEXTID', 'CompanyEXTID'),\n",
              "  ('City', 'connected_to_Company Name', 'Company Name'),\n",
              "  ('City', 'connected_to_State', 'State'),\n",
              "  ('State', 'connected_to_CompanyEXTID', 'CompanyEXTID'),\n",
              "  ('State', 'connected_to_Company Name', 'Company Name'),\n",
              "  ('State', 'connected_to_City', 'City')],\n",
              " 'node_counts': {'CompanyEXTID': 100,\n",
              "  'Company Name': 87,\n",
              "  'City': 79,\n",
              "  'State': 36},\n",
              " 'edge_counts': {('CompanyEXTID',\n",
              "   'connected_to_Company Name',\n",
              "   'Company Name'): 100,\n",
              "  ('CompanyEXTID', 'connected_to_City', 'City'): 100,\n",
              "  ('CompanyEXTID', 'connected_to_State', 'State'): 100,\n",
              "  ('Company Name', 'connected_to_CompanyEXTID', 'CompanyEXTID'): 100,\n",
              "  ('Company Name', 'connected_to_City', 'City'): 100,\n",
              "  ('Company Name', 'connected_to_State', 'State'): 100,\n",
              "  ('City', 'connected_to_CompanyEXTID', 'CompanyEXTID'): 100,\n",
              "  ('City', 'connected_to_Company Name', 'Company Name'): 100,\n",
              "  ('City', 'connected_to_State', 'State'): 100,\n",
              "  ('State', 'connected_to_CompanyEXTID', 'CompanyEXTID'): 100,\n",
              "  ('State', 'connected_to_Company Name', 'Company Name'): 100,\n",
              "  ('State', 'connected_to_City', 'City'): 100},\n",
              " 'node_features': {'CompanyEXTID': ['x', 'mapping', 'embeddings'],\n",
              "  'Company Name': ['x', 'mapping', 'embeddings'],\n",
              "  'City': ['x', 'mapping', 'embeddings'],\n",
              "  'State': ['x', 'mapping', 'embeddings']}}"
            ]
          },
          "metadata": {},
          "execution_count": 166
        }
      ]
    },
    {
      "cell_type": "code",
      "source": [
        "# Function to query the graph using LLM\n",
        "from openai import OpenAI\n",
        "import os\n",
        "\n",
        "def query_graph(data, query):\n",
        "    # Use LLM to interpret the query and generate PyG operations\n",
        "    llm_prompt = f\"\"\"\n",
        "    You are given the following graph structure information about an existing graph containing data:\n",
        "    {data}\n",
        "\n",
        "    And the user query: \"{query}\"\n",
        "\n",
        "    Generate python code using PyTorch Geometric to query the existing graph to answer the user's question.\n",
        "    Do not use functions, only the lines.\n",
        "    The code must be only the necessary lines to run the query and print the output.\n",
        "    Start your output after the import statement 'from torch_geometric.data import HeteroData' and finish the query.\n",
        "    Use the markdown format for code blocks. Remember that the data is already populated therefore data = HeteroData() does not need to be used.\n",
        "    \"\"\"\n",
        "    key = os.environ.get('OPENAI_API_KEY')\n",
        "\n",
        "    client = OpenAI(api_key=key)\n",
        "\n",
        "    response = client.chat.completions.create(\n",
        "      model=\"gpt-4o\",\n",
        "      messages=[\n",
        "        {\"role\": \"system\", \"content\": \"You are a professional at writing torch geometric code for querying graphs. You must never provide example usage\"},\n",
        "        {\"role\": \"user\", \"content\": llm_prompt}\n",
        "      ]\n",
        "    )\n",
        "\n",
        "    print(response.choices[0].message)\n",
        "\n",
        "\n",
        "    generated_code = response.choices[0].message.content.strip()\n",
        "\n",
        "    return generated_code\n",
        "\n",
        "user_query = \"How many companies are in South Carolina?\"\n",
        "generated_code = query_graph(data, user_query)\n",
        "print(f\"Query: {user_query}\")\n",
        "print(f\"Result: {generated_code}\")"
      ],
      "metadata": {
        "colab": {
          "base_uri": "https://localhost:8080/"
        },
        "id": "lfdkj1FW9czl",
        "outputId": "cdc9c064-23fd-4975-f219-79a4bdc35275"
      },
      "execution_count": 188,
      "outputs": [
        {
          "output_type": "stream",
          "name": "stdout",
          "text": [
            "ChatCompletionMessage(content=\"```python\\nfrom torch_geometric.data import HeteroData\\n\\nstate_index = 10  # South Carolina mapping is 10\\ncompany_indices = data['CompanyEXTID', 'connected_to_State', 'State'].edge_index[0][\\n    data['CompanyEXTID', 'connected_to_State', 'State'].edge_index[1] == state_index]\\nnum_companies = len(company_indices.unique())\\nprint(num_companies)\\n```\", role='assistant', function_call=None, tool_calls=None)\n",
            "Query: How many companies are in South Carolina?\n",
            "Result: ```python\n",
            "from torch_geometric.data import HeteroData\n",
            "\n",
            "state_index = 10  # South Carolina mapping is 10\n",
            "company_indices = data['CompanyEXTID', 'connected_to_State', 'State'].edge_index[0][\n",
            "    data['CompanyEXTID', 'connected_to_State', 'State'].edge_index[1] == state_index]\n",
            "num_companies = len(company_indices.unique())\n",
            "print(num_companies)\n",
            "```\n"
          ]
        }
      ]
    },
    {
      "cell_type": "code",
      "source": [
        "final_code = generated_code.split('```python')[1].split('```')[0]\n",
        "print(final_code)"
      ],
      "metadata": {
        "colab": {
          "base_uri": "https://localhost:8080/"
        },
        "id": "hrHaaEsmCfZR",
        "outputId": "8053961a-8759-4713-8489-e7941ee2ea97"
      },
      "execution_count": 189,
      "outputs": [
        {
          "output_type": "stream",
          "name": "stdout",
          "text": [
            "\n",
            "from torch_geometric.data import HeteroData\n",
            "\n",
            "state_index = 10  # South Carolina mapping is 10\n",
            "company_indices = data['CompanyEXTID', 'connected_to_State', 'State'].edge_index[0][\n",
            "    data['CompanyEXTID', 'connected_to_State', 'State'].edge_index[1] == state_index]\n",
            "num_companies = len(company_indices.unique())\n",
            "print(num_companies)\n",
            "\n"
          ]
        }
      ]
    },
    {
      "cell_type": "code",
      "source": [
        "import ast\n",
        "ast.parse(final_code)"
      ],
      "metadata": {
        "colab": {
          "base_uri": "https://localhost:8080/"
        },
        "id": "KG5ZUhY78hTC",
        "outputId": "9d5d469c-20e0-44fd-ecb8-0293d2e7370f"
      },
      "execution_count": 199,
      "outputs": [
        {
          "output_type": "execute_result",
          "data": {
            "text/plain": [
              "<ast.Module at 0x7a17882407c0>"
            ]
          },
          "metadata": {},
          "execution_count": 199
        }
      ]
    },
    {
      "cell_type": "code",
      "source": [
        "try:\n",
        "    result = exec(final_code)\n",
        "except Exception as e:\n",
        "    print(f\"Error executing query: {str(e)}\")"
      ],
      "metadata": {
        "colab": {
          "base_uri": "https://localhost:8080/"
        },
        "id": "wdNHMpIG-HSC",
        "outputId": "9c666a4c-f9df-44f1-9f36-ae73bb0f1335"
      },
      "execution_count": 190,
      "outputs": [
        {
          "output_type": "stream",
          "name": "stdout",
          "text": [
            "2\n"
          ]
        }
      ]
    },
    {
      "cell_type": "markdown",
      "source": [
        "#NetworkX Conversion"
      ],
      "metadata": {
        "id": "aRf-Uzm37ABU"
      }
    },
    {
      "cell_type": "code",
      "source": [
        "import networkx as nx\n",
        "from torch_geometric.utils import to_networkx\n",
        "\n",
        "def convert_to_networkx(data):\n",
        "    G = nx.Graph()\n",
        "\n",
        "    # Add nodes\n",
        "    for node_type in data.node_types:\n",
        "        for node, idx in data[node_type].mapping.items():\n",
        "            G.add_node(f\"{node_type}_{idx}\", type=node_type, name=node)\n",
        "\n",
        "    # Add edges\n",
        "    for edge_type in data.edge_types:\n",
        "        src_type, _, dst_type = edge_type\n",
        "        edge_index = data[edge_type].edge_index\n",
        "        for i in range(edge_index.size(1)):\n",
        "            src = f\"{src_type}_{edge_index[0, i].item()}\"\n",
        "            dst = f\"{dst_type}_{edge_index[1, i].item()}\"\n",
        "            G.add_edge(src, dst)\n",
        "\n",
        "    return G\n",
        "\n",
        "G = convert_to_networkx(data)"
      ],
      "metadata": {
        "id": "BAsKkgY57DwJ"
      },
      "execution_count": 194,
      "outputs": []
    },
    {
      "cell_type": "code",
      "source": [
        "def find_companies_in_state(G, state_name):\n",
        "    state_node = next((node for node, attr in G.nodes(data=True)\n",
        "                       if attr['type'] == 'State' and attr['name'] == state_name), None)\n",
        "    if not state_node:\n",
        "        return []\n",
        "\n",
        "    companies = []\n",
        "    for neighbor in G.neighbors(state_node):\n",
        "        if G.nodes[neighbor]['type'] == 'CompanyEXTID':\n",
        "            company_name_node = next((n for n in G.neighbors(neighbor)\n",
        "                                      if G.nodes[n]['type'] == 'Company Name'), None)\n",
        "            if company_name_node:\n",
        "                companies.append(G.nodes[company_name_node]['name'])\n",
        "\n",
        "    return companies\n",
        "\n",
        "def find_company_info(G, company_name):\n",
        "    company_node = next((node for node, attr in G.nodes(data=True)\n",
        "                         if attr['type'] == 'Company Name' and attr['name'] == company_name), None)\n",
        "    if not company_node:\n",
        "        return None\n",
        "\n",
        "    info = {'name': company_name, 'city': None, 'state': None}\n",
        "    for neighbor in G.neighbors(company_node):\n",
        "        neighbor_type = G.nodes[neighbor]['type']\n",
        "        if neighbor_type == 'City':\n",
        "            info['city'] = G.nodes[neighbor]['name']\n",
        "        elif neighbor_type == 'State':\n",
        "            info['state'] = G.nodes[neighbor]['name']\n",
        "\n",
        "    return info\n",
        "\n",
        "def find_companies_in_city(G, city_name):\n",
        "    city_node = next((node for node, attr in G.nodes(data=True)\n",
        "                      if attr['type'] == 'City' and attr['name'] == city_name), None)\n",
        "    if not city_node:\n",
        "        return []\n",
        "\n",
        "    companies = []\n",
        "    for neighbor in G.neighbors(city_node):\n",
        "        if G.nodes[neighbor]['type'] == 'Company Name':\n",
        "            companies.append(G.nodes[neighbor]['name'])\n",
        "\n",
        "    return companies"
      ],
      "metadata": {
        "id": "4E08QQdL7Ii1"
      },
      "execution_count": 195,
      "outputs": []
    },
    {
      "cell_type": "code",
      "source": [
        "# Find companies in a state\n",
        "illinois_companies = find_companies_in_state(G, 'Illinois')\n",
        "print(\"Companies in Illinois:\", illinois_companies)\n",
        "\n",
        "# Find information about a specific company\n",
        "company_info = find_company_info(G, 'Yadel')\n",
        "print(\"Yadel info:\", company_info)\n",
        "\n",
        "# Find companies in a city\n",
        "seattle_companies = find_companies_in_city(G, 'Seattle')\n",
        "print(\"Companies in Seattle:\", seattle_companies)"
      ],
      "metadata": {
        "colab": {
          "base_uri": "https://localhost:8080/"
        },
        "id": "NsHPU0MV7obC",
        "outputId": "3eeccaf1-40db-439d-9537-3c035b1bf71c"
      },
      "execution_count": 196,
      "outputs": [
        {
          "output_type": "stream",
          "name": "stdout",
          "text": [
            "Companies in Illinois: ['Aibox', 'Rhycero', 'Realbridge', 'Talane', 'Midel']\n",
            "Yadel info: {'name': 'Yadel', 'city': 'Cheyenne', 'state': 'Wyoming'}\n",
            "Companies in Seattle: ['Trudeo', 'Fivespan', 'Realbuzz', 'Ntag']\n"
          ]
        }
      ]
    },
    {
      "cell_type": "markdown",
      "source": [
        "#Modularize this approach"
      ],
      "metadata": {
        "id": "2906OXRq84OW"
      }
    },
    {
      "cell_type": "code",
      "source": [
        "def get_graph_summary(G):\n",
        "    summary = {\n",
        "        \"node_types\": set(),\n",
        "        \"edge_types\": set(),\n",
        "        \"node_attributes\": {},\n",
        "        \"node_counts\": {},\n",
        "    }\n",
        "    for node, data in G.nodes(data=True):\n",
        "        node_type = data.get('type')\n",
        "        summary[\"node_types\"].add(node_type)\n",
        "        summary[\"node_counts\"][node_type] = summary[\"node_counts\"].get(node_type, 0) + 1\n",
        "        if node_type not in summary[\"node_attributes\"]:\n",
        "            summary[\"node_attributes\"][node_type] = set(data.keys()) - {'type'}\n",
        "\n",
        "    for u, v, data in G.edges(data=True):\n",
        "        summary[\"edge_types\"].add((G.nodes[u]['type'], G.nodes[v]['type']))\n",
        "\n",
        "    return summary"
      ],
      "metadata": {
        "id": "JQ6Gg6yM86Ie"
      },
      "execution_count": 200,
      "outputs": []
    },
    {
      "cell_type": "code",
      "source": [
        "from pprint import pprint\n",
        "import os\n",
        "def query_graph(G, query):\n",
        "    graph_summary = get_graph_summary(G)\n",
        "\n",
        "    llm_prompt = f\"\"\"\n",
        "    Given the following graph structure:\n",
        "    Node types: {graph_summary['node_types']}\n",
        "    Edge types: {graph_summary['edge_types']}\n",
        "    Node attributes: {graph_summary['node_attributes']}\n",
        "    Node counts: {graph_summary['node_counts']}\n",
        "\n",
        "    And the user's question: \"{query}\"\n",
        "\n",
        "    Generate a Python function that queries the NetworkX graph G to answer this question.\n",
        "    The function should be named 'query_graph' and take the graph G as its only parameter.\n",
        "    Use NetworkX functions to traverse the graph and collect the necessary information.\n",
        "    Make sure to handle potential errors and edge cases.\n",
        "    The function should return the answer as a string.\n",
        "\n",
        "    Here's a template to start with:\n",
        "    <example>\n",
        "    Q: What are the names of the companies in Illinois?\n",
        "    A:\n",
        "    def find_companies_in_state(G, state_name):\n",
        "        state_node = next((node for node, attr in G.nodes(data=True)\n",
        "                          if attr['type'] == 'State' and attr['name'] == state_name), None)\n",
        "        if not state_node:\n",
        "            return []\n",
        "\n",
        "        companies = []\n",
        "        for neighbor in G.neighbors(state_node):\n",
        "            if G.nodes[neighbor]['type'] == 'CompanyEXTID':\n",
        "                company_name_node = next((n for n in G.neighbors(neighbor)\n",
        "                                          if G.nodes[n]['type'] == 'Company Name'), None)\n",
        "                if company_name_node:\n",
        "                    companies.append(G.nodes[company_name_node]['name'])\n",
        "\n",
        "        return companies\n",
        "\n",
        "    def find_company_info(G, company_name):\n",
        "        company_node = next((node for node, attr in G.nodes(data=True)\n",
        "                            if attr['type'] == 'Company Name' and attr['name'] == company_name), None)\n",
        "        if not company_node:\n",
        "            return None\n",
        "\n",
        "        info = {{'name': company_name, 'city': None, 'state': None}}\n",
        "        for neighbor in G.neighbors(company_node):\n",
        "            neighbor_type = G.nodes[neighbor]['type']\n",
        "            if neighbor_type == 'City':\n",
        "                info['city'] = G.nodes[neighbor]['name']\n",
        "            elif neighbor_type == 'State':\n",
        "                info['state'] = G.nodes[neighbor]['name']\n",
        "\n",
        "        return info\n",
        "\n",
        "    def find_companies_in_city(G, city_name):\n",
        "        city_node = next((node for node, attr in G.nodes(data=True)\n",
        "                          if attr['type'] == 'City' and attr['name'] == city_name), None)\n",
        "        if not city_node:\n",
        "            return []\n",
        "\n",
        "        companies = []\n",
        "        for neighbor in G.neighbors(city_node):\n",
        "            if G.nodes[neighbor]['type'] == 'Company Name':\n",
        "                companies.append(G.nodes[neighbor]['name'])\n",
        "\n",
        "        return companies\n",
        "    </example>\n",
        "    Use the markdown format for code blocks. You must NEVER provide example usage. Code only line by line, do not use functions.\n",
        "    \"\"\"\n",
        "    key = os.environ.get('OPENAI_API_KEY')\n",
        "\n",
        "    client = OpenAI(api_key=key)\n",
        "\n",
        "    response = client.chat.completions.create(\n",
        "      model=\"gpt-4o\",\n",
        "      messages=[\n",
        "        {\"role\": \"system\", \"content\": \"You are a professional at writing torch geometric code for querying graphs. You must never provide example usage\"},\n",
        "        {\"role\": \"user\", \"content\": llm_prompt}\n",
        "      ]\n",
        "    )\n",
        "\n",
        "    print(response.choices[0].message)\n",
        "\n",
        "\n",
        "    generated_code = response.choices[0].message.content.strip()\n",
        "    code = generated_code.split('```python')[1].split('```')[0]\n",
        "    # Uncomment for debug pprint(code)\n",
        "\n",
        "    return code"
      ],
      "metadata": {
        "id": "b9C87X119BYQ"
      },
      "execution_count": 236,
      "outputs": []
    },
    {
      "cell_type": "code",
      "source": [
        "import ast\n",
        "\n",
        "def execute_query(G, question):\n",
        "    generated_code = query_graph(G, question)\n",
        "\n",
        "    # Extract the function from the generated code\n",
        "    tree = ast.parse(generated_code)\n",
        "    function_def = next((node for node in ast.walk(tree) if isinstance(node, ast.FunctionDef)), None)\n",
        "\n",
        "    if function_def is None:\n",
        "        return \"Error: Could not generate a valid query function.\"\n",
        "\n",
        "    # Compile and execute the function\n",
        "    exec(compile(ast.Module(body=[function_def], type_ignores=[]), filename=\"<ast>\", mode=\"exec\"), globals())\n",
        "\n",
        "    try:\n",
        "        # Call the generated function\n",
        "        result = query_graph(G)\n",
        "        return result\n",
        "    except Exception as e:\n",
        "        return f\"Error executing query: {str(e)}\""
      ],
      "metadata": {
        "id": "nVIYpW7e934E"
      },
      "execution_count": 237,
      "outputs": []
    },
    {
      "cell_type": "code",
      "source": [
        "def answer_question(data, question):\n",
        "    G = convert_to_networkx(data)\n",
        "    answer = execute_query(G, question)\n",
        "\n",
        "    return answer"
      ],
      "metadata": {
        "id": "SYGwIY569zHk"
      },
      "execution_count": 238,
      "outputs": []
    },
    {
      "cell_type": "code",
      "source": [
        "question = \"How many companies are in South Carolina?\"\n",
        "result = answer_question(data, question)\n",
        "print(f\"Question: {question}\")\n",
        "print(f\"Answer: {result}\")"
      ],
      "metadata": {
        "colab": {
          "base_uri": "https://localhost:8080/"
        },
        "id": "LYYUinDj_NFT",
        "outputId": "93eb0c6b-dc43-48f9-e3c6-9304f43c2944"
      },
      "execution_count": 230,
      "outputs": [
        {
          "output_type": "stream",
          "name": "stdout",
          "text": [
            "ChatCompletionMessage(content='```python\\nimport networkx as nx\\n\\ndef query_graph(G):\\n    # Find the node for the state \\'South Carolina\\'\\n    state_node = next((node for node, attr in G.nodes(data=True) \\n                      if attr[\\'type\\'] == \\'State\\' and attr[\\'name\\'] == \\'South Carolina\\'), None)\\n    \\n    if not state_node:\\n        return \"South Carolina not found in the graph.\"\\n    \\n    # Count the number of companies connected to the state node\\n    company_count = 0\\n    for neighbor in G.neighbors(state_node):\\n        if G.nodes[neighbor][\\'type\\'] == \\'CompanyEXTID\\':\\n            company_count += 1\\n    \\n    return f\"There are {company_count} companies in South Carolina.\"\\n```', role='assistant', function_call=None, tool_calls=None)\n",
            "('\\n'\n",
            " 'import networkx as nx\\n'\n",
            " '\\n'\n",
            " 'def query_graph(G):\\n'\n",
            " \"    # Find the node for the state 'South Carolina'\\n\"\n",
            " '    state_node = next((node for node, attr in G.nodes(data=True) \\n'\n",
            " \"                      if attr['type'] == 'State' and attr['name'] == 'South \"\n",
            " \"Carolina'), None)\\n\"\n",
            " '    \\n'\n",
            " '    if not state_node:\\n'\n",
            " '        return \"South Carolina not found in the graph.\"\\n'\n",
            " '    \\n'\n",
            " '    # Count the number of companies connected to the state node\\n'\n",
            " '    company_count = 0\\n'\n",
            " '    for neighbor in G.neighbors(state_node):\\n'\n",
            " \"        if G.nodes[neighbor]['type'] == 'CompanyEXTID':\\n\"\n",
            " '            company_count += 1\\n'\n",
            " '    \\n'\n",
            " '    return f\"There are {company_count} companies in South Carolina.\"\\n')\n",
            "Question: How many companies are in South Carolina?\n",
            "Answer: There are 2 companies in South Carolina.\n"
          ]
        }
      ]
    },
    {
      "cell_type": "code",
      "source": [
        "question = \"What are the names of the companies in Illinois?\"\n",
        "result = answer_question(data, question)\n",
        "print(f\"Question: {question}\")\n",
        "print(f\"Answer: {result}\")"
      ],
      "metadata": {
        "colab": {
          "base_uri": "https://localhost:8080/"
        },
        "id": "3R34mTjZADy_",
        "outputId": "249ad79a-55d1-4abe-983d-2e9ba6be325f"
      },
      "execution_count": 233,
      "outputs": [
        {
          "output_type": "stream",
          "name": "stdout",
          "text": [
            "ChatCompletionMessage(content='```python\\ndef query_graph(G):\\n    state_node = next((node for node, attr in G.nodes(data=True)\\n                       if attr[\\'type\\'] == \\'State\\' and attr[\\'name\\'] == \\'Illinois\\'), None)\\n    if not state_node:\\n        return \"State not found.\"\\n\\n    companies = []\\n    for neighbor in G.neighbors(state_node):\\n        if G.nodes[neighbor][\\'type\\'] == \\'CompanyEXTID\\':\\n            company_name_node = next((n for n in G.neighbors(neighbor)\\n                                      if G.nodes[n][\\'type\\'] == \\'Company Name\\'), None)\\n            if company_name_node:\\n                companies.append(G.nodes[company_name_node][\\'name\\'])\\n\\n    if not companies:\\n        return \"No companies found in Illinois.\"\\n    return \\', \\'.join(companies)\\n```', role='assistant', function_call=None, tool_calls=None)\n",
            "Question: What are the names of the companies in Illinois?\n",
            "Answer: Aibox, Rhycero, Realbridge, Talane, Midel\n"
          ]
        }
      ]
    },
    {
      "cell_type": "code",
      "source": [
        "question = \"What city has the most companies?\"\n",
        "result = answer_question(data, question)\n",
        "print(f\"Question: {question}\")\n",
        "print(f\"Answer: {result}\")"
      ],
      "metadata": {
        "colab": {
          "base_uri": "https://localhost:8080/"
        },
        "id": "ZJ5lXAvfAd77",
        "outputId": "aa10489e-96e6-41c9-e601-f66914b66a5e"
      },
      "execution_count": 239,
      "outputs": [
        {
          "output_type": "stream",
          "name": "stdout",
          "text": [
            "ChatCompletionMessage(content='```python\\nimport networkx as nx\\n\\ndef query_graph(G):\\n    city_company_count = {}\\n\\n    for company_node, company_attr in G.nodes(data=True):\\n        if company_attr[\\'type\\'] == \\'CompanyEXTID\\':\\n            city_node = next((neighbor for neighbor in G.neighbors(company_node) \\n                              if G.nodes[neighbor][\\'type\\'] == \\'City\\'), None)\\n            if city_node:\\n                city_name = G.nodes[city_node][\\'name\\']\\n                if city_name in city_company_count:\\n                    city_company_count[city_name] += 1\\n                else:\\n                    city_company_count[city_name] = 1\\n\\n    if not city_company_count:\\n        return \"No cities with companies found.\"\\n\\n    max_city = max(city_company_count, key=city_company_count.get)\\n    return max_city\\n```', role='assistant', function_call=None, tool_calls=None)\n",
            "Question: What city has the most companies?\n",
            "Answer: Seattle\n"
          ]
        }
      ]
    },
    {
      "cell_type": "code",
      "source": [
        "# Lets fact check this\n",
        "df.City.value_counts()"
      ],
      "metadata": {
        "colab": {
          "base_uri": "https://localhost:8080/"
        },
        "id": "TcQRVtjsAyzd",
        "outputId": "68d594a2-c9d6-40ad-fa1d-851e839b18d2"
      },
      "execution_count": 242,
      "outputs": [
        {
          "output_type": "execute_result",
          "data": {
            "text/plain": [
              "City\n",
              "Seattle          4\n",
              "Greensboro       3\n",
              "Charleston       3\n",
              "San Francisco    2\n",
              "Cincinnati       2\n",
              "                ..\n",
              "Stamford         1\n",
              "Aurora           1\n",
              "Shreveport       1\n",
              "Savannah         1\n",
              "Evanston         1\n",
              "Name: count, Length: 79, dtype: int64"
            ]
          },
          "metadata": {},
          "execution_count": 242
        }
      ]
    },
    {
      "cell_type": "markdown",
      "source": [
        "#Leverage Embeddings"
      ],
      "metadata": {
        "id": "BXwL2GKItdwM"
      }
    },
    {
      "cell_type": "code",
      "source": [
        "import torch.nn.functional as F\n",
        "\n",
        "def find_similar_nodes(node_type, node_name, top_k=5):\n",
        "    node_idx = data[node_type].mapping[node_name]\n",
        "    node_embedding = data[node_type].embeddings[node_idx]\n",
        "\n",
        "    similarities = F.cosine_similarity(node_embedding.unsqueeze(0), data[node_type].embeddings)\n",
        "    top_similarities, top_indices = similarities.topk(top_k + 1)  # +1 because the node will be similar to itself\n",
        "\n",
        "    print(f\"Nodes most similar to {node_name}:\")\n",
        "    for i in range(1, len(top_indices)):  # Start from 1 to skip the node itself\n",
        "        similar_node = list(data[node_type].mapping.keys())[top_indices[i]]\n",
        "        print(f\"{similar_node}: {top_similarities[i].item():.4f}\")\n",
        "\n",
        "# Example usage\n",
        "find_similar_nodes('Company Name', 'Mudo')"
      ],
      "metadata": {
        "colab": {
          "base_uri": "https://localhost:8080/"
        },
        "id": "yAtuJwU9tfw1",
        "outputId": "5d804339-03dd-44af-e5cf-d21e953c0bf1"
      },
      "execution_count": 80,
      "outputs": [
        {
          "output_type": "stream",
          "name": "stdout",
          "text": [
            "Nodes most similar to Mudo:\n",
            "Skidoo: 0.6233\n",
            "Kayveo: 0.5612\n",
            "Oyoloo: 0.5063\n",
            "Skajo: 0.5031\n",
            "Rhycero: 0.4679\n"
          ]
        }
      ]
    },
    {
      "cell_type": "markdown",
      "source": [
        "#Visualization"
      ],
      "metadata": {
        "id": "sCIM1s4NtMvC"
      }
    },
    {
      "cell_type": "code",
      "source": [
        "import torch\n",
        "import networkx as nx\n",
        "import matplotlib.pyplot as plt\n",
        "from torch_geometric.utils import to_networkx\n",
        "\n",
        "def convert_to_networkx(data):\n",
        "    G = to_networkx(data)\n",
        "    return G\n",
        "\n",
        "G = convert_to_networkx(data)"
      ],
      "metadata": {
        "id": "TmZzbvtpAv-r"
      },
      "execution_count": 243,
      "outputs": []
    },
    {
      "cell_type": "code",
      "source": [
        "def visualize_graph(G, node_colors=None):\n",
        "    plt.figure(figsize=(12, 8))\n",
        "    pos = nx.spring_layout(G)\n",
        "    nx.draw(G, pos, node_size=50, node_color=node_colors, with_labels=False)\n",
        "    plt.title(\"Graph Visualization\")\n",
        "    plt.show()"
      ],
      "metadata": {
        "id": "zPdO9KlFsavs"
      },
      "execution_count": 244,
      "outputs": []
    },
    {
      "cell_type": "code",
      "source": [
        "node_colors = []\n",
        "for node in G.nodes():\n",
        "    if node in data['CompanyEXTID'].mapping.values():\n",
        "        node_colors.append('red')\n",
        "    elif node in data['Company Name'].mapping.values():\n",
        "        node_colors.append('blue')\n",
        "    elif node in data['City'].mapping.values():\n",
        "        node_colors.append('green')\n",
        "    elif node in data['State'].mapping.values():\n",
        "        node_colors.append('yellow')\n",
        "    else:\n",
        "        node_colors.append('gray')\n",
        "\n",
        "visualize_graph(G, node_colors)"
      ],
      "metadata": {
        "colab": {
          "base_uri": "https://localhost:8080/",
          "height": 879
        },
        "id": "qNy-EL-Vsjbj",
        "outputId": "b1b07dd8-96a3-421f-cfaa-17c7a7f6b6d6"
      },
      "execution_count": 245,
      "outputs": [
        {
          "output_type": "display_data",
          "data": {
            "text/plain": [
              "<Figure size 1200x800 with 1 Axes>"
            ],
            "image/png": "[encoded data removed]"
          },
          "metadata": {}
        }
      ]
    }
  ]
}