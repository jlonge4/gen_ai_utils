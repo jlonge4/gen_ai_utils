{
  "nbformat": 4,
  "nbformat_minor": 0,
  "metadata": {
    "colab": {
      "provenance": [],
      "machine_shape": "hm",
      "gpuType": "T4",
      "authorship_tag": "ABX9TyOLR0aGfxWOUDwYA5UlPqdH",
      "include_colab_link": true
    },
    "kernelspec": {
      "name": "python3",
      "display_name": "Python 3"
    },
    "language_info": {
      "name": "python"
    },
    "accelerator": "GPU"
  },
  "cells": [
    {
      "cell_type": "markdown",
      "metadata": {
        "id": "view-in-github",
        "colab_type": "text"
      },
      "source": [
        "<a href=\"https://colab.research.google.com/github/jlonge4/gen_ai_utils/blob/main/qdrant.ipynb\" target=\"_parent\"><img src=\"https://colab.research.google.com/assets/colab-badge.svg\" alt=\"Open In Colab\"/></a>"
      ]
    },
    {
      "cell_type": "code",
      "execution_count": null,
      "metadata": {
        "id": "2i_2V5kHrMFO"
      },
      "outputs": [],
      "source": [
        "pip install -qU langchain openai faiss-cpu sentence_transformers qdrant-client==1.4.0 --quiet"
      ]
    },
    {
      "cell_type": "code",
      "source": [
        "# from langchain import OpenAI\n",
        "from langchain.chat_models import ChatOpenAI\n",
        "import os\n",
        "import openai\n",
        "\n",
        "key = 'key'\n",
        "llm = ChatOpenAI(\n",
        "    openai_api_key=key,\n",
        "    temperature=0,\n",
        "    model_name=\"gpt-3.5-turbo\"\n",
        ")"
      ],
      "metadata": {
        "id": "7eHcV6w_rb_y"
      },
      "execution_count": null,
      "outputs": []
    },
    {
      "cell_type": "code",
      "source": [
        "from langchain.embeddings.sentence_transformer import SentenceTransformerEmbeddings\n",
        "\n",
        "embedding_function = SentenceTransformerEmbeddings(model_name=\"all-MiniLM-L6-v2\")\n"
      ],
      "metadata": {
        "id": "14LltcEarlzi"
      },
      "execution_count": null,
      "outputs": []
    },
    {
      "cell_type": "code",
      "source": [
        "# from sentence_transformers import SentenceTransformer\n",
        "# # initialize sentence transformer model\n",
        "# model = SentenceTransformer('bert-base-nli-mean-tokens')\n",
        "# # create sentence embeddings\n"
      ],
      "metadata": {
        "id": "hwzYAiy8h5hv"
      },
      "execution_count": null,
      "outputs": []
    },
    {
      "cell_type": "code",
      "source": [
        "from langchain.schema import Document\n",
        "from langchain.document_loaders import WebBaseLoader\n",
        "\n",
        "two_web_links = [\"https://www.databricks.com/\",\"https://help.databricks.com\",\"https://databricks.com/try-databricks\",\"https://help.databricks.com/s/\",\"https://docs.databricks.com\",\"https://kb.databricks.com/\",\"http://docs.databricks.com/getting-started/index.html\",\"http://docs.databricks.com/introduction/index.html\",\"http://docs.databricks.com/getting-started/tutorials/index.html\",\"http://docs.databricks.com/release-notes/index.html\",\"http://docs.databricks.com/ingestion/index.html\",\"http://docs.databricks.com/exploratory-data-analysis/index.html\",\"http://docs.databricks.com/data-preparation/index.html\",\"http://docs.databricks.com/data-sharing/index.html\",\"http://docs.databricks.com/marketplace/index.html\",\"http://docs.databricks.com/workspace-index.html\",\"http://docs.databricks.com/machine-learning/index.html\",\"http://docs.databricks.com/sql/index.html\",\"http://docs.databricks.com/delta/index.html\",\"http://docs.databricks.com/dev-tools/index.html\",\"http://docs.databricks.com/integrations/index.html\",\"http://docs.databricks.com/administration-guide/index.html\",\"http://docs.databricks.com/security/index.html\",\"http://docs.databricks.com/data-governance/index.html\",\"http://docs.databricks.com/lakehouse-architecture/index.html\",\"http://docs.databricks.com/reference/api.html\",\"http://docs.databricks.com/resources/index.html\",\"http://docs.databricks.com/whats-coming.html\",\"http://docs.databricks.com/archive/index.html\",\"http://docs.databricks.com/lakehouse/index.html\",\"http://docs.databricks.com/getting-started/quick-start.html\",\"http://docs.databricks.com/getting-started/etl-quick-start.html\",\"http://docs.databricks.com/getting-started/lakehouse-e2e.html\",\"http://docs.databricks.com/getting-started/free-training.html\",\"http://docs.databricks.com/sql/language-manual/index.html\",\"http://docs.databricks.com/error-messages/index.html\",\"http://www.apache.org/\",\"https://databricks.com/privacy-policy\",\"https://databricks.com/terms-of-use\"]\n",
        "web_links = [\"https://www.pinecone.io/learn/vector-embeddings/\", \"https://www.featureform.com/post/the-definitive-guide-to-embeddings\"]\n",
        "loader = WebBaseLoader(two_web_links)\n",
        "documents = loader.load()"
      ],
      "metadata": {
        "id": "nbdLOf9gfWLl"
      },
      "execution_count": null,
      "outputs": []
    },
    {
      "cell_type": "code",
      "source": [
        "from importlib.metadata import metadata\n",
        "from langchain.text_splitter import RecursiveCharacterTextSplitter\n",
        "\n",
        "text_splitter = RecursiveCharacterTextSplitter(chunk_size=1000, chunk_overlap=20)\n",
        "all_splits = text_splitter.split_documents(documents)"
      ],
      "metadata": {
        "id": "malCge8zfdIq"
      },
      "execution_count": null,
      "outputs": []
    },
    {
      "cell_type": "code",
      "source": [
        "docs = []\n",
        "for d in all_splits:\n",
        "  docs.append(d.page_content)"
      ],
      "metadata": {
        "id": "oOae0Y_PisZD"
      },
      "execution_count": null,
      "outputs": []
    },
    {
      "cell_type": "code",
      "source": [
        "embeddings = model.encode(docs)\n"
      ],
      "metadata": {
        "id": "atM6b97akMeW"
      },
      "execution_count": null,
      "outputs": []
    },
    {
      "cell_type": "code",
      "source": [
        "embeddings.shape"
      ],
      "metadata": {
        "id": "lrHIbEpzwYwu",
        "colab": {
          "base_uri": "https://localhost:8080/"
        },
        "outputId": "9a4747fa-efc0-4a96-ff93-aa7ac2ff8777"
      },
      "execution_count": null,
      "outputs": [
        {
          "output_type": "execute_result",
          "data": {
            "text/plain": [
              "(522, 768)"
            ]
          },
          "metadata": {},
          "execution_count": 9
        }
      ]
    },
    {
      "cell_type": "code",
      "source": [
        "from langchain.vectorstores import Qdrant"
      ],
      "metadata": {
        "id": "dXwMAQU9lq3V"
      },
      "execution_count": null,
      "outputs": []
    },
    {
      "cell_type": "code",
      "source": [
        "# langchain implementation\n",
        "qdrant = Qdrant.from_documents(\n",
        "    all_splits,\n",
        "    embedding_function,\n",
        "    path=\"local_qd\",\n",
        "    collection_name=\"my_documents\",\n",
        ")"
      ],
      "metadata": {
        "id": "zDtAufDVj6uH"
      },
      "execution_count": null,
      "outputs": []
    },
    {
      "cell_type": "code",
      "source": [
        "# # re-initialize index for use from disk\n",
        "# from qdrant_client import QdrantClient\n",
        "\n",
        "# client = QdrantClient(path='test_qd')\n",
        "# # qdrant = Qdrant(client, collection_name=\"my_documents\", embedding_function=model)"
      ],
      "metadata": {
        "id": "7yjmiVkO9ecd"
      },
      "execution_count": null,
      "outputs": []
    },
    {
      "cell_type": "code",
      "source": [
        "# # Prepare your documents, metadata, and IDs\n",
        "# docs = all_splits\n",
        "# # metadatas = [\n",
        "# #     {\"source\": \"Langchain-docs\"},\n",
        "# #     {\"source\": \"Linkedin-docs\"},\n",
        "# # ]\n",
        "# # ids = [42, 2]\n",
        "\n",
        "# # Use the new add method\n",
        "# client.add(collection_name=\"test_qd\", docs={\"documents\": docs, \"metadatas\": [], \"ids\": 0})\n",
        "\n",
        "# search_result = client.query(collection_name=\"test_qd\", query_texts=[\"This is a query document\"])\n",
        "# print(search_result)"
      ],
      "metadata": {
        "id": "oLBuNZ2THnqi"
      },
      "execution_count": null,
      "outputs": []
    },
    {
      "cell_type": "code",
      "source": [
        "question = 'What is databricks used for?'"
      ],
      "metadata": {
        "id": "BQ5tFziW1-oX"
      },
      "execution_count": null,
      "outputs": []
    },
    {
      "cell_type": "code",
      "source": [
        "from qdrant_client.http import models\n",
        "filter = models.Filter(should=[models.FieldCondition(key='metadata.source',\n",
        "                                          match=models.MatchValue(value=\"http://docs.databricks.com/introduction/index.html\"))])"
      ],
      "metadata": {
        "id": "oaTCzzd1nvSy"
      },
      "execution_count": null,
      "outputs": []
    },
    {
      "cell_type": "code",
      "source": [
        "%%time\n",
        "q = qdrant.similarity_search_with_relevance_scores(question, filter=filter)"
      ],
      "metadata": {
        "id": "fIZepw4or5Xl",
        "colab": {
          "base_uri": "https://localhost:8080/"
        },
        "outputId": "8afcc00d-09d8-45d1-930e-66335ced388c"
      },
      "execution_count": null,
      "outputs": [
        {
          "output_type": "stream",
          "name": "stdout",
          "text": [
            "CPU times: user 14.9 ms, sys: 6.51 ms, total: 21.4 ms\n",
            "Wall time: 17.1 ms\n"
          ]
        }
      ]
    },
    {
      "cell_type": "code",
      "source": [
        "%%time\n",
        "query = qdrant.similarity_search_with_relevance_scores(question)"
      ],
      "metadata": {
        "colab": {
          "base_uri": "https://localhost:8080/"
        },
        "id": "Th2FbCwv08Zs",
        "outputId": "05a5dade-7d05-49bc-b679-94db4015f234"
      },
      "execution_count": null,
      "outputs": [
        {
          "output_type": "stream",
          "name": "stdout",
          "text": [
            "CPU times: user 11.2 ms, sys: 4.15 ms, total: 15.4 ms\n",
            "Wall time: 12 ms\n"
          ]
        }
      ]
    },
    {
      "cell_type": "code",
      "source": [
        "from pprint import pprint\n",
        "pprint('Without Filtering: ')\n",
        "pprint(query[0][0].metadata['source'])\n",
        "pprint(query[0])\n",
        "pprint('\\n')\n",
        "pprint('Filtered: ')\n",
        "pprint(q[0][0].metadata['source'])\n",
        "pprint(q[0])"
      ],
      "metadata": {
        "colab": {
          "base_uri": "https://localhost:8080/"
        },
        "id": "P9iVzF__mE5Y",
        "outputId": "f46092e8-1e96-460d-f3eb-6e181be39d79"
      },
      "execution_count": null,
      "outputs": [
        {
          "output_type": "stream",
          "name": "stdout",
          "text": [
            "'Without Filtering: '\n",
            "'http://docs.databricks.com/getting-started/quick-start.html'\n",
            "(Document(page_content='What is Databricks?\\nNavigate the workspace\\nIntroduction to Databricks notebooks and Visualizations in Databricks notebooks\\nLibraries\\nClusters and Introduction to Databricks Workflows\\nLoad data using the add data UI and Create or modify a table using file upload\\nDiscover and manage data using Data Explorer\\nDeveloper tools and guidance\\nTechnology partners\\n\\n\\n\\n\\n\\n\\n\\n\\n\\n\\n\\n\\n\\n\\n\\n\\n\\n\\n\\n\\n\\n\\n\\n\\n\\n\\n          © Databricks 2023. All rights reserved. Apache, Apache Spark, Spark, and the Spark logo are trademarks of the Apache Software Foundation.\\n      \\n\\nSend us feedback\\n        \\n     | Privacy Policy | Terms of Use', metadata={'source': 'http://docs.databricks.com/getting-started/quick-start.html', 'title': 'Tutorial: Query data with notebooks | Databricks on AWS', 'description': 'Learn data science basics on Databricks. Create a cluster, run a notebook, create a table, and query and display data.', 'language': 'en-US'}),\n",
            " 0.7715290836816433)\n",
            "'\\n'\n",
            "'Filtered: '\n",
            "'http://docs.databricks.com/introduction/index.html'\n",
            "(Document(page_content='Reference\\nResources\\nWhat’s coming?\\nDocumentation archive\\n\\n\\n\\n\\n    Updated Aug 18, 2023\\n  \\n\\n\\nSend us feedback\\n\\n\\n\\n\\n\\n\\n\\n\\n\\n\\nDocumentation \\nWhat is Databricks?\\n\\n\\n\\n\\n\\n\\n\\nWhat is Databricks? \\nDatabricks is a unified, open analytics platform for building, deploying, sharing, and maintaining enterprise-grade data, analytics, and AI solutions at scale. The Databricks Lakehouse Platform integrates with cloud storage and security in your cloud account, and manages and deploys cloud infrastructure on your behalf.\\n\\nWhat is Databricks used for? \\nOur customers use Databricks to process, store, clean, share, analyze, model, and monetize their datasets with solutions from BI to machine learning. Use the Databricks platform to build and deploy data engineering workflows, machine learning models, analytics dashboards, and more.\\nThe Databricks workspace provides a unified interface and tools for most data tasks, including:', metadata={'source': 'http://docs.databricks.com/introduction/index.html', 'title': 'What is Databricks? | Databricks on AWS', 'description': '‘Learn what Databricks is and what it is used for: tools and use cases of the Databricks Lakehouse Platform.’', 'language': 'en-US'}),\n",
            " 0.7448413505014411)\n"
          ]
        }
      ]
    },
    {
      "cell_type": "code",
      "source": [
        "# ask question before relevant docs are added\n",
        "Q2 = \"How are embeddings created?\"\n",
        "qdrant.similarity_search_with_relevance_scores(Q2, k=2)\n"
      ],
      "metadata": {
        "colab": {
          "base_uri": "https://localhost:8080/"
        },
        "id": "KLD9HwE_ArSq",
        "outputId": "4e3da927-534b-45e8-b0b1-4fb5c2f24da0"
      },
      "execution_count": null,
      "outputs": [
        {
          "output_type": "execute_result",
          "data": {
            "text/plain": [
              "[(Document(page_content='External locations can be defined as an entire storage container, but often point to a directory nested in a container.\\nThe correct format for an external location path is \"s3://bucket-name/path/to/external_location\".', metadata={'source': 'http://docs.databricks.com/getting-started/lakehouse-e2e.html', 'title': 'Tutorial: Run an end-to-end lakehouse analytics pipeline | Databricks on AWS', 'description': 'Run your first end-to-end analytics pipeline in the Databricks Lakehouse.', 'language': 'en-US'}),\n",
              "  0.17959470297373423),\n",
              " (Document(page_content='be an infringer of our or any third party’s intellectual property rights of any kind whatsoever.You agree that you will not, and will not allow or authorize any third party to, post Submissions containing:Anything that is or may be (a) threatening, harassing, degrading, abusive or hateful; (b) an incitement to violence, terrorism or other wrongdoing; (c) defamatory or libelous; (d) invasive of privacy rights; (e) fraudulent, deceptive, impersonating of any person or entity, or misrepresentative of your affiliation with any person or entity; (f) obscene, pornographic, indecent, grotesque or otherwise objectionable; or (g) protected by copyright, trademark, confidentiality obligations, or other proprietary or privacy right without the express prior written consent of the owner of such right.Any material, the posting or usage of which would give rise to criminal or civil liability, or cause violation of any rules or regulations, or that encourages conduct that constitutes a criminal', metadata={'source': 'https://databricks.com/terms-of-use', 'title': 'Terms of Use | Databricks', 'description': 'Website Terms of Use These terms of use (“Terms”) govern your access to and use of all Databricks-branded publicly available websites, including sites located on databricks.com (other than *.cloud.databricks.com and help.databricks.com), as well as spark-summit.org, and spark-packages.org and any other pages that link to these Terms (collectively, the “Sites”).', 'language': 'en-US'}),\n",
              "  0.17907207311260198)]"
            ]
          },
          "metadata": {},
          "execution_count": 30
        }
      ]
    },
    {
      "cell_type": "code",
      "source": [
        "qdrant.client.count(\n",
        "    collection_name=\"my_documents\",\n",
        "    exact=True\n",
        ")"
      ],
      "metadata": {
        "colab": {
          "base_uri": "https://localhost:8080/"
        },
        "id": "yFDJFhLPF53m",
        "outputId": "de4308eb-15dd-44ca-a39d-4c9de14191dd"
      },
      "execution_count": null,
      "outputs": [
        {
          "output_type": "execute_result",
          "data": {
            "text/plain": [
              "CountResult(count=522)"
            ]
          },
          "metadata": {},
          "execution_count": 31
        }
      ]
    },
    {
      "cell_type": "code",
      "source": [
        "from langchain.schema import Document\n",
        "from langchain.document_loaders import WebBaseLoader\n",
        "\n",
        "two_web_links = [\"https://www.databricks.com/\",\"https://help.databricks.com\",\"https://databricks.com/try-databricks\",\"https://help.databricks.com/s/\",\"https://docs.databricks.com\",\"https://kb.databricks.com/\",\"http://docs.databricks.com/getting-started/index.html\",\"http://docs.databricks.com/introduction/index.html\",\"http://docs.databricks.com/getting-started/tutorials/index.html\",\"http://docs.databricks.com/release-notes/index.html\",\"http://docs.databricks.com/ingestion/index.html\",\"http://docs.databricks.com/exploratory-data-analysis/index.html\",\"http://docs.databricks.com/data-preparation/index.html\",\"http://docs.databricks.com/data-sharing/index.html\",\"http://docs.databricks.com/marketplace/index.html\",\"http://docs.databricks.com/workspace-index.html\",\"http://docs.databricks.com/machine-learning/index.html\",\"http://docs.databricks.com/sql/index.html\",\"http://docs.databricks.com/delta/index.html\",\"http://docs.databricks.com/dev-tools/index.html\",\"http://docs.databricks.com/integrations/index.html\",\"http://docs.databricks.com/administration-guide/index.html\",\"http://docs.databricks.com/security/index.html\",\"http://docs.databricks.com/data-governance/index.html\",\"http://docs.databricks.com/lakehouse-architecture/index.html\",\"http://docs.databricks.com/reference/api.html\",\"http://docs.databricks.com/resources/index.html\",\"http://docs.databricks.com/whats-coming.html\",\"http://docs.databricks.com/archive/index.html\",\"http://docs.databricks.com/lakehouse/index.html\",\"http://docs.databricks.com/getting-started/quick-start.html\",\"http://docs.databricks.com/getting-started/etl-quick-start.html\",\"http://docs.databricks.com/getting-started/lakehouse-e2e.html\",\"http://docs.databricks.com/getting-started/free-training.html\",\"http://docs.databricks.com/sql/language-manual/index.html\",\"http://docs.databricks.com/error-messages/index.html\",\"http://www.apache.org/\",\"https://databricks.com/privacy-policy\",\"https://databricks.com/terms-of-use\"]\n",
        "web_links = [\"https://www.pinecone.io/learn/vector-embeddings/\", \"https://www.featureform.com/post/the-definitive-guide-to-embeddings\"]\n",
        "loader = WebBaseLoader(web_links)\n",
        "documents = loader.load()"
      ],
      "metadata": {
        "id": "ow4CtK6claQA"
      },
      "execution_count": null,
      "outputs": []
    },
    {
      "cell_type": "code",
      "source": [
        "from importlib.metadata import metadata\n",
        "from langchain.text_splitter import RecursiveCharacterTextSplitter\n",
        "\n",
        "text_splitter = RecursiveCharacterTextSplitter(chunk_size=1000, chunk_overlap=20)\n",
        "all_splits = text_splitter.split_documents(documents)"
      ],
      "metadata": {
        "id": "36TdcEOKlaQB"
      },
      "execution_count": null,
      "outputs": []
    },
    {
      "cell_type": "code",
      "source": [
        "metadatas = []\n",
        "for d in all_splits:\n",
        "  #get just the metadata\n",
        "  metadatas.append(d.metadata)"
      ],
      "metadata": {
        "id": "uSD3LshepSit"
      },
      "execution_count": null,
      "outputs": []
    },
    {
      "cell_type": "code",
      "source": [
        "texts = []\n",
        "for d in all_splits:\n",
        "  # get just the text\n",
        "  texts.append(d.page_content)"
      ],
      "metadata": {
        "id": "oMeo1ZBcpxIU"
      },
      "execution_count": null,
      "outputs": []
    },
    {
      "cell_type": "code",
      "source": [
        "metadatas[1]"
      ],
      "metadata": {
        "colab": {
          "base_uri": "https://localhost:8080/"
        },
        "id": "98IdoxQlphpD",
        "outputId": "8ebdee45-9eb0-42d4-ad6f-8e3c525615c0"
      },
      "execution_count": null,
      "outputs": [
        {
          "output_type": "execute_result",
          "data": {
            "text/plain": [
              "{'source': 'https://www.pinecone.io/learn/vector-embeddings/',\n",
              " 'title': 'What are Vector Embeddings | Pinecone',\n",
              " 'description': 'Vector embeddings are one of the most fascinating and useful concepts in machine learning. They are central to many NLP, recommendation, and search algorithms. If you’ve ever used things like recommendation engines, voice assistants, language translators, you’ve come across systems that rely on embeddings.',\n",
              " 'language': 'en'}"
            ]
          },
          "metadata": {},
          "execution_count": 37
        }
      ]
    },
    {
      "cell_type": "code",
      "source": [
        "# add texts and associated metadata to the collection\n",
        "qdrant.add_texts(texts, metadatas=metadatas)"
      ],
      "metadata": {
        "colab": {
          "base_uri": "https://localhost:8080/"
        },
        "id": "Mj0FSYEj_Whg",
        "outputId": "3f02b544-b8ae-4aee-e0e7-a0be10506f7e"
      },
      "execution_count": null,
      "outputs": [
        {
          "output_type": "execute_result",
          "data": {
            "text/plain": [
              "['947d05c5a1f54aa0ae73a12e9ff36a02',\n",
              " '4fa987a4362743be9d6bd0025bb6d36d',\n",
              " 'dec8f1c8720a40c7b13a25e67a89529e',\n",
              " 'b4f27b60b1764721a4bca12560d268f6',\n",
              " 'c990a34590a847fab2d4adf9af44b3ff',\n",
              " '3e60580276504db7add2a09ffb8f7bc6',\n",
              " 'e5c40306348c49eb9577fe1466eedd18',\n",
              " 'df2da5b0522443d19f201affd9ee1c50',\n",
              " '81381cbaf8394317a5366a21631a3491',\n",
              " '34dc55e512e948968929daacd674f0cd',\n",
              " '9f6610cff90c403f9d4d48b5de964fa8',\n",
              " '9f9c1425a97e42a0bc06ecce95d928fc',\n",
              " '9a4abc84527d4682b4796d2a8d71a468',\n",
              " 'cbb64da403ab4078ac59c9a35a50f425',\n",
              " '723c07f3a530427a869c3069738d35fd',\n",
              " '8979443ea46e448fb0a031e67aaec3a8',\n",
              " '423703d653e646b7aa93dd24534db3b1',\n",
              " 'db425af8c7a144e6ac57e6009836d696',\n",
              " '84278a0104854843bfa4af9f50e08b24',\n",
              " '10a7efdc004a409fa3429115b57db435',\n",
              " '58c48ef8c2ce459fadfc910c6986931b',\n",
              " 'e8ef121431a44dcc8df14733b3ed1930',\n",
              " '3b3c755c55ce42f6ae2a9efb607c759b',\n",
              " 'a91b4a5681fa45fbb622dde648b19919',\n",
              " 'f2524992a3bc46e9af3af167c0c425f1',\n",
              " '3fd9b6f5bf2a4eebb1d32cfd2409cb7b',\n",
              " '6e37daa16bfe48ed9c8caeacd2576cd0',\n",
              " '99adc784753e41868c6ef28d16bcf848',\n",
              " 'd9e602db1e4a4b40af967217ac940da5',\n",
              " 'b6b8dbceeb9446b3af9437e35ee5b226',\n",
              " 'ab2b4012f6534798a68c1bf7e8a36737',\n",
              " '2481f825509f4cc7b1256b54ca47ba1d']"
            ]
          },
          "metadata": {},
          "execution_count": 38
        }
      ]
    },
    {
      "cell_type": "code",
      "source": [
        "qdrant.client.count(\n",
        "    collection_name=\"my_documents\",\n",
        "    exact=True\n",
        ")"
      ],
      "metadata": {
        "colab": {
          "base_uri": "https://localhost:8080/"
        },
        "id": "h55_oo0ZmC7p",
        "outputId": "4bde2990-2716-4320-8c7c-88cca51c75c4"
      },
      "execution_count": null,
      "outputs": [
        {
          "output_type": "execute_result",
          "data": {
            "text/plain": [
              "CountResult(count=554)"
            ]
          },
          "metadata": {},
          "execution_count": 39
        }
      ]
    },
    {
      "cell_type": "code",
      "source": [
        "# ask question after relevant docs are added\n",
        "qdrant.similarity_search_with_relevance_scores(Q2, k=5)\n"
      ],
      "metadata": {
        "colab": {
          "base_uri": "https://localhost:8080/"
        },
        "id": "CW4kN0MMmGy5",
        "outputId": "e892f083-f5e0-4824-ac75-46a962fc2df4"
      },
      "execution_count": null,
      "outputs": [
        {
          "output_type": "execute_result",
          "data": {
            "text/plain": [
              "[(Document(page_content='are Embeddings created?A common way to create an embedding requires us to first set up a supervised machine learning problem. As a side-effect, training that model encodes categories into embedding vectors. For example, we can set up a model that predicts the next movie a user will watch based on what they are watching now. An embedding model will factorize the input into a vector and that vector will be used to predict the next movie. This means that similar vectors are movies that are commonly watched after similar movies. This makes for a great representation to be used for personalization. So even though we are solving a supervised problem, often called the surrogate problem, the actual creation of embeddings is an unsupervised process.Defining a surrogate problem is an art, and dramatically affects the behavior of the embeddings. For example, YouTube‚Äôs recommender team realized that using the ‚Äúpredict the next video a user is going to click on‚Äù resulted in clickbait', metadata={'source': 'https://www.featureform.com/post/the-definitive-guide-to-embeddings', 'title': 'Embeddings in Machine Learning: Everything You Need to Know | FeatureForm', 'description': '- Aug 26, 2021', 'language': 'No language found.'}),\n",
              "  0.678382476838088),\n",
              " (Document(page_content='StarGet StartedEmbeddings in Machine Learning: Everything You Need to KnowShabnam MokhtaraniAugust 26, 2021‚ÄçEmbeddings have pervaded the data scientist‚Äôs toolkit, and dramatically changed how NLP, computer vision, and recommender systems work. However, many data scientists find them archaic and confusing. Many more use them blindly without understanding what they are.¬† In this article, we‚Äôll deep dive into what embeddings are, how they work, and how they are often operationalized in real-world systems.What‚Äôs an embedding?To understand embeddings, we must first understand the basic requirements of a machine learning model. Specifically, most machine learning algorithms can only take low-dimensional numerical data as inputs.In the neural network below each of the input features must be numeric. That means that in domains such as recommender systems, we must transform non-numeric variables (ex. items and users) into numbers and vectors. We could try to represent items by a', metadata={'source': 'https://www.featureform.com/post/the-definitive-guide-to-embeddings', 'title': 'Embeddings in Machine Learning: Everything You Need to Know | FeatureForm', 'description': '- Aug 26, 2021', 'language': 'No language found.'}),\n",
              "  0.6416170630612904),\n",
              " (Document(page_content='What are Vector Embeddings | PineconeANNOUNCEMENTPinecone on Azure is now available in public preview.Start building todayProductSolutionsPricingResourcesCompanyLog InSign Up FreeLearn | ArticleWhat are Vector EmbeddingsJump to section IntroductionCreating Vector EmbeddingsExample: Image Embedding with a Convolutional Neural NetworkUsing Vector EmbeddingsIntroductionVector embeddings are one of the most fascinating and useful concepts in machine learning. They are central to many NLP, recommendation, and search algorithms. If you’ve ever used things like recommendation engines, voice assistants, language translators, you’ve come across systems that rely on embeddings.ML algorithms, like most software algorithms, need numbers to work with. Sometimes we have a dataset with columns of numeric values or values that can be translated into them (ordinal, categorical, etc). Other times we come across something more abstract like an entire document of text. We create vector embeddings, which', metadata={'source': 'https://www.pinecone.io/learn/vector-embeddings/', 'title': 'What are Vector Embeddings | Pinecone', 'description': 'Vector embeddings are one of the most fascinating and useful concepts in machine learning. They are central to many NLP, recommendation, and search algorithms. If you’ve ever used things like recommendation engines, voice assistants, language translators, you’ve come across systems that rely on embeddings.', 'language': 'en'}),\n",
              "  0.6152974873252213),\n",
              " (Document(page_content='if we type in \"Nostalgia\", we get the following image.It works by transforming the user‚Äôs text and an image into an embedding in the same latent space. It‚Äôs composed of four transformers: Image -> Embedding, Text -> Embedding, Embedding -> Text, Image -> Text. With all these, transformations we can translate text to image and visa-versa using a embedding as an intermediate representation.Embedding OperationsIn the above examples, we see that there are a few common operations applied to embeddings. Any production system that uses embeddings should be able to implement some or all of the below.AveragingUsing something like word2vec, we can end up with an embedding for each word, but we often need an embedding for a full sentence. Similarly, in recommender systems, we may know the items a user clicked on recently, but their user embedding may not have been retrained in days. In these situations, we can average embeddings to create higher-level embeddings. In the sentence example, we', metadata={'source': 'https://www.featureform.com/post/the-definitive-guide-to-embeddings', 'title': 'Embeddings in Machine Learning: Everything You Need to Know | FeatureForm', 'description': '- Aug 26, 2021', 'language': 'No language found.'}),\n",
              "  0.5695051464607663),\n",
              " (Document(page_content='embeddings, which are just lists of numbers, for data like this to perform various operations with them. A whole paragraph of text or any other object can be reduced to a vector. Even numerical data can be turned into vectors for easier operations.But there is something special about vectors that makes them so useful. This representation makes it possible to translate semantic similarity as perceived by humans to proximity in a vector space.In other words, when we represent real-world objects and concepts such as images, audio recordings, news articles, user profiles, weather patterns, and political views as vector embeddings, the semantic similarity of these objects and concepts can be quantified by how close they are to each other as points in vector spaces. Vector embedding representations are thus suitable for common machine learning tasks such as clustering, recommendation, and classification.Source: DeepAI For example, in a clustering task, clustering algorithms assign similar', metadata={'source': 'https://www.pinecone.io/learn/vector-embeddings/', 'title': 'What are Vector Embeddings | Pinecone', 'description': 'Vector embeddings are one of the most fascinating and useful concepts in machine learning. They are central to many NLP, recommendation, and search algorithms. If you’ve ever used things like recommendation engines, voice assistants, language translators, you’ve come across systems that rely on embeddings.', 'language': 'en'}),\n",
              "  0.5590911260495276)]"
            ]
          },
          "metadata": {},
          "execution_count": 40
        }
      ]
    },
    {
      "cell_type": "code",
      "source": [
        "qdrant.client.retrieve(\n",
        "    collection_name=\"my_documents\",\n",
        "    ids=['3b3c755c55ce42f6ae2a9efb607c759b'],\n",
        ")"
      ],
      "metadata": {
        "colab": {
          "base_uri": "https://localhost:8080/"
        },
        "id": "eebdxxlSsN5y",
        "outputId": "56e1d6ac-c9a7-4e99-fe70-50fdf35f3a90"
      },
      "execution_count": null,
      "outputs": [
        {
          "output_type": "execute_result",
          "data": {
            "text/plain": [
              "[Record(id='3b3c755c55ce42f6ae2a9efb607c759b', payload={'page_content': 'embedding and find items that are most relevant to them. In a search engine, we can find a document that‚Äôs most similar to a search query. Nearest neighbor is a computationally expensive operation however. Performed naively it is O(N*K), where N is the number of items and K is the size of each embedding. However, in most cases when we need nearest neighbors, an approximation would suffice. If we recommend five items to a user, and one is technically the sixth closest item, the user probably won‚Äôt care. Approximate nearest neighbor (ANN) algorithms typically drop the complexity of a lookup to O(log(n)).Implementations of ANNThere are many different algorithms to efficiently find approximate nearest neighbors, and many implementations of each of them. We‚Äôll list a few of the most common algorithms and implementations below and break down how they work at a high level.Spotify‚Äôs AnnoyIn Spotify‚Äôs ANN implementation (Annoy), the embeddings are turned into a forest of trees. Each', 'metadata': {'source': 'https://www.featureform.com/post/the-definitive-guide-to-embeddings', 'title': 'Embeddings in Machine Learning: Everything You Need to Know | FeatureForm', 'description': '- Aug 26, 2021', 'language': 'No language found.'}}, vector=None)]"
            ]
          },
          "metadata": {},
          "execution_count": 42
        }
      ]
    },
    {
      "cell_type": "code",
      "source": [
        "query_vec = embedding_function.embed_query('what embeddings are, how they work, and how they are often operationalized')"
      ],
      "metadata": {
        "id": "kTEuv8qagssi"
      },
      "execution_count": null,
      "outputs": []
    },
    {
      "cell_type": "code",
      "source": [
        "qdrant.client.search_groups(\n",
        "    collection_name=\"my_documents\",\n",
        "\n",
        "    # Same as in the regular search() API\n",
        "    query_vector=query_vec,\n",
        "\n",
        "    # Grouping parameters\n",
        "    group_by=\"source\", # Path of the field to group by\n",
        "    limit=2,                # Max amount of groups\n",
        "    group_size=2,           # Max amount of points per group\n",
        "\n",
        "    # Lookup parameters\n",
        "    with_lookup=models.WithLookup(\n",
        "        # Name of the collection to look up points in\n",
        "        collection=\"my_documents\",\n",
        "\n",
        "        # Options for specifying what to bring from the payload\n",
        "        # of the looked up point, True by default\n",
        "        # with_payload=[\"title\", \"text\"],\n",
        "\n",
        "        # Options for specifying what to bring from the vector(s)\n",
        "        # of the looked up point, True by default\n",
        "        with_vectors=False,\n",
        "    )\n",
        ")"
      ],
      "metadata": {
        "colab": {
          "base_uri": "https://localhost:8080/"
        },
        "id": "WEMPwfAifqAA",
        "outputId": "7cf0cafe-a61d-4010-dd22-e41d22710d0a"
      },
      "execution_count": null,
      "outputs": [
        {
          "output_type": "execute_result",
          "data": {
            "text/plain": [
              "GroupsResult(groups=[])"
            ]
          },
          "metadata": {},
          "execution_count": 44
        }
      ]
    },
    {
      "cell_type": "code",
      "source": [
        "ids = qdrant.client.search(\n",
        "    collection_name=\"my_documents\",\n",
        "    query_filter=filter,\n",
        "    query_vector=query_vec,\n",
        "    limit=554)"
      ],
      "metadata": {
        "id": "jIhfpxTnnN2G"
      },
      "execution_count": null,
      "outputs": []
    },
    {
      "cell_type": "code",
      "source": [
        "ids[1].id"
      ],
      "metadata": {
        "colab": {
          "base_uri": "https://localhost:8080/",
          "height": 35
        },
        "id": "IESyYlddoKP1",
        "outputId": "5a9355b8-cae9-4373-eec3-bb8617904369"
      },
      "execution_count": null,
      "outputs": [
        {
          "output_type": "execute_result",
          "data": {
            "text/plain": [
              "'34dc55e512e948968929daacd674f0cd'"
            ],
            "application/vnd.google.colaboratory.intrinsic+json": {
              "type": "string"
            }
          },
          "metadata": {},
          "execution_count": 61
        }
      ]
    },
    {
      "cell_type": "code",
      "source": [
        "id_list = []\n",
        "for i in range(0, len(ids)):\n",
        "  id_list.append(ids[i].id)"
      ],
      "metadata": {
        "id": "i9SbD5J-oaB-"
      },
      "execution_count": null,
      "outputs": []
    },
    {
      "cell_type": "code",
      "source": [
        "id_list"
      ],
      "metadata": {
        "colab": {
          "base_uri": "https://localhost:8080/"
        },
        "id": "hvujbkccogxE",
        "outputId": "7eb21aa4-88df-472e-a68b-2ccd5906a6d7"
      },
      "execution_count": null,
      "outputs": [
        {
          "output_type": "execute_result",
          "data": {
            "text/plain": [
              "['cbb64da403ab4078ac59c9a35a50f425',\n",
              " '34dc55e512e948968929daacd674f0cd',\n",
              " '58c48ef8c2ce459fadfc910c6986931b',\n",
              " 'e8ef121431a44dcc8df14733b3ed1930',\n",
              " '81381cbaf8394317a5366a21631a3491',\n",
              " 'db425af8c7a144e6ac57e6009836d696',\n",
              " '9a4abc84527d4682b4796d2a8d71a468',\n",
              " '3fd9b6f5bf2a4eebb1d32cfd2409cb7b',\n",
              " '99adc784753e41868c6ef28d16bcf848',\n",
              " '423703d653e646b7aa93dd24534db3b1',\n",
              " '10a7efdc004a409fa3429115b57db435',\n",
              " 'd9e602db1e4a4b40af967217ac940da5',\n",
              " '84278a0104854843bfa4af9f50e08b24',\n",
              " 'a91b4a5681fa45fbb622dde648b19919',\n",
              " '9f6610cff90c403f9d4d48b5de964fa8',\n",
              " '8979443ea46e448fb0a031e67aaec3a8',\n",
              " '3b3c755c55ce42f6ae2a9efb607c759b',\n",
              " 'f2524992a3bc46e9af3af167c0c425f1',\n",
              " '723c07f3a530427a869c3069738d35fd',\n",
              " '6e37daa16bfe48ed9c8caeacd2576cd0',\n",
              " '9f9c1425a97e42a0bc06ecce95d928fc',\n",
              " 'b6b8dbceeb9446b3af9437e35ee5b226',\n",
              " 'ab2b4012f6534798a68c1bf7e8a36737',\n",
              " '2481f825509f4cc7b1256b54ca47ba1d']"
            ]
          },
          "metadata": {},
          "execution_count": 63
        }
      ]
    },
    {
      "cell_type": "code",
      "source": [
        "len(ids)"
      ],
      "metadata": {
        "colab": {
          "base_uri": "https://localhost:8080/"
        },
        "id": "ZxwiIBDapFQ1",
        "outputId": "9e334344-d8ff-4bfa-a131-0be12aeca914"
      },
      "execution_count": null,
      "outputs": [
        {
          "output_type": "execute_result",
          "data": {
            "text/plain": [
              "24"
            ]
          },
          "metadata": {},
          "execution_count": 64
        }
      ]
    },
    {
      "cell_type": "code",
      "source": [],
      "metadata": {
        "id": "jKJk-sihAOQf"
      },
      "execution_count": null,
      "outputs": []
    }
  ]
}