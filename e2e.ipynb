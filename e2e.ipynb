{
 "cells": [
  {
   "cell_type": "code",
   "execution_count": 12,
   "id": "07120482",
   "metadata": {},
   "outputs": [],
   "source": [
    "from sacrebleu.metrics import BLEU\n",
    "from bert_score import BERTScorer\n",
    "from nltk.translate.meteor_score import meteor_score\n",
    "from nltk.translate.chrf_score import sentence_chrf"
   ]
  },
  {
   "cell_type": "code",
   "execution_count": null,
   "id": "5dbf37ca",
   "metadata": {},
   "outputs": [],
   "source": [
    "import nltk\n",
    "nltk.download('wordnet')"
   ]
  },
  {
   "cell_type": "code",
   "execution_count": null,
   "id": "b519224f",
   "metadata": {},
   "outputs": [],
   "source": [
    "from huggingface_hub import notebook_login\n",
    "notebook_login()"
   ]
  },
  {
   "cell_type": "code",
   "execution_count": null,
   "id": "8ba47df4",
   "metadata": {},
   "outputs": [],
   "source": [
    "import boto3\n",
    "from botocore.exceptions import ClientError\n",
    "\n",
    "def translate(text, target_language=\"Spanish\"):\n",
    "    \"\"\"\n",
    "    Translate text using AWS Bedrock Converse API\n",
    "    \n",
    "    Args:\n",
    "        text (str): Text to translate\n",
    "        target_language (str): Target language for translation\n",
    "    \n",
    "    Returns:\n",
    "        str: Translated text\n",
    "    \"\"\"\n",
    "    # Initialize the Bedrock Runtime client\n",
    "    client = boto3.client(\"bedrock-runtime\")\n",
    "    \n",
    "    # Set the model ID\n",
    "    model_id = \"openai.gpt-oss-20b-1:0\"\n",
    "    \n",
    "    # Set up messages for translation\n",
    "    messages = [\n",
    "        {\n",
    "            \"role\": \"user\",\n",
    "            \"content\": [\n",
    "                {\n",
    "                    \"text\": f\"Translate the following text to {target_language}:\\n\\n{text}\"\n",
    "                }\n",
    "            ]\n",
    "        }\n",
    "    ]\n",
    "    \n",
    "    system = [\n",
    "        {\n",
    "            \"text\": \"You are a professional translator. Provide only the translated text without any additional explanation or commentary.\"\n",
    "        }\n",
    "    ]\n",
    "    \n",
    "    try:\n",
    "        # Send the message to the model\n",
    "        response = client.converse(\n",
    "            modelId=model_id,\n",
    "            messages=messages,\n",
    "            system=system,\n",
    "            inferenceConfig={\n",
    "                \"maxTokens\": 500, \n",
    "                \"temperature\": 0.3,  # Lower temperature for more consistent translations\n",
    "                \"topP\": 0.9\n",
    "            },\n",
    "        )\n",
    "        \n",
    "        # Extract the translated text\n",
    "        translated_text = \"\"\n",
    "        for content_block in response[\"output\"][\"message\"][\"content\"]:\n",
    "            if \"text\" in content_block:\n",
    "                translated_text += content_block[\"text\"]\n",
    "        \n",
    "        return translated_text.strip()\n",
    "        \n",
    "    except (ClientError, Exception) as e:\n",
    "        print(f\"ERROR: Can't invoke '{model_id}'. Reason: {e}\")\n",
    "        return None"
   ]
  },
  {
   "cell_type": "code",
   "execution_count": null,
   "id": "545200f3",
   "metadata": {},
   "outputs": [],
   "source": [
    "def evaluate_translation(references, translations):\n",
    "    reference_text = references[0] \n",
    "    translated_text = translations[0]\n",
    "\n",
    "    print(f\"Reference: {reference_text}\")\n",
    "    print(f\"Translation: {translated_text}\")\n",
    "    print()\n",
    "    # BLEU Score - expects list of sentences, but for single paragraph just use as-is\n",
    "    bleu_score = BLEU().corpus_score([translated_text], [[reference_text]]).score\n",
    "    print(f\"BLEU Score: {bleu_score}\")\n",
    "\n",
    "    # BERTScore - works directly with strings\n",
    "    scorer = BERTScorer(model_type='bert-base-uncased', lang='en')\n",
    "    P, R, F1 = scorer.score([translated_text], [reference_text])\n",
    "    bert_f1 = F1.mean().item()\n",
    "    print(f\"BERTScore F1: {bert_f1}\")\n",
    "\n",
    "    # METEOR Score - needs word tokens (split by spaces)\n",
    "    translated_tokens = translated_text.split()  # ['The', 'cat', 'is', 'on', 'the', 'rug.']\n",
    "    reference_tokens = [reference_text.split()]  # [['The', 'cat', 'is', 'on', 'the', 'mat.']]\n",
    "    meteor_result = meteor_score(reference_tokens, translated_tokens)\n",
    "    print(f\"METEOR Score: {meteor_result}\")\n",
    "\n",
    "    # ChrF Score - works directly with strings (character n-grams)\n",
    "    chrf_result = sentence_chrf(\n",
    "        reference=reference_text,\n",
    "        hypothesis=translated_text,\n",
    "        min_len=1,\n",
    "        max_len=6, \n",
    "        beta=3.0\n",
    "    )\n",
    "    print(f\"ChrF Score: {chrf_result}\")\n",
    "\n",
    "    return {\n",
    "        \"BLEU\": bleu_score,\n",
    "        \"BERTScore_F1\": bert_f1,\n",
    "        \"METEOR\": meteor_result,\n",
    "        \"ChrF\": chrf_result\n",
    "    }"
   ]
  },
  {
   "cell_type": "code",
   "execution_count": 5,
   "id": "03ec1c5a",
   "metadata": {},
   "outputs": [
    {
     "name": "stdout",
     "output_type": "stream",
     "text": [
      "Loading translation dataset...\n",
      "\n",
      "Sample 1:\n",
      "English: Gutach: Increased safety for pedestrians\n",
      "German Reference: Gutach: Noch mehr Sicherheit für Fußgänger\n",
      "--------------------------------------------------\n",
      "\n",
      "Sample 2:\n",
      "English: They are not even 100 metres apart: On Tuesday, the new B 33 pedestrian lights in Dorfparkplatz in Gutach became operational - within view of the existing Town Hall traffic lights.\n",
      "German Reference: Sie stehen keine 100 Meter voneinander entfernt: Am Dienstag ist in Gutach die neue B 33-Fußgängerampel am Dorfparkplatz in Betrieb genommen worden - in Sichtweite der älteren Rathausampel.\n",
      "--------------------------------------------------\n",
      "\n",
      "Sample 3:\n",
      "English: Two sets of lights so close to one another: intentional or just a silly error?\n",
      "German Reference: Zwei Anlagen so nah beieinander: Absicht oder Schildbürgerstreich?\n",
      "--------------------------------------------------\n"
     ]
    }
   ],
   "source": [
    "# Load a real translation dataset for evaluation\n",
    "from datasets import load_dataset\n",
    "\n",
    "def load_translation_data(language_pair=\"de\", dataset_name=\"wmt14\", split=\"test\", max_samples=10):\n",
    "    \"\"\"\n",
    "    Load translation dataset for evaluation\n",
    "    \n",
    "    Args:\n",
    "        language_pair (str): Target language (de, fr, es, etc.)\n",
    "        dataset_name (str): Dataset to use (wmt14, opus_books, etc.)\n",
    "        split (str): Dataset split (test, validation)\n",
    "        max_samples (int): Number of samples to load\n",
    "    \n",
    "    Returns:\n",
    "        tuple: (source_texts, reference_translations)\n",
    "    \"\"\"\n",
    "    try:\n",
    "        # Load WMT14 EN->DE as example\n",
    "        if dataset_name == \"wmt14\":\n",
    "            dataset = load_dataset(\"wmt14\", f\"de-en\", split=split)\n",
    "        elif dataset_name == \"opus_books\":\n",
    "            dataset = load_dataset(\"opus_books\", f\"en-{language_pair}\", split=\"train\")\n",
    "        \n",
    "        # Extract English and target language texts\n",
    "        source_texts = []\n",
    "        reference_translations = []\n",
    "        \n",
    "        for i, example in enumerate(dataset):\n",
    "            if i >= max_samples:\n",
    "                break\n",
    "                \n",
    "            if dataset_name == \"wmt14\":\n",
    "                source_texts.append(example['translation']['en'])\n",
    "                reference_translations.append(example['translation']['de'])\n",
    "            elif dataset_name == \"opus_books\":\n",
    "                source_texts.append(example['translation']['en'])\n",
    "                reference_translations.append(example['translation'][language_pair])\n",
    "        \n",
    "        return source_texts, reference_translations\n",
    "        \n",
    "    except Exception as e:\n",
    "        print(f\"Error loading dataset: {e}\")\n",
    "        return [], []\n",
    "\n",
    "# Example usage - load sample data\n",
    "print(\"Loading translation dataset...\")\n",
    "english_texts, german_references = load_translation_data(language_pair=\"de\", max_samples=3)\n",
    "\n",
    "for i, (en, de) in enumerate(zip(english_texts, german_references)):\n",
    "    print(f\"\\nSample {i+1}:\")\n",
    "    print(f\"English: {en}\")\n",
    "    print(f\"German Reference: {de}\")\n",
    "    print(\"-\" * 50)"
   ]
  },
  {
   "cell_type": "code",
   "execution_count": 8,
   "id": "8763587f",
   "metadata": {},
   "outputs": [],
   "source": [
    "# run translation to get preds\n",
    "preds = [translate(text, \"German\") for text in english_texts]"
   ]
  },
  {
   "cell_type": "code",
   "execution_count": 9,
   "id": "f401bfdc",
   "metadata": {},
   "outputs": [
    {
     "data": {
      "text/plain": [
       "['Gutach: Erhöhte Sicherheit für Fußgänger',\n",
       " 'Sie sind nicht einmal 100\\u202fMeter voneinander entfernt: Am Dienstag wurden die neuen B\\u202f33‑Fußgängerampeln im Dorfparkplatz in Gutach in Betrieb genommen – im Blickfeld der bestehenden Rathausampeln.',\n",
       " 'Zwei Lichtgruppen so nah beieinander: absichtlich oder einfach ein dummer Fehler?']"
      ]
     },
     "execution_count": 9,
     "metadata": {},
     "output_type": "execute_result"
    }
   ],
   "source": [
    "preds"
   ]
  },
  {
   "cell_type": "code",
   "execution_count": 14,
   "id": "59114c8d",
   "metadata": {},
   "outputs": [
    {
     "name": "stdout",
     "output_type": "stream",
     "text": [
      "Reference: Gutach: Noch mehr Sicherheit für Fußgänger\n",
      "Translation: Gutach: Erhöhte Sicherheit für Fußgänger\n",
      "\n",
      "BLEU Score: 32.159351091190125\n",
      "BERTScore F1: 0.9155959486961365\n",
      "METEOR Score: 0.635593220338983\n",
      "ChrF Score: 0.7125176153510376\n"
     ]
    },
    {
     "data": {
      "text/plain": [
       "{'BLEU': 32.159351091190125,\n",
       " 'BERTScore_F1': 0.9155959486961365,\n",
       " 'METEOR': 0.635593220338983,\n",
       " 'ChrF': 0.7125176153510376}"
      ]
     },
     "execution_count": 14,
     "metadata": {},
     "output_type": "execute_result"
    }
   ],
   "source": [
    "# run eval on preds vs refs\n",
    "evaluate_translation(german_references, preds)"
   ]
  },
  {
   "cell_type": "code",
   "execution_count": null,
   "id": "fcc9168a",
   "metadata": {},
   "outputs": [],
   "source": []
  }
 ],
 "metadata": {
  "kernelspec": {
   "display_name": "translation_service",
   "language": "python",
   "name": "python3"
  },
  "language_info": {
   "codemirror_mode": {
    "name": "ipython",
    "version": 3
   },
   "file_extension": ".py",
   "mimetype": "text/x-python",
   "name": "python",
   "nbconvert_exporter": "python",
   "pygments_lexer": "ipython3",
   "version": "3.12.8"
  }
 },
 "nbformat": 4,
 "nbformat_minor": 5
}
