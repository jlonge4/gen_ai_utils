{
  "nbformat": 4,
  "nbformat_minor": 0,
  "metadata": {
    "colab": {
      "provenance": [],
      "machine_shape": "hm",
      "authorship_tag": "ABX9TyN+F3dZE6A65+mgN3Imfq1m"
    },
    "kernelspec": {
      "name": "python3",
      "display_name": "Python 3"
    },
    "language_info": {
      "name": "python"
    },
    "widgets": {
      "application/vnd.jupyter.widget-state+json": {
        "4cc5bd1966884f119fcd187daf1ed5d4": {
          "model_module": "@jupyter-widgets/controls",
          "model_name": "HBoxModel",
          "model_module_version": "1.5.0",
          "state": {
            "_dom_classes": [],
            "_model_module": "@jupyter-widgets/controls",
            "_model_module_version": "1.5.0",
            "_model_name": "HBoxModel",
            "_view_count": null,
            "_view_module": "@jupyter-widgets/controls",
            "_view_module_version": "1.5.0",
            "_view_name": "HBoxView",
            "box_style": "",
            "children": [
              "IPY_MODEL_aed141a07f904448a47a5bd23830269a",
              "IPY_MODEL_0fb96c084cfb401789873f519fe661b4",
              "IPY_MODEL_9a1630dbea7d48359173720771d5a77d"
            ],
            "layout": "IPY_MODEL_dd893810a5d94fc5b24d79c4bb5d5e46"
          }
        },
        "aed141a07f904448a47a5bd23830269a": {
          "model_module": "@jupyter-widgets/controls",
          "model_name": "HTMLModel",
          "model_module_version": "1.5.0",
          "state": {
            "_dom_classes": [],
            "_model_module": "@jupyter-widgets/controls",
            "_model_module_version": "1.5.0",
            "_model_name": "HTMLModel",
            "_view_count": null,
            "_view_module": "@jupyter-widgets/controls",
            "_view_module_version": "1.5.0",
            "_view_name": "HTMLView",
            "description": "",
            "description_tooltip": null,
            "layout": "IPY_MODEL_0786993dacb24f05aabaf66e1a33dffc",
            "placeholder": "​",
            "style": "IPY_MODEL_f5bf97c41c0a4be0ae076ee218647078",
            "value": "Batches: 100%"
          }
        },
        "0fb96c084cfb401789873f519fe661b4": {
          "model_module": "@jupyter-widgets/controls",
          "model_name": "FloatProgressModel",
          "model_module_version": "1.5.0",
          "state": {
            "_dom_classes": [],
            "_model_module": "@jupyter-widgets/controls",
            "_model_module_version": "1.5.0",
            "_model_name": "FloatProgressModel",
            "_view_count": null,
            "_view_module": "@jupyter-widgets/controls",
            "_view_module_version": "1.5.0",
            "_view_name": "ProgressView",
            "bar_style": "success",
            "description": "",
            "description_tooltip": null,
            "layout": "IPY_MODEL_f651cddec1274392bec59e0bab0593f6",
            "max": 1,
            "min": 0,
            "orientation": "horizontal",
            "style": "IPY_MODEL_c64707a0a60c4f35bb0be6946623835e",
            "value": 1
          }
        },
        "9a1630dbea7d48359173720771d5a77d": {
          "model_module": "@jupyter-widgets/controls",
          "model_name": "HTMLModel",
          "model_module_version": "1.5.0",
          "state": {
            "_dom_classes": [],
            "_model_module": "@jupyter-widgets/controls",
            "_model_module_version": "1.5.0",
            "_model_name": "HTMLModel",
            "_view_count": null,
            "_view_module": "@jupyter-widgets/controls",
            "_view_module_version": "1.5.0",
            "_view_name": "HTMLView",
            "description": "",
            "description_tooltip": null,
            "layout": "IPY_MODEL_32c377dc37f3472fb335df77cd2d1e3b",
            "placeholder": "​",
            "style": "IPY_MODEL_1bb30264f2784dd68bad13e7ba4dd588",
            "value": " 1/1 [00:00&lt;00:00, 32.79it/s]"
          }
        },
        "dd893810a5d94fc5b24d79c4bb5d5e46": {
          "model_module": "@jupyter-widgets/base",
          "model_name": "LayoutModel",
          "model_module_version": "1.2.0",
          "state": {
            "_model_module": "@jupyter-widgets/base",
            "_model_module_version": "1.2.0",
            "_model_name": "LayoutModel",
            "_view_count": null,
            "_view_module": "@jupyter-widgets/base",
            "_view_module_version": "1.2.0",
            "_view_name": "LayoutView",
            "align_content": null,
            "align_items": null,
            "align_self": null,
            "border": null,
            "bottom": null,
            "display": null,
            "flex": null,
            "flex_flow": null,
            "grid_area": null,
            "grid_auto_columns": null,
            "grid_auto_flow": null,
            "grid_auto_rows": null,
            "grid_column": null,
            "grid_gap": null,
            "grid_row": null,
            "grid_template_areas": null,
            "grid_template_columns": null,
            "grid_template_rows": null,
            "height": null,
            "justify_content": null,
            "justify_items": null,
            "left": null,
            "margin": null,
            "max_height": null,
            "max_width": null,
            "min_height": null,
            "min_width": null,
            "object_fit": null,
            "object_position": null,
            "order": null,
            "overflow": null,
            "overflow_x": null,
            "overflow_y": null,
            "padding": null,
            "right": null,
            "top": null,
            "visibility": null,
            "width": null
          }
        },
        "0786993dacb24f05aabaf66e1a33dffc": {
          "model_module": "@jupyter-widgets/base",
          "model_name": "LayoutModel",
          "model_module_version": "1.2.0",
          "state": {
            "_model_module": "@jupyter-widgets/base",
            "_model_module_version": "1.2.0",
            "_model_name": "LayoutModel",
            "_view_count": null,
            "_view_module": "@jupyter-widgets/base",
            "_view_module_version": "1.2.0",
            "_view_name": "LayoutView",
            "align_content": null,
            "align_items": null,
            "align_self": null,
            "border": null,
            "bottom": null,
            "display": null,
            "flex": null,
            "flex_flow": null,
            "grid_area": null,
            "grid_auto_columns": null,
            "grid_auto_flow": null,
            "grid_auto_rows": null,
            "grid_column": null,
            "grid_gap": null,
            "grid_row": null,
            "grid_template_areas": null,
            "grid_template_columns": null,
            "grid_template_rows": null,
            "height": null,
            "justify_content": null,
            "justify_items": null,
            "left": null,
            "margin": null,
            "max_height": null,
            "max_width": null,
            "min_height": null,
            "min_width": null,
            "object_fit": null,
            "object_position": null,
            "order": null,
            "overflow": null,
            "overflow_x": null,
            "overflow_y": null,
            "padding": null,
            "right": null,
            "top": null,
            "visibility": null,
            "width": null
          }
        },
        "f5bf97c41c0a4be0ae076ee218647078": {
          "model_module": "@jupyter-widgets/controls",
          "model_name": "DescriptionStyleModel",
          "model_module_version": "1.5.0",
          "state": {
            "_model_module": "@jupyter-widgets/controls",
            "_model_module_version": "1.5.0",
            "_model_name": "DescriptionStyleModel",
            "_view_count": null,
            "_view_module": "@jupyter-widgets/base",
            "_view_module_version": "1.2.0",
            "_view_name": "StyleView",
            "description_width": ""
          }
        },
        "f651cddec1274392bec59e0bab0593f6": {
          "model_module": "@jupyter-widgets/base",
          "model_name": "LayoutModel",
          "model_module_version": "1.2.0",
          "state": {
            "_model_module": "@jupyter-widgets/base",
            "_model_module_version": "1.2.0",
            "_model_name": "LayoutModel",
            "_view_count": null,
            "_view_module": "@jupyter-widgets/base",
            "_view_module_version": "1.2.0",
            "_view_name": "LayoutView",
            "align_content": null,
            "align_items": null,
            "align_self": null,
            "border": null,
            "bottom": null,
            "display": null,
            "flex": null,
            "flex_flow": null,
            "grid_area": null,
            "grid_auto_columns": null,
            "grid_auto_flow": null,
            "grid_auto_rows": null,
            "grid_column": null,
            "grid_gap": null,
            "grid_row": null,
            "grid_template_areas": null,
            "grid_template_columns": null,
            "grid_template_rows": null,
            "height": null,
            "justify_content": null,
            "justify_items": null,
            "left": null,
            "margin": null,
            "max_height": null,
            "max_width": null,
            "min_height": null,
            "min_width": null,
            "object_fit": null,
            "object_position": null,
            "order": null,
            "overflow": null,
            "overflow_x": null,
            "overflow_y": null,
            "padding": null,
            "right": null,
            "top": null,
            "visibility": null,
            "width": null
          }
        },
        "c64707a0a60c4f35bb0be6946623835e": {
          "model_module": "@jupyter-widgets/controls",
          "model_name": "ProgressStyleModel",
          "model_module_version": "1.5.0",
          "state": {
            "_model_module": "@jupyter-widgets/controls",
            "_model_module_version": "1.5.0",
            "_model_name": "ProgressStyleModel",
            "_view_count": null,
            "_view_module": "@jupyter-widgets/base",
            "_view_module_version": "1.2.0",
            "_view_name": "StyleView",
            "bar_color": null,
            "description_width": ""
          }
        },
        "32c377dc37f3472fb335df77cd2d1e3b": {
          "model_module": "@jupyter-widgets/base",
          "model_name": "LayoutModel",
          "model_module_version": "1.2.0",
          "state": {
            "_model_module": "@jupyter-widgets/base",
            "_model_module_version": "1.2.0",
            "_model_name": "LayoutModel",
            "_view_count": null,
            "_view_module": "@jupyter-widgets/base",
            "_view_module_version": "1.2.0",
            "_view_name": "LayoutView",
            "align_content": null,
            "align_items": null,
            "align_self": null,
            "border": null,
            "bottom": null,
            "display": null,
            "flex": null,
            "flex_flow": null,
            "grid_area": null,
            "grid_auto_columns": null,
            "grid_auto_flow": null,
            "grid_auto_rows": null,
            "grid_column": null,
            "grid_gap": null,
            "grid_row": null,
            "grid_template_areas": null,
            "grid_template_columns": null,
            "grid_template_rows": null,
            "height": null,
            "justify_content": null,
            "justify_items": null,
            "left": null,
            "margin": null,
            "max_height": null,
            "max_width": null,
            "min_height": null,
            "min_width": null,
            "object_fit": null,
            "object_position": null,
            "order": null,
            "overflow": null,
            "overflow_x": null,
            "overflow_y": null,
            "padding": null,
            "right": null,
            "top": null,
            "visibility": null,
            "width": null
          }
        },
        "1bb30264f2784dd68bad13e7ba4dd588": {
          "model_module": "@jupyter-widgets/controls",
          "model_name": "DescriptionStyleModel",
          "model_module_version": "1.5.0",
          "state": {
            "_model_module": "@jupyter-widgets/controls",
            "_model_module_version": "1.5.0",
            "_model_name": "DescriptionStyleModel",
            "_view_count": null,
            "_view_module": "@jupyter-widgets/base",
            "_view_module_version": "1.2.0",
            "_view_name": "StyleView",
            "description_width": ""
          }
        }
      }
    }
  },
  "cells": [
    {
      "cell_type": "code",
      "execution_count": null,
      "metadata": {
        "id": "X_ETux9lFN_z"
      },
      "outputs": [],
      "source": [
        "!pip install farm-haystack sentence_transformers farm-haystack[pinecone] farm-haystack[opensearch] pinecone-client langchain requests_aws4auth"
      ]
    },
    {
      "cell_type": "code",
      "source": [
        "from haystack.nodes import PreProcessor, PDFToTextConverter, TextConverter\n",
        "from haystack.utils import convert_files_to_docs\n",
        "\n",
        "# Define data converter eg. PDF to characters\n",
        "converter = PDFToTextConverter(id_hash_keys=[\"meta\"])\n",
        "# Define Preprocessor to perform chunking, overlap, etc on characters from converter\n",
        "preprocessor = PreProcessor(\n",
        "    clean_empty_lines=True,\n",
        "    clean_whitespace=True,\n",
        "    clean_header_footer=True,\n",
        "    split_by=\"word\",\n",
        "    split_length=300,\n",
        "    split_overlap=20,\n",
        "    split_respect_sentence_boundary=True,\n",
        ")\n"
      ],
      "metadata": {
        "id": "nDplZHtjHgxf"
      },
      "execution_count": null,
      "outputs": []
    },
    {
      "cell_type": "code",
      "source": [
        "from requests_aws4auth import AWS4Auth\n",
        "from haystack.document_stores import OpenSearchDocumentStore\n",
        "\n",
        "# Setup aws4auth object to use with OpenSearchDocumentStore\n",
        "\n",
        "aws_access_key = \"key\"\n",
        "aws_secret_key = \"secret\"\n",
        "region = \"us-east-1\"\n",
        "open_search_domain = \"search-test-cluster-xxxxxxxxx.us-east-1.es.amazonaws.com\"\n",
        "\n",
        "aws_auth = AWS4Auth(aws_access_key, aws_secret_key, region, \"es\", session_token=None)\n",
        "\n",
        "# Setup OpenSearch Doc Store\n",
        "document_store = OpenSearchDocumentStore(\n",
        "    aws4auth=aws_auth,\n",
        "    username='uname',\n",
        "    password='pw',\n",
        "    create_index=True,\n",
        "    host=open_search_domain,\n",
        "    port='443',\n",
        "    scheme='https',\n",
        "    embedding_field=\"embedding\",\n",
        "    embedding_dim=384,)\n"
      ],
      "metadata": {
        "id": "NxLpxAtcUVwM"
      },
      "execution_count": null,
      "outputs": []
    },
    {
      "cell_type": "code",
      "source": [
        "# Removes any documents to start fresh\n",
        "document_store.delete_documents()"
      ],
      "metadata": {
        "id": "_p7amRZ7N_OB"
      },
      "execution_count": null,
      "outputs": []
    },
    {
      "cell_type": "code",
      "source": [
        "document_store.debug=True"
      ],
      "metadata": {
        "id": "qyZhk3WhczIK"
      },
      "execution_count": null,
      "outputs": []
    },
    {
      "cell_type": "code",
      "source": [
        "from haystack.nodes import EmbeddingRetriever, PromptNode\n",
        "# Define retriever to get embeddings and perform semantics\n",
        "retriever = EmbeddingRetriever(\n",
        "    document_store=document_store,\n",
        "    embedding_model=\"multi-qa-MiniLM-L6-cos-v1\",\n",
        "    model_format=\"sentence_transformers\"\n",
        ")"
      ],
      "metadata": {
        "id": "MypIJDyHQXyE"
      },
      "execution_count": null,
      "outputs": []
    },
    {
      "cell_type": "code",
      "source": [
        "from haystack.pipelines import Pipeline\n",
        "\n",
        "# Define pipeline and add all of the necessary pieces in ORDER\n",
        "\n",
        "p = Pipeline()\n",
        "\n",
        "p.add_node(component=converter, name=\"PDFConverter\", inputs=[\"File\"])\n",
        "p.add_node(component=preprocessor, name=\"PreProcessor\", inputs=[\"PDFConverter\"])\n",
        "p.add_node(component=retriever, name=\"Retriever\", inputs=[\"PreProcessor\"])\n",
        "p.add_node(component=document_store, name=\"DocumentStore\", inputs=[\"Retriever\"])\n",
        "\n",
        "# Run pipeline on document and add metadata to include doc name\n",
        "\n",
        "p.run(file_paths=[\"./sample_data/A75_18-en.pdf\"], meta={\"document_name\": \"A75_18-en.pdf\"})"
      ],
      "metadata": {
        "id": "n4up6CuRIO6l"
      },
      "execution_count": null,
      "outputs": []
    },
    {
      "cell_type": "code",
      "source": [
        "# Once documents are ran through the pipeline, use this to add embeddings to the datastore\n",
        "\n",
        "document_store.update_embeddings(\n",
        "    retriever,\n",
        "    batch_size=16,\n",
        ")"
      ],
      "metadata": {
        "id": "ySLpYT7v_yBZ"
      },
      "execution_count": null,
      "outputs": []
    },
    {
      "cell_type": "code",
      "source": [
        "# Verify docs and embeddings are equal\n",
        "\n",
        "document_store.get_document_count() == document_store.get_embedding_count()"
      ],
      "metadata": {
        "colab": {
          "base_uri": "https://localhost:8080/"
        },
        "id": "MuiHNG3fcOPD",
        "outputId": "41e63763-f998-45eb-9f06-b0187a638e54"
      },
      "execution_count": null,
      "outputs": [
        {
          "output_type": "execute_result",
          "data": {
            "text/plain": [
              "True"
            ]
          },
          "metadata": {},
          "execution_count": 27
        }
      ]
    },
    {
      "cell_type": "code",
      "source": [
        "prompt_node = PromptNode(model_name_or_path=\"gpt-3.5-turbo\",\n",
        "                         api_key='key')"
      ],
      "metadata": {
        "id": "q_d7z-lZXFlb"
      },
      "execution_count": null,
      "outputs": []
    },
    {
      "cell_type": "code",
      "source": [
        "from haystack.pipelines.standard_pipelines import DocumentSearchPipeline\n",
        "\n",
        "pipe = DocumentSearchPipeline(retriever)"
      ],
      "metadata": {
        "id": "nPyo4gIHXNtw"
      },
      "execution_count": null,
      "outputs": []
    },
    {
      "cell_type": "code",
      "source": [
        "from haystack.utils import print_answers\n",
        "from pprint import pprint\n",
        "query = \"What is the state referring to\"\n",
        "# get the answer\n",
        "answer = pipe.run(\n",
        "    query=query,\n",
        "    params={\n",
        "        \"Retriever\": {\n",
        "            \"top_k\": 3,\n",
        "            \"filters\": {\n",
        "                \"meta\": {\n",
        "                    \"document_name\": 'A75_18-en.pdf'\n",
        "                }\n",
        "            }\n",
        "        },\n",
        "        # \"Reader\": {\n",
        "        #     \"top_k\": 1\n",
        "        # }\n",
        "    }\n",
        ")\n",
        "pprint(answer)"
      ],
      "metadata": {
        "colab": {
          "base_uri": "https://localhost:8080/",
          "height": 208,
          "referenced_widgets": [
            "4cc5bd1966884f119fcd187daf1ed5d4",
            "aed141a07f904448a47a5bd23830269a",
            "0fb96c084cfb401789873f519fe661b4",
            "9a1630dbea7d48359173720771d5a77d",
            "dd893810a5d94fc5b24d79c4bb5d5e46",
            "0786993dacb24f05aabaf66e1a33dffc",
            "f5bf97c41c0a4be0ae076ee218647078",
            "f651cddec1274392bec59e0bab0593f6",
            "c64707a0a60c4f35bb0be6946623835e",
            "32c377dc37f3472fb335df77cd2d1e3b",
            "1bb30264f2784dd68bad13e7ba4dd588"
          ]
        },
        "id": "lLD-0P6ZXScc",
        "outputId": "d2a731ee-4a2b-4fa1-e25e-7a344e60d6d1"
      },
      "execution_count": null,
      "outputs": [
        {
          "output_type": "display_data",
          "data": {
            "text/plain": [
              "Batches:   0%|          | 0/1 [00:00<?, ?it/s]"
            ],
            "application/vnd.jupyter.widget-view+json": {
              "version_major": 2,
              "version_minor": 0,
              "model_id": "4cc5bd1966884f119fcd187daf1ed5d4"
            }
          },
          "metadata": {}
        },
        {
          "output_type": "stream",
          "name": "stdout",
          "text": [
            "{'documents': [<Document: {'content': 'Each State Party shall assess events occurring within its territory by using the decision instrument\\nin Annex 2 within 48 hours of the National IHR Focal Point receiving the relevant information.\\nEach State Party shall notify WHO, by the most efficient means of communication available, by way of\\nthe National IHR Focal Point, and within 24 hours of assessment of public health information, of all\\nevents which may constitute a public health emergency of international concern within its territory in\\naccordance with the decision instrument, as well as any health measure implemented in response to\\nthose events. If the notification received by WHO involves the competency of the International Atomic\\nEnergy Agency (IAEA), the Food and Agriculture Organization (FAO), the World Organisation\\nfor Animal Health (OIE), the UN Environment Programme (UNEP) or other relevant entities,\\nWHO shall immediately notify the IAEA relevant entities.\\n2. Following a notification, a State Party shall continue to communicate to WHO, by the most\\nefficient means of communication available, timely, accurate and sufficiently detailed public health\\ninformation available to it on the notified event, where possible including genetic sequence data, case\\ndefinitions, laboratory results, source and type of the risk, number of cases and deaths, conditions\\naffecting the spread of the disease and the health measures employed; and report, when necessary, the\\ndifficulties faced and support needed in responding to the potential public health emergency of\\ninternational concern.\\x0cA75/18 Annex\\n6\\nArticle 9: Other reports\\n1. WHO may take into account reports from sources other than notifications or consultations and\\nshall assess these reports according to established epidemiological principles and then communicate\\ninformation on the event to the State Party in whose territory the event is allegedly occurring. ', 'content_type': 'text', 'score': 0.5007328202252751, 'meta': {'_split_id': 2, '_split_overlap': [{'range': [0, 195], 'doc_id': 'babf5ad2ca6d5f6e84d3863649708feb'}, {'range': [1557, 1889], 'doc_id': 'afb24e7e74647c20fbb9d84c927127e'}], 'document_name': 'A75_18-en.pdf'}, 'id_hash_keys': ['content'], 'embedding': None, 'id': '77db9d476aea2585a2e282fc75cb5220'}>,\n",
            "               <Document: {'content': 'These Regulations shall enter into force 24 months after the date of notification referred to in\\nparagraph 1 of this Article, and amendments to these Regulations shall enter into force six months\\nafter the date of notification referred to in paragraph 1bis of this Article, except for:\\n(a) a State that has rejected these Regulations or an amendment thereto in accordance with\\nArticle 61;\\n(b) a State that has made a reservation, for which these Regulations shall enter into force as\\nprovided in Article 62;\\n(c) a State that becomes a Member of WHO after the date of the notification by the Director-\\nGeneral referred to in paragraph 1 of this Article, and which is not already a party to these\\nRegulations, for which these Regulations shall enter into force as provided in Article 60; and\\x0cAnnex A75/18\\n13\\n(d) a State not a Member of WHO that accepts these Regulations, for which they shall enter\\ninto force in accordance with paragraph 1 of Article 64.\\n3. If a State is not able to adjust its domestic legislative and administrative arrangements fully with\\nthese Regulations or amendments thereto within the periods set out in paragraph 2 of this Article, as\\napplicable, that State shall submit within the period specified in paragraph 1 of this Article a declaration\\nto the Director-General regarding the outstanding adjustments and achieve them no later than 12 months\\nafter the entry into force of these Regulations or the amendments thereto for that State Party.\\n= = =', 'content_type': 'text', 'score': 0.5007195167533368, 'meta': {'_split_id': 19, '_split_overlap': [{'range': [0, 956], 'doc_id': '4beba08cab048c2a348ab0dc67893e93'}], 'document_name': 'A75_18-en.pdf'}, 'id_hash_keys': ['content'], 'embedding': None, 'id': 'dfece19e10a83b42d26a4e0c9f2e925e'}>,\n",
            "               <Document: {'content': 'When information received by WHO under paragraph 2 of this Article is made available to States\\nParties in accordance with these Regulations, WHO shall make it available to the public if other\\ninformation about the same event has already become publicly available and there is a need for the\\ndissemination of authoritative and independent information.\\nNew 5. WHO shall annually report to the Health Assembly on all activities under this Article,\\nincluding instances of sharing information that has not been verified by a State Party on whose\\nterritory an event that may constitute a public health emergency of international concern is or is\\nallegedly occurring with States Parties through alert systems.\\x0cA75/18 Annex\\n8\\nArticle 12: Determination of a public health emergency of international concern, public health\\nemergency of regional concern, or intermediate health alert\\n1. The Director-General shall determine, on the basis of information received, in particular from the\\nState Party within whose territory an event is occurring, whether an event constitutes a public health\\nemergency of international concern in accordance with the criteria and the procedure set out in these\\nRegulations.\\n2. If the Director-General considers, based on an assessment under these Regulations, that a\\npotential or actual public health emergency of international concern is occurring, the Director-General\\nshall notify all States Parties and seek to consult with the State Party in whose territory the event arises\\nregarding this preliminary determination and may, in accordance with the procedure set forth in\\nArticle 49, seek the views of the Committee established under Article 48 (hereinafter the\\n“Emergency Committee”). ', 'content_type': 'text', 'score': 0.5007092680242592, 'meta': {'_split_id': 8, '_split_overlap': [{'range': [0, 350], 'doc_id': '3f40c2700f13e48a1287da49f9cdd6e5'}, {'range': [1196, 1708], 'doc_id': '32429083e2c1e993d25fafee97d48d98'}], 'document_name': 'A75_18-en.pdf'}, 'id_hash_keys': ['content'], 'embedding': None, 'id': '8576d67a66114406afc6e84ad18772e5'}>],\n",
            " 'node_id': 'Retriever',\n",
            " 'params': {'Retriever': {'filters': {'meta': {'document_name': 'A75_18-en.pdf'}},\n",
            "                          'top_k': 3}},\n",
            " 'query': 'What is the state referring to',\n",
            " 'root_node': 'Query'}\n"
          ]
        }
      ]
    },
    {
      "cell_type": "code",
      "source": [
        "answer.keys()\n",
        "answer['answers']"
      ],
      "metadata": {
        "id": "v1YRFm5aUtXo"
      },
      "execution_count": null,
      "outputs": []
    },
    {
      "cell_type": "code",
      "source": [
        "answer['documents']"
      ],
      "metadata": {
        "colab": {
          "base_uri": "https://localhost:8080/"
        },
        "id": "r0-R__dCY9_B",
        "outputId": "2c1feb94-6097-4a32-e29f-10238e51bb2b"
      },
      "execution_count": null,
      "outputs": [
        {
          "output_type": "execute_result",
          "data": {
            "text/plain": [
              "[<Document: {'content': 'Each State Party shall assess events occurring within its territory by using the decision instrument\\nin Annex 2 within 48 hours of the National IHR Focal Point receiving the relevant information.\\nEach State Party shall notify WHO, by the most efficient means of communication available, by way of\\nthe National IHR Focal Point, and within 24 hours of assessment of public health information, of all\\nevents which may constitute a public health emergency of international concern within its territory in\\naccordance with the decision instrument, as well as any health measure implemented in response to\\nthose events. If the notification received by WHO involves the competency of the International Atomic\\nEnergy Agency (IAEA), the Food and Agriculture Organization (FAO), the World Organisation\\nfor Animal Health (OIE), the UN Environment Programme (UNEP) or other relevant entities,\\nWHO shall immediately notify the IAEA relevant entities.\\n2. Following a notification, a State Party shall continue to communicate to WHO, by the most\\nefficient means of communication available, timely, accurate and sufficiently detailed public health\\ninformation available to it on the notified event, where possible including genetic sequence data, case\\ndefinitions, laboratory results, source and type of the risk, number of cases and deaths, conditions\\naffecting the spread of the disease and the health measures employed; and report, when necessary, the\\ndifficulties faced and support needed in responding to the potential public health emergency of\\ninternational concern.\\x0cA75/18 Annex\\n6\\nArticle 9: Other reports\\n1. WHO may take into account reports from sources other than notifications or consultations and\\nshall assess these reports according to established epidemiological principles and then communicate\\ninformation on the event to the State Party in whose territory the event is allegedly occurring. ', 'content_type': 'text', 'score': 0.5007328202252751, 'meta': {'_split_id': 2, '_split_overlap': [{'range': [0, 195], 'doc_id': 'babf5ad2ca6d5f6e84d3863649708feb'}, {'range': [1557, 1889], 'doc_id': 'afb24e7e74647c20fbb9d84c927127e'}], 'document_name': 'A75_18-en.pdf'}, 'id_hash_keys': ['content'], 'embedding': None, 'id': '77db9d476aea2585a2e282fc75cb5220'}>,\n",
              " <Document: {'content': 'These Regulations shall enter into force 24 months after the date of notification referred to in\\nparagraph 1 of this Article, and amendments to these Regulations shall enter into force six months\\nafter the date of notification referred to in paragraph 1bis of this Article, except for:\\n(a) a State that has rejected these Regulations or an amendment thereto in accordance with\\nArticle 61;\\n(b) a State that has made a reservation, for which these Regulations shall enter into force as\\nprovided in Article 62;\\n(c) a State that becomes a Member of WHO after the date of the notification by the Director-\\nGeneral referred to in paragraph 1 of this Article, and which is not already a party to these\\nRegulations, for which these Regulations shall enter into force as provided in Article 60; and\\x0cAnnex A75/18\\n13\\n(d) a State not a Member of WHO that accepts these Regulations, for which they shall enter\\ninto force in accordance with paragraph 1 of Article 64.\\n3. If a State is not able to adjust its domestic legislative and administrative arrangements fully with\\nthese Regulations or amendments thereto within the periods set out in paragraph 2 of this Article, as\\napplicable, that State shall submit within the period specified in paragraph 1 of this Article a declaration\\nto the Director-General regarding the outstanding adjustments and achieve them no later than 12 months\\nafter the entry into force of these Regulations or the amendments thereto for that State Party.\\n= = =', 'content_type': 'text', 'score': 0.5007195167533368, 'meta': {'_split_id': 19, '_split_overlap': [{'range': [0, 956], 'doc_id': '4beba08cab048c2a348ab0dc67893e93'}], 'document_name': 'A75_18-en.pdf'}, 'id_hash_keys': ['content'], 'embedding': None, 'id': 'dfece19e10a83b42d26a4e0c9f2e925e'}>,\n",
              " <Document: {'content': 'When information received by WHO under paragraph 2 of this Article is made available to States\\nParties in accordance with these Regulations, WHO shall make it available to the public if other\\ninformation about the same event has already become publicly available and there is a need for the\\ndissemination of authoritative and independent information.\\nNew 5. WHO shall annually report to the Health Assembly on all activities under this Article,\\nincluding instances of sharing information that has not been verified by a State Party on whose\\nterritory an event that may constitute a public health emergency of international concern is or is\\nallegedly occurring with States Parties through alert systems.\\x0cA75/18 Annex\\n8\\nArticle 12: Determination of a public health emergency of international concern, public health\\nemergency of regional concern, or intermediate health alert\\n1. The Director-General shall determine, on the basis of information received, in particular from the\\nState Party within whose territory an event is occurring, whether an event constitutes a public health\\nemergency of international concern in accordance with the criteria and the procedure set out in these\\nRegulations.\\n2. If the Director-General considers, based on an assessment under these Regulations, that a\\npotential or actual public health emergency of international concern is occurring, the Director-General\\nshall notify all States Parties and seek to consult with the State Party in whose territory the event arises\\nregarding this preliminary determination and may, in accordance with the procedure set forth in\\nArticle 49, seek the views of the Committee established under Article 48 (hereinafter the\\n“Emergency Committee”). ', 'content_type': 'text', 'score': 0.5007092680242592, 'meta': {'_split_id': 8, '_split_overlap': [{'range': [0, 350], 'doc_id': '3f40c2700f13e48a1287da49f9cdd6e5'}, {'range': [1196, 1708], 'doc_id': '32429083e2c1e993d25fafee97d48d98'}], 'document_name': 'A75_18-en.pdf'}, 'id_hash_keys': ['content'], 'embedding': None, 'id': '8576d67a66114406afc6e84ad18772e5'}>]"
            ]
          },
          "metadata": {},
          "execution_count": 32
        }
      ]
    },
    {
      "cell_type": "code",
      "source": [
        "from langchain.chat_models import ChatOpenAI\n",
        "chat = ChatOpenAI(max_tokens=500, model='gpt-3.5-turbo', openai_api_key='key')"
      ],
      "metadata": {
        "id": "rfkHW0J6ZETy"
      },
      "execution_count": null,
      "outputs": []
    },
    {
      "cell_type": "code",
      "source": [
        "from langchain.schema import AIMessage, HumanMessage, SystemMessage\n",
        "messages = [\n",
        "    SystemMessage(\n",
        "        content=\"You are a helpful assistant that uses provided context to answer questions concisely. \\\n",
        "        If the answer is not provided in the context, reply, 'I don't know'\"\n",
        "    ),\n",
        "    HumanMessage(\n",
        "        content=\"Question: What is state party? Context: {0}\".format(answer['documents'])\n",
        "    )\n",
        "]\n",
        "chat(messages)"
      ],
      "metadata": {
        "colab": {
          "base_uri": "https://localhost:8080/"
        },
        "id": "L3lkFxsseU7k",
        "outputId": "9b2a99cb-bd40-4a32-bea6-dad989fd2991"
      },
      "execution_count": null,
      "outputs": [
        {
          "output_type": "execute_result",
          "data": {
            "text/plain": [
              "AIMessage(content='A state party refers to a country that is a party to an international agreement or treaty. In the given context, it refers to countries that are signatories to the International Health Regulations (IHR) and have certain obligations, such as assessing events occurring within their territory and notifying the World Health Organization (WHO) of public health emergencies of international concern.', additional_kwargs={}, example=False)"
            ]
          },
          "metadata": {},
          "execution_count": 36
        }
      ]
    }
  ]
}