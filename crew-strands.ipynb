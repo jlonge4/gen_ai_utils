{
 "cells": [
  {
   "cell_type": "code",
   "execution_count": null,
   "id": "e12bd4be",
   "metadata": {},
   "outputs": [],
   "source": [
    "%uv pip install -U strands-agents-tools strands-agents crewai "
   ]
  },
  {
   "cell_type": "code",
   "execution_count": 14,
   "id": "0b815811",
   "metadata": {},
   "outputs": [],
   "source": [
    "from strands import Agent\n",
    "from strands.models import BedrockModel\n",
    "import boto3\n",
    "from strands_tools import calculator\n",
    "from pydantic import BaseModel\n",
    "from crewai.tools import BaseTool\n",
    "from typing import Type\n",
    "from pydantic import BaseModel, Field\n",
    "from crewai import Agent, Crew, Task, LLM"
   ]
  },
  {
   "cell_type": "code",
   "execution_count": null,
   "id": "f18173ef",
   "metadata": {},
   "outputs": [],
   "source": [
    "session = boto3.Session()\n",
    "\n",
    "credentials = session.get_credentials().get_frozen_credentials()\n",
    "aws_access_key_id = credentials.access_key\n",
    "aws_secret_access_key = credentials.secret_key\n",
    "aws_session_token = credentials.token  \n",
    "aws_region_name = session.region_name\n",
    "\n",
    "llm = LLM(\n",
    "    model=\"bedrock/anthropic.claude-3-sonnet-20240229-v1:0\",\n",
    "    aws_access_key_id=aws_access_key_id,\n",
    "    aws_secret_access_key=aws_secret_access_key,\n",
    "    aws_region_name=aws_region_name\n",
    ")"
   ]
  },
  {
   "cell_type": "code",
   "execution_count": null,
   "id": "916ebbd0",
   "metadata": {},
   "outputs": [],
   "source": [
    "class MyToolInput(BaseModel):\n",
    "    \"\"\"Input schema for MyCustomTool.\"\"\"\n",
    "    argument: str = Field(..., description=\"The user's mathematical conversion query.\")\n",
    "\n",
    "class StrandsAgentConversionTool(BaseTool):\n",
    "    name: str = \"Strands Agent for mathematical conversions\"\n",
    "    description: str = \"This Agent as a tool accurately converts units of measurement, such as converting feet to meters or miles to kilometers, etc.\"\n",
    "    args_schema: Type[BaseModel] = MyToolInput\n",
    "\n",
    "    def _run(self, argument: str) -> str:\n",
    "        SYSTEM_INSTRUCTION = f\"\"\"\n",
    "            You are a specialized assistant for mathematical conversions. \n",
    "            Your sole purpose is to use the 'calculator' tool to answer questions about conversions. \n",
    "            If the user asks about anything other than mathematical conversions,\n",
    "            politely state that you cannot help with that topic and can only assist with math conversion-related queries. \n",
    "            Do not attempt to answer unrelated questions or use tools for other purposes.\n",
    "\n",
    "            Respond in the following format using <answer> tags:\n",
    "            <answer>\n",
    "            ANSWER: Your answer here.\n",
    "            </answer>\"\"\"\n",
    "        \n",
    "        model = BedrockModel(\n",
    "            model_id='us.anthropic.claude-3-7-sonnet-20250219-v1:0',\n",
    "            boto_session=session,\n",
    "            temperature=0.01,\n",
    "        )\n",
    "\n",
    "        agent = Agent(\n",
    "            system_prompt=SYSTEM_INSTRUCTION, model=model, tools=[calculator]\n",
    "        )\n",
    "\n",
    "        result = agent(argument)\n",
    "        response_text = result.message[\"content\"][0][\"text\"]\n",
    "        return response_text"
   ]
  },
  {
   "cell_type": "markdown",
   "id": "39c5b6cf",
   "metadata": {},
   "source": [
    "## Testing the tool"
   ]
  },
  {
   "cell_type": "code",
   "execution_count": 5,
   "id": "41a7c254",
   "metadata": {},
   "outputs": [
    {
     "name": "stdout",
     "output_type": "stream",
     "text": [
      "Using Tool: Strands Agent for mathematical conversions\n",
      "been called\n",
      "I'll help you convert 100 degrees Celsius to Fahrenheit using the temperature conversion formula.\n",
      "Tool #1: calculator\n"
     ]
    },
    {
     "data": {
      "text/html": [
       "<pre style=\"white-space:pre;overflow-x:auto;line-height:normal;font-family:Menlo,'DejaVu Sans Mono',consolas,'Courier New',monospace\"><span style=\"color: #000080; text-decoration-color: #000080\">╭────────────────────────────────────────────── </span><span style=\"color: #000080; text-decoration-color: #000080; font-weight: bold\">Calculation Result</span><span style=\"color: #000080; text-decoration-color: #000080\"> ───────────────────────────────────────────────╮</span>\n",
       "<span style=\"color: #000080; text-decoration-color: #000080\">│</span>                                                                                                                 <span style=\"color: #000080; text-decoration-color: #000080\">│</span>\n",
       "<span style=\"color: #000080; text-decoration-color: #000080\">│</span>  ╭───────────┬─────────────────────╮                                                                            <span style=\"color: #000080; text-decoration-color: #000080\">│</span>\n",
       "<span style=\"color: #000080; text-decoration-color: #000080\">│</span>  │<span style=\"color: #008080; text-decoration-color: #008080\"> Operation </span>│<span style=\"color: #008000; text-decoration-color: #008000\"> Evaluate Expression </span>│                                                                            <span style=\"color: #000080; text-decoration-color: #000080\">│</span>\n",
       "<span style=\"color: #000080; text-decoration-color: #000080\">│</span>  │<span style=\"color: #008080; text-decoration-color: #008080\"> Input     </span>│<span style=\"color: #008000; text-decoration-color: #008000\"> (100 * 9/5) + 32    </span>│                                                                            <span style=\"color: #000080; text-decoration-color: #000080\">│</span>\n",
       "<span style=\"color: #000080; text-decoration-color: #000080\">│</span>  │<span style=\"color: #008080; text-decoration-color: #008080\"> Result    </span>│<span style=\"color: #008000; text-decoration-color: #008000\"> 212                 </span>│                                                                            <span style=\"color: #000080; text-decoration-color: #000080\">│</span>\n",
       "<span style=\"color: #000080; text-decoration-color: #000080\">│</span>  ╰───────────┴─────────────────────╯                                                                            <span style=\"color: #000080; text-decoration-color: #000080\">│</span>\n",
       "<span style=\"color: #000080; text-decoration-color: #000080\">│</span>                                                                                                                 <span style=\"color: #000080; text-decoration-color: #000080\">│</span>\n",
       "<span style=\"color: #000080; text-decoration-color: #000080\">╰─────────────────────────────────────────────────────────────────────────────────────────────────────────────────╯</span>\n",
       "</pre>\n"
      ],
      "text/plain": [
       "\u001b[34m╭─\u001b[0m\u001b[34m─────────────────────────────────────────────\u001b[0m\u001b[34m \u001b[0m\u001b[1;34mCalculation Result\u001b[0m\u001b[34m \u001b[0m\u001b[34m──────────────────────────────────────────────\u001b[0m\u001b[34m─╮\u001b[0m\n",
       "\u001b[34m│\u001b[0m                                                                                                                 \u001b[34m│\u001b[0m\n",
       "\u001b[34m│\u001b[0m  ╭───────────┬─────────────────────╮                                                                            \u001b[34m│\u001b[0m\n",
       "\u001b[34m│\u001b[0m  │\u001b[36m \u001b[0m\u001b[36mOperation\u001b[0m\u001b[36m \u001b[0m│\u001b[32m \u001b[0m\u001b[32mEvaluate Expression\u001b[0m\u001b[32m \u001b[0m│                                                                            \u001b[34m│\u001b[0m\n",
       "\u001b[34m│\u001b[0m  │\u001b[36m \u001b[0m\u001b[36mInput    \u001b[0m\u001b[36m \u001b[0m│\u001b[32m \u001b[0m\u001b[32m(100 * 9/5) + 32   \u001b[0m\u001b[32m \u001b[0m│                                                                            \u001b[34m│\u001b[0m\n",
       "\u001b[34m│\u001b[0m  │\u001b[36m \u001b[0m\u001b[36mResult   \u001b[0m\u001b[36m \u001b[0m│\u001b[32m \u001b[0m\u001b[32m212                \u001b[0m\u001b[32m \u001b[0m│                                                                            \u001b[34m│\u001b[0m\n",
       "\u001b[34m│\u001b[0m  ╰───────────┴─────────────────────╯                                                                            \u001b[34m│\u001b[0m\n",
       "\u001b[34m│\u001b[0m                                                                                                                 \u001b[34m│\u001b[0m\n",
       "\u001b[34m╰─────────────────────────────────────────────────────────────────────────────────────────────────────────────────╯\u001b[0m\n"
      ]
     },
     "metadata": {},
     "output_type": "display_data"
    },
    {
     "name": "stdout",
     "output_type": "stream",
     "text": [
      "<answer>\n",
      "ANSWER: 100 degrees Celsius is equal to 212 degrees Fahrenheit.\n",
      "\n",
      "The conversion from Celsius to Fahrenheit uses the formula: °F = (°C × 9/5) + 32\n",
      "</answer><answer>\n",
      "ANSWER: 100 degrees Celsius is equal to 212 degrees Fahrenheit.\n",
      "\n",
      "The conversion from Celsius to Fahrenheit uses the formula: °F = (°C × 9/5) + 32\n",
      "</answer>\n"
     ]
    }
   ],
   "source": [
    "tool = StrandsAgentConversionTool()\n",
    "print(tool.run(argument=\"Convert 100C to Fahrenheit.\"))"
   ]
  },
  {
   "cell_type": "code",
   "execution_count": null,
   "id": "805c8f93",
   "metadata": {},
   "outputs": [],
   "source": [
    "# Create an agent with Bedrock as the LLM provider\n",
    "conversion_agent = Agent(\n",
    "    role=\"You are a helpful assistant that can answer questions about various things as well as perform mathematical conversions using an agent as a tool.\",\n",
    "    goal=\"Answer the user's question.\",\n",
    "    backstory=\"You have access to your pretrained knowledge and can use a specialized agent for mathematical conversions.\",\n",
    "    tools=[StrandsAgentConversionTool()],\n",
    "    llm=llm\n",
    ")"
   ]
  },
  {
   "cell_type": "code",
   "execution_count": 12,
   "id": "aaa72142",
   "metadata": {},
   "outputs": [],
   "source": [
    "task = Task(\n",
    "  description=\"Answer the following question: {question}\",\n",
    "  expected_output=\"A detailed and accurate answer to the user's question.\",\n",
    "  agent=conversion_agent,\n",
    ")\n",
    "\n",
    "crew = Crew(\n",
    "    agents=[conversion_agent],\n",
    "    tasks=[task],\n",
    ")"
   ]
  },
  {
   "cell_type": "code",
   "execution_count": 13,
   "id": "2718074e",
   "metadata": {},
   "outputs": [
    {
     "name": "stdout",
     "output_type": "stream",
     "text": [
      "been called\n",
      "I'll convert 100 degrees Celsius to Fahrenheit for you.\n",
      "Tool #3: calculator\n"
     ]
    },
    {
     "data": {
      "text/html": [
       "<pre style=\"white-space:pre;overflow-x:auto;line-height:normal;font-family:Menlo,'DejaVu Sans Mono',consolas,'Courier New',monospace\"><span style=\"color: #000080; text-decoration-color: #000080\">╭────────────────────────────────────────────── </span><span style=\"color: #000080; text-decoration-color: #000080; font-weight: bold\">Calculation Result</span><span style=\"color: #000080; text-decoration-color: #000080\"> ───────────────────────────────────────────────╮</span>\n",
       "<span style=\"color: #000080; text-decoration-color: #000080\">│</span>                                                                                                                 <span style=\"color: #000080; text-decoration-color: #000080\">│</span>\n",
       "<span style=\"color: #000080; text-decoration-color: #000080\">│</span>  ╭───────────┬─────────────────────╮                                                                            <span style=\"color: #000080; text-decoration-color: #000080\">│</span>\n",
       "<span style=\"color: #000080; text-decoration-color: #000080\">│</span>  │<span style=\"color: #008080; text-decoration-color: #008080\"> Operation </span>│<span style=\"color: #008000; text-decoration-color: #008000\"> Evaluate Expression </span>│                                                                            <span style=\"color: #000080; text-decoration-color: #000080\">│</span>\n",
       "<span style=\"color: #000080; text-decoration-color: #000080\">│</span>  │<span style=\"color: #008080; text-decoration-color: #008080\"> Input     </span>│<span style=\"color: #008000; text-decoration-color: #008000\"> (100 * 9/5) + 32    </span>│                                                                            <span style=\"color: #000080; text-decoration-color: #000080\">│</span>\n",
       "<span style=\"color: #000080; text-decoration-color: #000080\">│</span>  │<span style=\"color: #008080; text-decoration-color: #008080\"> Result    </span>│<span style=\"color: #008000; text-decoration-color: #008000\"> 212                 </span>│                                                                            <span style=\"color: #000080; text-decoration-color: #000080\">│</span>\n",
       "<span style=\"color: #000080; text-decoration-color: #000080\">│</span>  ╰───────────┴─────────────────────╯                                                                            <span style=\"color: #000080; text-decoration-color: #000080\">│</span>\n",
       "<span style=\"color: #000080; text-decoration-color: #000080\">│</span>                                                                                                                 <span style=\"color: #000080; text-decoration-color: #000080\">│</span>\n",
       "<span style=\"color: #000080; text-decoration-color: #000080\">╰─────────────────────────────────────────────────────────────────────────────────────────────────────────────────╯</span>\n",
       "</pre>\n"
      ],
      "text/plain": [
       "\u001b[34m╭─\u001b[0m\u001b[34m─────────────────────────────────────────────\u001b[0m\u001b[34m \u001b[0m\u001b[1;34mCalculation Result\u001b[0m\u001b[34m \u001b[0m\u001b[34m──────────────────────────────────────────────\u001b[0m\u001b[34m─╮\u001b[0m\n",
       "\u001b[34m│\u001b[0m                                                                                                                 \u001b[34m│\u001b[0m\n",
       "\u001b[34m│\u001b[0m  ╭───────────┬─────────────────────╮                                                                            \u001b[34m│\u001b[0m\n",
       "\u001b[34m│\u001b[0m  │\u001b[36m \u001b[0m\u001b[36mOperation\u001b[0m\u001b[36m \u001b[0m│\u001b[32m \u001b[0m\u001b[32mEvaluate Expression\u001b[0m\u001b[32m \u001b[0m│                                                                            \u001b[34m│\u001b[0m\n",
       "\u001b[34m│\u001b[0m  │\u001b[36m \u001b[0m\u001b[36mInput    \u001b[0m\u001b[36m \u001b[0m│\u001b[32m \u001b[0m\u001b[32m(100 * 9/5) + 32   \u001b[0m\u001b[32m \u001b[0m│                                                                            \u001b[34m│\u001b[0m\n",
       "\u001b[34m│\u001b[0m  │\u001b[36m \u001b[0m\u001b[36mResult   \u001b[0m\u001b[36m \u001b[0m│\u001b[32m \u001b[0m\u001b[32m212                \u001b[0m\u001b[32m \u001b[0m│                                                                            \u001b[34m│\u001b[0m\n",
       "\u001b[34m│\u001b[0m  ╰───────────┴─────────────────────╯                                                                            \u001b[34m│\u001b[0m\n",
       "\u001b[34m│\u001b[0m                                                                                                                 \u001b[34m│\u001b[0m\n",
       "\u001b[34m╰─────────────────────────────────────────────────────────────────────────────────────────────────────────────────╯\u001b[0m\n"
      ]
     },
     "metadata": {},
     "output_type": "display_data"
    },
    {
     "name": "stdout",
     "output_type": "stream",
     "text": [
      "<answer>\n",
      "ANSWER: 100 degrees Celsius is equal to 212 degrees Fahrenheit.\n",
      "\n",
      "The conversion from Celsius to Fahrenheit uses the formula: °F = (°C × 9/5) + 32\n",
      "</answer>100 degrees Celsius is equal to 212 degrees Fahrenheit.\n",
      "\n",
      "The conversion from Celsius to Fahrenheit uses the formula: °F = (°C × 9/5) + 32\n"
     ]
    }
   ],
   "source": [
    "result = crew.kickoff(inputs={\"question\": \"What is 100C in Fahrenheit?\"})\n",
    "print(result)"
   ]
  },
  {
   "cell_type": "code",
   "execution_count": null,
   "id": "3a04a21c",
   "metadata": {},
   "outputs": [],
   "source": []
  }
 ],
 "metadata": {
  "kernelspec": {
   "display_name": ".venv",
   "language": "python",
   "name": "python3"
  },
  "language_info": {
   "codemirror_mode": {
    "name": "ipython",
    "version": 3
   },
   "file_extension": ".py",
   "mimetype": "text/x-python",
   "name": "python",
   "nbconvert_exporter": "python",
   "pygments_lexer": "ipython3",
   "version": "3.12.8"
  }
 },
 "nbformat": 4,
 "nbformat_minor": 5
}
