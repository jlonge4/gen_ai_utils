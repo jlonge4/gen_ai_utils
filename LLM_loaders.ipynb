{
  "nbformat": 4,
  "nbformat_minor": 0,
  "metadata": {
    "colab": {
      "provenance": [],
      "authorship_tag": "ABX9TyNhHFn48lRO+6s4RYmU871R",
      "include_colab_link": true
    },
    "kernelspec": {
      "name": "python3",
      "display_name": "Python 3"
    },
    "language_info": {
      "name": "python"
    }
  },
  "cells": [
    {
      "cell_type": "markdown",
      "metadata": {
        "id": "view-in-github",
        "colab_type": "text"
      },
      "source": [
        "<a href=\"https://colab.research.google.com/github/jlonge4/gen_ai_utils/blob/main/LLM_loaders.ipynb\" target=\"_parent\"><img src=\"https://colab.research.google.com/assets/colab-badge.svg\" alt=\"Open In Colab\"/></a>"
      ]
    },
    {
      "cell_type": "code",
      "execution_count": null,
      "metadata": {
        "colab": {
          "base_uri": "https://localhost:8080/"
        },
        "id": "eBfiCcI8qxki",
        "outputId": "7b9bcfb1-1c3b-4a9b-e709-5867374ff09a"
      },
      "outputs": [
        {
          "output_type": "stream",
          "name": "stdout",
          "text": [
            "Installing collected packages: XlsxWriter, python-pptx\n",
            "Successfully installed XlsxWriter-3.1.9 python-pptx-0.6.23\n"
          ]
        }
      ],
      "source": [
        "pip install langchain farm-haystack faiss-gpu boto3 unstructured python-pptx"
      ]
    },
    {
      "cell_type": "code",
      "source": [
        "import boto3\n",
        "bedrock = boto3.client('bedrock-runtime',\n",
        "                       region_name='us-east-1')\n",
        "from langchain.llms import Bedrock\n",
        "model_kwargs =  {\n",
        "    \"max_tokens_to_sample\": 8191,\n",
        "    \"temperature\": 0.5,\n",
        "    \"top_k\": 500,\n",
        "    \"top_p\": 1,\n",
        "}\n",
        "\n",
        "llm = Bedrock(client=bedrock, model_id='anthropic.claude-v2', model_kwargs=model_kwargs, verbose=False)"
      ],
      "metadata": {
        "id": "cSb0BZRmrsmw"
      },
      "execution_count": null,
      "outputs": []
    },
    {
      "cell_type": "markdown",
      "source": [
        "LANNGCHAIN CSV LOADER"
      ],
      "metadata": {
        "id": "i007u0LJs0G2"
      }
    },
    {
      "cell_type": "code",
      "source": [
        "from langchain.document_loaders.csv_loader import CSVLoader\n",
        "loader = CSVLoader(file_path=\"/content/sample_data/bus_earnings_6_2_23.csv\")\n",
        "\n",
        "data = loader.load()"
      ],
      "metadata": {
        "id": "JiAtupwlq1xw"
      },
      "execution_count": null,
      "outputs": []
    },
    {
      "cell_type": "code",
      "source": [
        "data[:3]"
      ],
      "metadata": {
        "colab": {
          "base_uri": "https://localhost:8080/"
        },
        "id": "PnsLvvv3rnlQ",
        "outputId": "8e5a4707-3cf6-45bd-cf2e-48d98d15bfac"
      },
      "execution_count": null,
      "outputs": [
        {
          "output_type": "execute_result",
          "data": {
            "text/plain": [
              "[Document(page_content=': 0\\nWEEK: 2023-02-18T20%3A40%3A37.259274Z\\nEARNINGS: 1976.85', metadata={'source': '/content/sample_data/bus_earnings_6_2_23.csv', 'row': 0}),\n",
              " Document(page_content=': 1\\nWEEK: 2023-03-27T12%3A00%3A34.272607Z\\nEARNINGS: 278.1', metadata={'source': '/content/sample_data/bus_earnings_6_2_23.csv', 'row': 1}),\n",
              " Document(page_content=': 2\\nWEEK: 2023-04-03T12%3A00%3A34.290030Z\\nEARNINGS: 509.85', metadata={'source': '/content/sample_data/bus_earnings_6_2_23.csv', 'row': 2})]"
            ]
          },
          "metadata": {},
          "execution_count": 6
        }
      ]
    },
    {
      "cell_type": "code",
      "source": [
        "resp = llm(f'What were the earnings for May 1st using this data <data>{data}</data>')"
      ],
      "metadata": {
        "id": "BRIr-W_MsDYs"
      },
      "execution_count": null,
      "outputs": []
    },
    {
      "cell_type": "code",
      "source": [
        "resp"
      ],
      "metadata": {
        "colab": {
          "base_uri": "https://localhost:8080/",
          "height": 87
        },
        "id": "d4vZhl4SsOOt",
        "outputId": "20ed642c-3dd0-4e06-ea1f-d4bd8e94bba3"
      },
      "execution_count": null,
      "outputs": [
        {
          "output_type": "execute_result",
          "data": {
            "text/plain": [
              "\" Based on the provided data, the earnings for May 1st, 2023 are 345.05. This can be found in the document with metadata {'row': 5}:\\n\\nDocument(page_content=': 5\\nWEEK: 2023-05-01T12%3A00%3A34.370572Z  \\nEARNINGS: 345.05', metadata={'source': '/content/sample_data/bus_earnings_6_2_23.csv', 'row': 5})\\n\\nThe key information is the date 2023-05-01 in the WEEK field, which indicates this document contains data for May 1st. The corresponding EARNINGS field shows the earnings for that date were 345.05.\""
            ],
            "application/vnd.google.colaboratory.intrinsic+json": {
              "type": "string"
            }
          },
          "metadata": {},
          "execution_count": 9
        }
      ]
    },
    {
      "cell_type": "markdown",
      "source": [
        "LANGCHAIN POWERPOINT LOADER"
      ],
      "metadata": {
        "id": "n_K05KymsuHe"
      }
    },
    {
      "cell_type": "code",
      "source": [
        "from langchain.document_loaders import UnstructuredPowerPointLoader\n",
        "loader = UnstructuredPowerPointLoader(\"/content/sample_data/D209 Data Mining 1 Task 1 Cohort.pptx\")\n",
        "# This comes out as a massive chunk of text. So it will need to be preprocessed accordingly.\n",
        "data = loader.load()"
      ],
      "metadata": {
        "colab": {
          "base_uri": "https://localhost:8080/"
        },
        "id": "spVdVnCKsPFz",
        "outputId": "64758075-528c-46bd-c417-a4317e15cc44"
      },
      "execution_count": null,
      "outputs": [
        {
          "output_type": "stream",
          "name": "stderr",
          "text": [
            "[nltk_data] Downloading package punkt to /root/nltk_data...\n",
            "[nltk_data]   Unzipping tokenizers/punkt.zip.\n",
            "[nltk_data] Downloading package averaged_perceptron_tagger to\n",
            "[nltk_data]     /root/nltk_data...\n",
            "[nltk_data]   Unzipping taggers/averaged_perceptron_tagger.zip.\n"
          ]
        }
      ]
    },
    {
      "cell_type": "code",
      "source": [
        "llm('Using the data {data} \\n\\n answer the question \\n\\n how do i get access to the course folder?')"
      ],
      "metadata": {
        "colab": {
          "base_uri": "https://localhost:8080/",
          "height": 139
        },
        "id": "4RiTaxb7tXxv",
        "outputId": "920c1daf-372f-4f30-b7a9-de560505442f"
      },
      "execution_count": null,
      "outputs": [
        {
          "output_type": "execute_result",
          "data": {
            "text/plain": [
              "' Unfortunately the data provided does not contain enough information to directly answer how to access a specific course folder. However, here are a few general tips on accessing course folders:\\n\\n- Course folders are usually located in the learning management system (LMS) used by the school, such as Blackboard, Canvas, Moodle etc. You would need an account and login credentials for the LMS to access course folders.\\n\\n- The instructor may share a direct link to the course folder. This allows access without logging into the full LMS.\\n\\n- Course folders may be hosted on a separate file storage system and the instructor would need to provide the URL or login details.\\n\\n- Some common locations for course folders include inside the LMS course page, under \"course documents\" or \"course files\", in a module named \"course materials\", etc.\\n\\n- You can try searching the LMS course pages or asking the instructor directly where the folder is located and how to access it. \\n\\n- Bookmarking or saving the course folder URL if provided allows easy access later.\\n\\nWithout more specifics on the platform, course name, instructor, etc. it\\'s difficult to give the exact steps to access the folder. But in general, the instructor controls access and can provide guidance on how to view the course folders.'"
            ],
            "application/vnd.google.colaboratory.intrinsic+json": {
              "type": "string"
            }
          },
          "metadata": {},
          "execution_count": 19
        }
      ]
    },
    {
      "cell_type": "markdown",
      "source": [
        "HAYSTACK PDF LOADER WITH OCR FOR IMAGE DATA\n",
        "\n"
      ],
      "metadata": {
        "id": "hLmhhgTju1PM"
      }
    },
    {
      "cell_type": "code",
      "source": [
        "pip install farm-haystack[pdf] pytesseract"
      ],
      "metadata": {
        "id": "rlqnAiuZwlcI"
      },
      "execution_count": null,
      "outputs": []
    },
    {
      "cell_type": "code",
      "source": [
        "from haystack.pipelines import Pipeline\n",
        "from haystack.nodes import PDFToTextConverter, PreProcessor\n",
        "\n",
        "\n",
        "pdf_converter = PDFToTextConverter(ocr=\"full\")\n",
        "preprocessor = PreProcessor(\n",
        "    clean_empty_lines=True,\n",
        "    clean_whitespace=True,\n",
        "    clean_header_footer=False,\n",
        "    split_by=\"word\",\n",
        "    split_length=500,\n",
        "    split_respect_sentence_boundary=True,\n",
        ")\n",
        "\n",
        "# This is an indexing pipeline\n",
        "p = Pipeline()\n",
        "\n",
        "p.add_node(component=pdf_converter, name=\"PdfConverter\", inputs=[\"FileTypeClassifier.output_2\"])\n",
        "\n",
        "p.add_node(\n",
        "    component=preprocessor,\n",
        "    name=\"Preprocessor\",\n",
        "    inputs=[\"PdfConverter\"],\n",
        ")\n",
        "\n",
        "docs = p.run(file_paths=[\"/content/sample_data/Dr. Middleton Getting Started with D208(Part I)COIT.pdf\"])"
      ],
      "metadata": {
        "id": "ybvEYHlZvT-P"
      },
      "execution_count": null,
      "outputs": []
    },
    {
      "cell_type": "markdown",
      "source": [
        "LANGCHAIN PDF WITH IMAGES"
      ],
      "metadata": {
        "id": "yKOeJ8Zy3tga"
      }
    },
    {
      "cell_type": "code",
      "source": [
        "pip install rapidocr-onnxruntime pypdf\n"
      ],
      "metadata": {
        "colab": {
          "base_uri": "https://localhost:8080/"
        },
        "id": "cGrTqs1c1GIH",
        "outputId": "e2261d5d-4b40-4fd2-9d1b-d476f2b47ed5"
      },
      "execution_count": null,
      "outputs": [
        {
          "output_type": "stream",
          "name": "stdout",
          "text": [
            "Installing collected packages: pypdf\n",
            "Successfully installed pypdf-3.17.1\n"
          ]
        }
      ]
    },
    {
      "cell_type": "code",
      "source": [
        "from langchain.document_loaders import PyPDFLoader\n",
        "loader = PyPDFLoader(\"/content/sample_data/Dr. Middleton Getting Started with D208(Part I)COIT.pdf\", extract_images=True)\n",
        "pages = loader.load()\n",
        "pages[4].page_content"
      ],
      "metadata": {
        "colab": {
          "base_uri": "https://localhost:8080/",
          "height": 107
        },
        "id": "XuvwcdXC0TwG",
        "outputId": "57894410-1377-4154-fb51-177a00b38156"
      },
      "execution_count": null,
      "outputs": [
        {
          "output_type": "stream",
          "name": "stderr",
          "text": [
            "WARNING:root:Because the aspect ratio of the current image exceeds the limit (min_height or width_height_ratio), the program will skip the detection step.\n"
          ]
        },
        {
          "output_type": "execute_result",
          "data": {
            "text/plain": [
              "'Dr. Eric \\nStraw\\nDr. Keiona \\nMiddleton\\nIf your assigned Course Instructor (CI) is not available, feel free to schedule time with any (CI) that supports this course.  \\nVisit “Announcements” within the course \\nto book with any CI.Meet Your Course Instructors\\nDr. William \\nSewell\\nDr. Daniel \\nSmith\\nWGUUTCOLLEGEOFINFORMATIONTECHNOLOGY'"
            ],
            "application/vnd.google.colaboratory.intrinsic+json": {
              "type": "string"
            }
          },
          "metadata": {},
          "execution_count": 5
        }
      ]
    },
    {
      "cell_type": "code",
      "source": [
        "pages[20].page_content"
      ],
      "metadata": {
        "colab": {
          "base_uri": "https://localhost:8080/",
          "height": 122
        },
        "id": "Oy7i-6sp3TDo",
        "outputId": "a0ccaa7d-d708-4ffa-8e89-657e135479c1"
      },
      "execution_count": null,
      "outputs": [
        {
          "output_type": "execute_result",
          "data": {
            "text/plain": [
              "'D208 | Predictive Modeling\\nYOU ARE HERE!•Predictive Modeling (using Regression) is a statistical method that helps us \\nto analyze and understand the relationship between two or more variables \\nof interest.\\n•The process helps to understand which factors are important, which factors \\ncan be ignored, and how they are influencing each other .\\n•Therefore, your goal in this course is to:\\n•Multiple Linear Regression\\n•Logistic Regression\\n•In this course, you will either use Python or R to conduct regression analysis. \\n•Your competence will be demonstrated by the successful completion of the \\nperformance assessment.Data Analytics \\nLife CycleWGUUTCOLLEGEOFINFORMATIONTECHNOLOGYReporting\\nBusiness\\nAnd\\nUnderstanding\\nVisualization\\nData Mining\\nData\\nMachine\\nAcquisition\\nLearning\\nPredictive\\nData\\nModeling\\nCleaning\\nData\\nExploration'"
            ],
            "application/vnd.google.colaboratory.intrinsic+json": {
              "type": "string"
            }
          },
          "metadata": {},
          "execution_count": 6
        }
      ]
    },
    {
      "cell_type": "code",
      "source": [],
      "metadata": {
        "id": "k7C9IyWu3W_d"
      },
      "execution_count": null,
      "outputs": []
    }
  ]
}