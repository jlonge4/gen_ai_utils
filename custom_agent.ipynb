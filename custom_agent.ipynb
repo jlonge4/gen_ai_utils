{
  "nbformat": 4,
  "nbformat_minor": 0,
  "metadata": {
    "colab": {
      "provenance": [],
      "authorship_tag": "ABX9TyP8Q79LqQMVP5071a0ZBG1y",
      "include_colab_link": true
    },
    "kernelspec": {
      "name": "python3",
      "display_name": "Python 3"
    },
    "language_info": {
      "name": "python"
    }
  },
  "cells": [
    {
      "cell_type": "markdown",
      "metadata": {
        "id": "view-in-github",
        "colab_type": "text"
      },
      "source": [
        "<a href=\"https://colab.research.google.com/github/jlonge4/gen_ai_utils/blob/main/custom_agent.ipynb\" target=\"_parent\"><img src=\"https://colab.research.google.com/assets/colab-badge.svg\" alt=\"Open In Colab\"/></a>"
      ]
    },
    {
      "cell_type": "code",
      "execution_count": null,
      "metadata": {
        "id": "HNoBkzkzU8Uj"
      },
      "outputs": [],
      "source": [
        "pip install boto3 langchain"
      ]
    },
    {
      "cell_type": "code",
      "source": [
        "import boto3\n",
        "bedrock = boto3.client('bedrock-runtime')\n",
        "from langchain.llms import Bedrock\n",
        "model_kwargs =  {\n",
        "    \"max_tokens_to_sample\": 8191,\n",
        "    \"temperature\": 0.5,\n",
        "    \"top_k\": 500,\n",
        "    \"top_p\": 1,\n",
        "}\n",
        "\n",
        "llm = Bedrock(client=bedrock, model_id='anthropic.claude-v2', model_kwargs=model_kwargs, verbose=False)"
      ],
      "metadata": {
        "id": "087seWFyYT4B"
      },
      "execution_count": 117,
      "outputs": []
    },
    {
      "cell_type": "code",
      "source": [
        "tools = []\n",
        "tools.append(\"\"\"Name: calculator_tool(). Description: Use this tool when you need to multiply a number by 10\"\"\")\n",
        "tools.append(\"\"\"Name: hello_tool(). Description: Choose this tool when you want to extend a greeting\"\"\")\n",
        "tools.append(\"\"\"Name: none_tool(). Description: Choose this tool when no tool is needed\"\"\")"
      ],
      "metadata": {
        "id": "EZCEU5B9aBo-"
      },
      "execution_count": 118,
      "outputs": []
    },
    {
      "cell_type": "code",
      "source": [
        "def task_planner(query):\n",
        "  \"\"\"The agent orchestrator uses task planner to predict a retrieval tool based on user input\"\"\"\n",
        "  prompt = f'Human:\\n\\n Your mission in life is to decide which tool to use based on a user query {query} and the list of available tools {tools}. Return only the tool name. Assistant:\\n\\n'\n",
        "  tool_prediction = llm(prompt)\n",
        "  return tool_prediction.strip()"
      ],
      "metadata": {
        "id": "CKt2q598VCQd"
      },
      "execution_count": 68,
      "outputs": []
    },
    {
      "cell_type": "code",
      "source": [
        "import re\n",
        "def tool_parser(tool_prediction, query):\n",
        "  \"\"\"clean up which tool model chooses. ie i want to use the calculator() becomes calculator()\"\"\"\n",
        "  expected_pattern = r\"^\\w+\\(\\)$\"\n",
        "  matches = bool(re.match(expected_pattern, tool_prediction.strip()))\n",
        "  if matches:\n",
        "    print(\"match\")\n",
        "    prompt = f\"Human:\\n\\n Your mission in life is to use the {tool_prediction} and description of tools {tools} and user query {query} to figure out which variable should be passed to the tool. Example: If you have a function that wants to multiply 5 * 10. The answer is 5. Example2: if you want to greet a friend named Joe, the answer is Joe Never say more than just the number. Assistant:\\n\\n\"\n",
        "    tool_input = llm(prompt)\n",
        "    return tool_prediction, tool_input\n",
        "  else:\n",
        "    print(\"doesn't match\")\n",
        "    raise Exception(f\"Invalid tool prediction: {tool_prediction}\")"
      ],
      "metadata": {
        "id": "r_8FOussVTyy"
      },
      "execution_count": 126,
      "outputs": []
    },
    {
      "cell_type": "code",
      "source": [
        "def tool_dispatch(tool_prediction, tool_input):\n",
        "  \"\"\"The tool dispatch mechanism works via if/else logic to call appropriate Lambda functions depending on the tool’s name.\"\"\"\n",
        "  def calculator(x):\n",
        "    return x*10\n",
        "\n",
        "  def hello(x):\n",
        "    return f\"Hello {x}!!\"\n",
        "\n",
        "  tool_prediction = tool_prediction.strip()\n",
        "  if tool_prediction.strip() == \"calculator_tool()\":\n",
        "    return calculator(int(tool_input))\n",
        "  elif tool_prediction == \"none_tool()\":\n",
        "    return 'Epic Fail'\n",
        "  elif tool_prediction == \"hello_tool()\":\n",
        "    return hello(tool_input)"
      ],
      "metadata": {
        "id": "x2Cr1QlhVm4i"
      },
      "execution_count": 125,
      "outputs": []
    },
    {
      "cell_type": "code",
      "source": [
        "def output_parser(raw_tool_output):\n",
        "  \"\"\"Clean up tool output\"\"\"\n",
        "  if raw_tool_output:\n",
        "    return 200, raw_tool_output\n",
        "  else:\n",
        "    return 400, raw_tool_output"
      ],
      "metadata": {
        "id": "k3Fof3RfV2vE"
      },
      "execution_count": 120,
      "outputs": []
    },
    {
      "cell_type": "code",
      "source": [
        "def output_interpreter(user_input, tool_output):\n",
        "  \"\"\"Pass output to model and figure out if correct answer is achieved\"\"\"\n",
        "  prompt = f\"Human:\\n\\nYour mission in life is to use \\n Question:{user_input} \\nand \\n Answer:{tool_output} to determine if the answer is accurate. For example Question: I want to multiply 5 * 10. Answer: 50. Response is True. Respond only with the word True or False. Assistant:\\n\\n\"\n",
        "  classification = llm(prompt).strip().replace(\" \", \"\")\n",
        "  print(classification)\n",
        "  if classification == 'True':\n",
        "    return True, tool_output\n",
        "  else:\n",
        "    return False, tool_output\n",
        "  return"
      ],
      "metadata": {
        "id": "NwKHRePSV5uW"
      },
      "execution_count": 114,
      "outputs": []
    },
    {
      "cell_type": "code",
      "source": [
        "MAX_LOOP_COUNT = 2 # stop the agent loop after up to 2 iterations\n",
        "# ... helper function definitions ...\n",
        "def agent_handler(query):\n",
        "    user_input = query\n",
        "    print(f\"user input: {user_input}\")\n",
        "\n",
        "    final_generation = \"\"\n",
        "    is_task_complete = False\n",
        "    loop_count = 0\n",
        "\n",
        "    # start of agent loop\n",
        "    while not is_task_complete and loop_count < MAX_LOOP_COUNT:\n",
        "        tool_prediction = task_planner(user_input)\n",
        "        print(f\"tool_prediction: {tool_prediction}\")\n",
        "\n",
        "        tool_name, tool_input, tool_output, error_msg = None, None, \"\", \"\"\n",
        "\n",
        "        try:\n",
        "            tool_name, tool_input = tool_parser(tool_prediction, user_input)\n",
        "            print(f\"tool name: {tool_name}\")\n",
        "            print(f\"tool input: {tool_input}\")\n",
        "        except Exception as e:\n",
        "            error_msg = str(e)\n",
        "            print(f\"tool parse error: {error_msg}\")\n",
        "\n",
        "        if tool_name is not None: # if a valid tool is selected and parsed\n",
        "            raw_tool_output = tool_dispatch(tool_name, tool_input)\n",
        "            tool_status, tool_output = output_parser(raw_tool_output)\n",
        "            print(tool_status)\n",
        "            print(f\"tool status: {tool_status}\")\n",
        "\n",
        "            if tool_status == 200:\n",
        "                is_task_complete, final_generation = output_interpreter(user_input, tool_output)\n",
        "                print(is_task_complete)\n",
        "            else:\n",
        "                final_generation = tool_output\n",
        "        else: # if no valid tool was selected and parsed, either return the default msg or error msg\n",
        "            final_generation = 'Epic Fail' if error_msg == \"\" else error_msg\n",
        "\n",
        "        loop_count += 1\n",
        "\n",
        "    return {\n",
        "        'statusCode': 200,\n",
        "        'body': final_generation\n",
        "    }"
      ],
      "metadata": {
        "id": "e0urfcdlU-gW"
      },
      "execution_count": 85,
      "outputs": []
    },
    {
      "cell_type": "code",
      "source": [
        "agent_handler(\"I want to greet my friend josh\")"
      ],
      "metadata": {
        "colab": {
          "base_uri": "https://localhost:8080/"
        },
        "id": "8HvaSC6Wa9QF",
        "outputId": "69977f66-2096-4972-e74e-4f2fa2601931"
      },
      "execution_count": 127,
      "outputs": [
        {
          "output_type": "stream",
          "name": "stdout",
          "text": [
            "user input: I want to greet my friend josh\n",
            "tool_prediction: hello_tool()\n",
            "match\n",
            "tool name: hello_tool()\n",
            "tool input:  josh\n",
            "200\n",
            "tool status: 200\n",
            "HelloJosh!\n",
            "False\n",
            "tool_prediction: hello_tool()\n",
            "match\n",
            "tool name: hello_tool()\n",
            "tool input:  Josh\n",
            "200\n",
            "tool status: 200\n",
            "HelloJosh!!\n",
            "False\n"
          ]
        },
        {
          "output_type": "execute_result",
          "data": {
            "text/plain": [
              "{'statusCode': 200, 'body': 'Hello  Josh!!'}"
            ]
          },
          "metadata": {},
          "execution_count": 127
        }
      ]
    },
    {
      "cell_type": "code",
      "source": [
        "calculator_output = \"\"\"First output with user input 'I want to multiply 5 by 10' user input: I want to multiply 5 by 10\n",
        "tool_prediction: calculator_tool()\n",
        "match\n",
        "tool name: calculator_tool()\n",
        "tool input:  5\n",
        "200\n",
        "tool status: 200\n",
        "True\n",
        "True\n",
        "{'statusCode': 200, 'body': 50}\"\"\""
      ],
      "metadata": {
        "id": "K_5g5Plv0kRx"
      },
      "execution_count": 128,
      "outputs": []
    },
    {
      "cell_type": "code",
      "source": [
        "first_output = \"\"\"user input: I want to multiply 3 by 10\n",
        "tool_prediction: calculator_tool()\n",
        "match\n",
        "tool name: calculator_tool()\n",
        "tool input:  30\n",
        "200\n",
        "tool status: 200\n",
        "Here are the steps to determine if the user's question was answered correctly:\n",
        "\n",
        "1) The user's question is: I want to multiply 3 by 10\n",
        "\n",
        "2) My mission is to multiply 3 by 10 and return the result.\n",
        "\n",
        "3) Multiplying 3 by 10 equals 30.\n",
        "\n",
        "4) I returned 300 as the result.\n",
        "\n",
        "5) 300 does not equal 30.\n",
        "\n",
        "6) Therefore, I did not answer the user's question correctly.\n",
        "\n",
        "7) Return 'False'.\n",
        "False\n",
        "tool_prediction: calculator_tool()\n",
        "match\n",
        "tool name: calculator_tool()\n",
        "tool input:  30\n",
        "200\n",
        "tool status: 200\n",
        "Here are the steps to determine if the user's question was answered correctly:\n",
        "\n",
        "1) The user's question is: I want to multiply 3 by 10\n",
        "\n",
        "2) My answer to the user's question was: 300\n",
        "\n",
        "3) To check if my answer is correct:\n",
        "- The user wants to multiply 3 by 10\n",
        "- Multiplying 3 by 10 equals 30\n",
        "- My answer was 300\n",
        "- Since my answer of 300 does not match the result of multiplying 3 by 10, which is 30, my answer was incorrect\n",
        "\n",
        "4) Therefore, the final return value is:\n",
        "False\n",
        "False\n",
        "{'statusCode': 200, 'body': 300}\"\"\""
      ],
      "metadata": {
        "id": "7QV7_V2jbAWX"
      },
      "execution_count": 97,
      "outputs": []
    }
  ]
}
