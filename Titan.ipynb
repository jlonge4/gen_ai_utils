{
  "nbformat": 4,
  "nbformat_minor": 0,
  "metadata": {
    "colab": {
      "provenance": [],
      "authorship_tag": "ABX9TyNuH/Wt1kqQQZ/tQIfe8r3e"
    },
    "kernelspec": {
      "name": "python3",
      "display_name": "Python 3"
    },
    "language_info": {
      "name": "python"
    }
  },
  "cells": [
    {
      "cell_type": "code",
      "execution_count": null,
      "metadata": {
        "id": "OYnddsxBwBXL"
      },
      "outputs": [],
      "source": [
        "pip install boto3"
      ]
    },
    {
      "cell_type": "code",
      "source": [
        "import boto3\n",
        "import json\n",
        "import base64\n",
        "\n",
        "bedrock = boto3.client('bedrock-runtime')"
      ],
      "metadata": {
        "id": "yXz6pzQ7wFGz"
      },
      "execution_count": 117,
      "outputs": []
    },
    {
      "cell_type": "markdown",
      "source": [
        "MULTIMODAL EMBEDDINGS\n",
        "\n",
        "IMAGE TO EMBED ->"
      ],
      "metadata": {
        "id": "HpJXSl96z08R"
      }
    },
    {
      "cell_type": "markdown",
      "source": [
        "![camaro.jfif](data:image/jpeg;base64,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)"
      ],
      "metadata": {
        "id": "d8nBcLJWC-yR"
      }
    },
    {
      "cell_type": "code",
      "source": [
        "# read in image and create embeddings for image and caption\n",
        "with open(\"/content/sample_data/camaro.jfif\", \"rb\") as image_file:\n",
        "    input_image = base64.b64encode(image_file.read()).decode('utf8')\n",
        "\n",
        "\n",
        "body = json.dumps(\n",
        "    {\n",
        "        \"inputText\": \"Gray sports car\",\n",
        "        \"inputImage\": input_image\n",
        "    }\n",
        ")"
      ],
      "metadata": {
        "id": "MMJnrNfzw5ky"
      },
      "execution_count": 118,
      "outputs": []
    },
    {
      "cell_type": "code",
      "source": [
        "response = bedrock.invoke_model(\n",
        "\tbody=body,\n",
        "\tmodelId=\"amazon.titan-embed-image-v1\",\n",
        "\taccept=\"application/json\",\n",
        "\tcontentType=\"application/json\"\n",
        ")"
      ],
      "metadata": {
        "id": "2yx_RHmUxfmw"
      },
      "execution_count": 119,
      "outputs": []
    },
    {
      "cell_type": "code",
      "source": [
        "response_body = json.loads(response.get(\"body\").read())\n",
        "car_embedding = response_body.get(\"embedding\")\n",
        "car_embedding[:2]"
      ],
      "metadata": {
        "colab": {
          "base_uri": "https://localhost:8080/"
        },
        "id": "k83gquKtxjAk",
        "outputId": "e2779043-6519-406e-f958-4e8e973c7909"
      },
      "execution_count": 120,
      "outputs": [
        {
          "output_type": "execute_result",
          "data": {
            "text/plain": [
              "[0.0069486527, 0.026003001]"
            ]
          },
          "metadata": {},
          "execution_count": 120
        }
      ]
    },
    {
      "cell_type": "code",
      "source": [
        "# Vector embedding of similar caption\n",
        "body = json.dumps(\n",
        "    {\n",
        "        \"inputText\": \"sports car\",\n",
        "    }\n",
        ")"
      ],
      "metadata": {
        "id": "NcmXKfwRypr0"
      },
      "execution_count": 121,
      "outputs": []
    },
    {
      "cell_type": "code",
      "source": [
        "response = bedrock.invoke_model(\n",
        "\tbody=body,\n",
        "\tmodelId=\"amazon.titan-embed-image-v1\",\n",
        "\taccept=\"application/json\",\n",
        "\tcontentType=\"application/json\"\n",
        ")"
      ],
      "metadata": {
        "id": "WaZO9Ya_ywIH"
      },
      "execution_count": 122,
      "outputs": []
    },
    {
      "cell_type": "code",
      "source": [
        "response_body = json.loads(response.get(\"body\").read())\n",
        "text_embedding = response_body.get(\"embedding\")\n",
        "text_embedding[:2]"
      ],
      "metadata": {
        "colab": {
          "base_uri": "https://localhost:8080/"
        },
        "id": "B5XIKK5Ty5-K",
        "outputId": "e71d8d1a-de6e-4f47-baa7-2854effb3759"
      },
      "execution_count": 123,
      "outputs": [
        {
          "output_type": "execute_result",
          "data": {
            "text/plain": [
              "[0.025878906, 0.015136719]"
            ]
          },
          "metadata": {},
          "execution_count": 123
        }
      ]
    },
    {
      "cell_type": "code",
      "source": [
        "# Calculate cosine similarity on text vs image/caption embeddings\n",
        "import numpy as np\n",
        "\n",
        "dot_product = np.dot(np.array(car_embedding), np.array(text_embedding))\n",
        "norm_vector1 = np.linalg.norm(car_embedding)\n",
        "norm_vector2 = np.linalg.norm(text_embedding)\n",
        "cosine_similarity_value = dot_product / (norm_vector1 * norm_vector2)\n",
        "print(f'Cosine similarity is {cosine_similarity_value}')"
      ],
      "metadata": {
        "colab": {
          "base_uri": "https://localhost:8080/"
        },
        "id": "cQ0Id00jy_mA",
        "outputId": "4258e97b-38df-48d7-80bc-a86029a634d4"
      },
      "execution_count": 124,
      "outputs": [
        {
          "output_type": "stream",
          "name": "stdout",
          "text": [
            "Cosine similarity is 0.7329906243935072\n"
          ]
        }
      ]
    },
    {
      "cell_type": "code",
      "source": [
        "np.array(car_embedding).shape"
      ],
      "metadata": {
        "colab": {
          "base_uri": "https://localhost:8080/"
        },
        "id": "QEt9WNIs2Cuh",
        "outputId": "400e9319-aeab-48f3-859c-d9613dbf2d54"
      },
      "execution_count": 125,
      "outputs": [
        {
          "output_type": "execute_result",
          "data": {
            "text/plain": [
              "(1024,)"
            ]
          },
          "metadata": {},
          "execution_count": 125
        }
      ]
    },
    {
      "cell_type": "code",
      "source": [],
      "metadata": {
        "id": "_9tZwZ0X3Ufs"
      },
      "execution_count": null,
      "outputs": []
    }
  ]
}