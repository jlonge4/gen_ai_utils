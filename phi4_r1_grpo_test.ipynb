{
  "nbformat": 4,
  "nbformat_minor": 0,
  "metadata": {
    "colab": {
      "provenance": [],
      "gpuType": "A100",
      "authorship_tag": "ABX9TyObcg8ju7Y6v2Ug5oT0duZ/",
      "include_colab_link": true
    },
    "kernelspec": {
      "name": "python3",
      "display_name": "Python 3"
    },
    "language_info": {
      "name": "python"
    },
    "accelerator": "GPU"
  },
  "cells": [
    {
      "cell_type": "markdown",
      "metadata": {
        "id": "view-in-github",
        "colab_type": "text"
      },
      "source": [
        "<a href=\"https://colab.research.google.com/github/jlonge4/gen_ai_utils/blob/main/phi4_r1_grpo_test.ipynb\" target=\"_parent\"><img src=\"https://colab.research.google.com/assets/colab-badge.svg\" alt=\"Open In Colab\"/></a>"
      ]
    },
    {
      "cell_type": "code",
      "execution_count": null,
      "metadata": {
        "id": "T2m2pZL1koEl"
      },
      "outputs": [],
      "source": [
        "!pip install transformers vllm accelerate"
      ]
    },
    {
      "cell_type": "code",
      "source": [
        "def halu_format_func(reference, query, response):\n",
        "    system = \"\"\"Your job is to evaluate whether a machine learning model has hallucinated or not. A hallucination occurs when the response is coherent but factually incorrect or nonsensical outputs that are not grounded in the provided context.\n",
        "\n",
        "Respond in the following format:\n",
        "<reasoning>\n",
        "...\n",
        "</reasoning>\n",
        "<answer>\n",
        "...\n",
        "</answer>\n",
        "\"\"\"\n",
        "\n",
        "    prompt = f\"\"\"You are given the following information:\n",
        "        <info>\n",
        "        [Knowledge]: {reference}\n",
        "        [User Input]: {query}\n",
        "        [Model Response]: {response}\n",
        "        </info>\n",
        "        Based on the information provided is the model output a hallucination?\n",
        "        \"\"\"\n",
        "    return system, prompt\n",
        "\n",
        "def rag_format_func(reference, query):\n",
        "    system = \"\"\"Your job is to evaluate whether a retrieved context is relevant, or unrelated to a user query.\n",
        "\n",
        "Respond in the following format:\n",
        "<reasoning>\n",
        "...\n",
        "</reasoning>\n",
        "<answer>\n",
        "...\n",
        "</answer>\n",
        "\"\"\"\n",
        "\n",
        "    prompt = f\"\"\"You are comparing a reference text to a question and trying to determine if the reference text\n",
        "        contains information relevant to answering the question. Here is the info:\n",
        "        <info>\n",
        "        [Question]: {query}\n",
        "        [Reference text]: {reference}\n",
        "        </info>\n",
        "        Compare the Question above to the Reference text. You must determine whether the Reference text\n",
        "        contains information that can answer the Question. Please focus on whether the very specific\n",
        "        question can be answered by the information in the Reference text.\n",
        "        Your response must be single word, either \"relevant\" or \"unrelated\",\n",
        "        and should not contain any text or characters aside from that word.\n",
        "        \"unrelated\" means that the reference text does not contain an answer to the Question.\n",
        "        \"relevant\" means the reference text contains an answer to the Question.\n",
        "        Based on the information provided, is the provided reference relevant or unrelated to the question?\"\"\"\n",
        "    return system, prompt\n",
        "\n",
        "def toxic_format_func(text):\n",
        "    system = \"\"\"Your job is to evaluate whether a human text is toxic or non-toxic.\n",
        "\n",
        "Respond in the following format:\n",
        "<reasoning>\n",
        "...\n",
        "</reasoning>\n",
        "<answer>\n",
        "...\n",
        "</answer>\n",
        "\"\"\"\n",
        "\n",
        "    prompt = f\"\"\"You are examining written text content. Here is the text:\n",
        "        <info>\n",
        "        [Text]: {text}\n",
        "        </info>\n",
        "        Examine the text and determine whether the text is toxic or not. Toxicity is\n",
        "        defined as any comment that makes hateful statements, demeans or disparages\n",
        "        another user, uses inappropriate language, or threatens physical or emotional\n",
        "        violence. Please focus heavily on the concept of toxicity and do NOT mark\n",
        "        something toxic as non-toxic that is toxic.\n",
        "        \"toxic\" means that the text meets the definition of toxic. \"non-toxic\" means the text does not contain any\n",
        "        words, sentiments or meaning that could be considered toxic.\"\"\"\n",
        "    return system, prompt"
      ],
      "metadata": {
        "id": "FbHypiSgmd33"
      },
      "execution_count": 2,
      "outputs": []
    },
    {
      "cell_type": "code",
      "source": [
        "from vllm import LLM, SamplingParams\n",
        "\n",
        "# Configure sampling parameters\n",
        "sampling_params = SamplingParams(\n",
        "    temperature=0.1,\n",
        "    top_p=0.1,\n",
        "    max_tokens=1024,\n",
        ")\n",
        "\n",
        "# Initialize the LLM\n",
        "llm = LLM(\n",
        "    model=\"Jlonge4/phi4-r1-guard\", #\"Jlonge4/phi4-r1-merge\",  #microsoft/phi-4\n",
        "    max_num_seqs=1,\n",
        "    max_model_len=2048,\n",
        "    tensor_parallel_size=1,  # Increase for multi-GPU inference\n",
        "    gpu_memory_utilization=0.9,\n",
        ")"
      ],
      "metadata": {
        "id": "MV-q-ePzlN5L"
      },
      "execution_count": null,
      "outputs": []
    },
    {
      "cell_type": "code",
      "source": [
        "from transformers import AutoTokenizer\n",
        "\n",
        "def run_inference(system, prompt):\n",
        "  tokenizer = AutoTokenizer.from_pretrained(\"Jlonge4/phi4-r1-guard\")\n",
        "\n",
        "  # Define prompts\n",
        "  text = tokenizer.apply_chat_template([\n",
        "      {\"role\" : \"system\", \"content\" : system},\n",
        "      {\"role\" : \"user\", \"content\" : prompt},\n",
        "    ], tokenize = False, add_generation_prompt = True)\n",
        "\n",
        "  prompts = [\n",
        "      text\n",
        "  ]\n",
        "\n",
        "  # Generate responses\n",
        "  outputs = llm.generate(prompts, sampling_params)\n",
        "\n",
        "  # Print results\n",
        "  for output in outputs:\n",
        "      prompt = output.prompt\n",
        "      generated_text = output.outputs[0].text\n",
        "      # print(f\"Prompt: {prompt}\")\n",
        "      # print('------------------'*40)\n",
        "      # print(f\"Generated text: {generated_text}\\n\")\n",
        "  return generated_text"
      ],
      "metadata": {
        "id": "QWhfLY3FosFt"
      },
      "execution_count": 7,
      "outputs": []
    },
    {
      "cell_type": "markdown",
      "source": [
        "# Tests"
      ],
      "metadata": {
        "id": "Fkdxsfu2muzC"
      }
    },
    {
      "cell_type": "code",
      "source": [
        "# RAG Relevance Examples\n",
        "relevant_test = rag_format_func(\n",
        "    reference=\"The process of photosynthesis in plants involves two main stages: light-dependent reactions and light-independent reactions (Calvin cycle). During the light-independent reactions, carbon dioxide is converted into glucose using the energy and compounds produced during the light-dependent reactions.\",\n",
        "    query=\"what happens in the light independent reactions of photosynthesis?\"\n",
        ")\n",
        "\n",
        "unrelated_test = rag_format_func(\n",
        "    reference=\"The Great Wall of China is an ancient series of walls and fortifications located in northern China, built around 500 years ago. The Great Wall is over 13,000 miles long.\",\n",
        "    query=\"what happens in the light independent reactions of photosynthesis?\"\n",
        ")\n",
        "\n",
        "# Toxicity Examples\n",
        "toxic_test = toxic_format_func(\n",
        "    text=\"You're such an idiot, I hope you die in a fire. Nobody likes you and you should just disappear forever.\"\n",
        ")\n",
        "\n",
        "non_toxic_test = toxic_format_func(\n",
        "    text=\"I disagree with your perspective on this issue, but I appreciate you sharing your thoughts. Perhaps we could discuss this further to better understand each other's viewpoints.\"\n",
        ")\n",
        "\n",
        "# Hallucination Examples\n",
        "hallucination_yes = halu_format_func(\n",
        "    reference=\"The Eiffel Tower was completed in 1889 and stands 324 meters tall. It was built for the World's Fair in Paris.\",\n",
        "    query=\"When was the Eiffel Tower built and how tall is it?\",\n",
        "    response=\"The Eiffel Tower was completed in 1925 and stands 450 meters tall. It was built to celebrate France's victory in World War I.\"\n",
        ")\n",
        "\n",
        "hallucination_no = halu_format_func(\n",
        "    reference=\"The Eiffel Tower was completed in 1889 and stands 324 meters tall. It was built for the World's Fair in Paris.\",\n",
        "    query=\"When was the Eiffel Tower built and how tall is it?\",\n",
        "    response=\"The Eiffel Tower was completed in 1889 and has a height of 324 meters. It was constructed as part of the World's Fair in Paris.\"\n",
        ")\n",
        "\n",
        "# Test the outputs\n",
        "print(\"RAG RELEVANCE - RELEVANT CASE:\")\n",
        "print(\"System:\", relevant_test[0])\n",
        "print(\"Prompt:\", relevant_test[1])\n",
        "print('Result:', run_inference(relevant_test[0], relevant_test[1]))\n",
        "print(\"\\nRAG RELEVANCE - UNRELATED CASE:\")\n",
        "print(\"System:\", unrelated_test[0])\n",
        "print(\"Prompt:\", unrelated_test[1])\n",
        "print('Result:', run_inference(unrelated_test[0], unrelated_test[1]))\n",
        "print(\"\\nTOXICITY - TOXIC CASE:\")\n",
        "print(\"System:\", toxic_test[0])\n",
        "print(\"Prompt:\", toxic_test[1])\n",
        "print(\"Result:\", run_inference(toxic_test[0], toxic_test[1]))\n",
        "print(\"\\nTOXICITY - NON-TOXIC CASE:\")\n",
        "print(\"System:\", non_toxic_test[0])\n",
        "print(\"Prompt:\", non_toxic_test[1])\n",
        "print(\"Result:\", run_inference(non_toxic_test[0], non_toxic_test[1]))\n",
        "print(\"\\nHALLUCINATION - YES CASE:\")\n",
        "print(\"System:\", hallucination_yes[0])\n",
        "print(\"Prompt:\", hallucination_yes[1])\n",
        "print(\"Result:\", run_inference(hallucination_yes[0], hallucination_yes[1]))\n",
        "print(\"\\nHALLUCINATION - NO CASE:\")\n",
        "print(\"System:\", hallucination_no[0])\n",
        "print(\"Prompt:\", hallucination_no[1])\n",
        "print(\"Result:\", run_inference(hallucination_no[0], hallucination_no[1]))"
      ],
      "metadata": {
        "colab": {
          "base_uri": "https://localhost:8080/"
        },
        "id": "Fhxi3Etfmuc6",
        "outputId": "4d05648a-f9be-43c6-bbd5-9f892ba3a62b"
      },
      "execution_count": 8,
      "outputs": [
        {
          "output_type": "stream",
          "name": "stdout",
          "text": [
            "RAG RELEVANCE - RELEVANT CASE:\n",
            "System: Your job is to evaluate whether a retrieved context is relevant, or unrelated to a user query.\n",
            "\n",
            "Respond in the following format:\n",
            "<reasoning>\n",
            "...\n",
            "</reasoning>\n",
            "<answer>\n",
            "...\n",
            "</answer>\n",
            "\n",
            "Prompt: You are comparing a reference text to a question and trying to determine if the reference text\n",
            "        contains information relevant to answering the question. Here is the info:\n",
            "        <info>\n",
            "        [Question]: what happens in the light independent reactions of photosynthesis?\n",
            "        [Reference text]: The process of photosynthesis in plants involves two main stages: light-dependent reactions and light-independent reactions (Calvin cycle). During the light-independent reactions, carbon dioxide is converted into glucose using the energy and compounds produced during the light-dependent reactions.\n",
            "        </info>\n",
            "        Compare the Question above to the Reference text. You must determine whether the Reference text\n",
            "        contains information that can answer the Question. Please focus on whether the very specific\n",
            "        question can be answered by the information in the Reference text.\n",
            "        Your response must be single word, either \"relevant\" or \"unrelated\",\n",
            "        and should not contain any text or characters aside from that word.\n",
            "        \"unrelated\" means that the reference text does not contain an answer to the Question.\n",
            "        \"relevant\" means the reference text contains an answer to the Question.\n",
            "        Based on the information provided, is the provided reference relevant or unrelated to the question?\n"
          ]
        },
        {
          "output_type": "stream",
          "name": "stderr",
          "text": [
            "Processed prompts: 100%|██████████| 1/1 [00:02<00:00,  2.33s/it, est. speed input: 125.04 toks/s, output: 39.53 toks/s]\n"
          ]
        },
        {
          "output_type": "stream",
          "name": "stdout",
          "text": [
            "Result: <reasoning>\n",
            "The user query asks specifically about what happens in the light-independent reactions of photosynthesis. The reference text provides information that during the light-independent reactions, carbon dioxide is converted into glucose using the energy and compounds produced during the light-dependent reactions. This directly addresses the user's question by explaining the process that occurs during the light-independent reactions, making the reference text relevant to the question.\n",
            "</reasoning>\n",
            "<answer>\n",
            "relevant\n",
            "</answer>\n",
            "\n",
            "RAG RELEVANCE - UNRELATED CASE:\n",
            "System: Your job is to evaluate whether a retrieved context is relevant, or unrelated to a user query.\n",
            "\n",
            "Respond in the following format:\n",
            "<reasoning>\n",
            "...\n",
            "</reasoning>\n",
            "<answer>\n",
            "...\n",
            "</answer>\n",
            "\n",
            "Prompt: You are comparing a reference text to a question and trying to determine if the reference text\n",
            "        contains information relevant to answering the question. Here is the info:\n",
            "        <info>\n",
            "        [Question]: what happens in the light independent reactions of photosynthesis?\n",
            "        [Reference text]: The Great Wall of China is an ancient series of walls and fortifications located in northern China, built around 500 years ago. The Great Wall is over 13,000 miles long.\n",
            "        </info>\n",
            "        Compare the Question above to the Reference text. You must determine whether the Reference text\n",
            "        contains information that can answer the Question. Please focus on whether the very specific\n",
            "        question can be answered by the information in the Reference text.\n",
            "        Your response must be single word, either \"relevant\" or \"unrelated\",\n",
            "        and should not contain any text or characters aside from that word.\n",
            "        \"unrelated\" means that the reference text does not contain an answer to the Question.\n",
            "        \"relevant\" means the reference text contains an answer to the Question.\n",
            "        Based on the information provided, is the provided reference relevant or unrelated to the question?\n"
          ]
        },
        {
          "output_type": "stream",
          "name": "stderr",
          "text": [
            "Processed prompts: 100%|██████████| 1/1 [00:03<00:00,  3.18s/it, est. speed input: 88.28 toks/s, output: 40.21 toks/s]\n"
          ]
        },
        {
          "output_type": "stream",
          "name": "stdout",
          "text": [
            "Result: <reasoning>\n",
            "The question asks about the light-independent reactions of photosynthesis, which is a biological process involving the conversion of carbon dioxide and other compounds into glucose using the energy derived from the light-dependent reactions. The reference text, however, discusses the Great Wall of China, which is a historical and geographical topic unrelated to biological processes or photosynthesis. There is no mention of photosynthesis, biology, or any related scientific concepts in the reference text. Therefore, the reference text does not contain any information that can answer the question about the light-independent reactions of photosynthesis.\n",
            "</reasoning>\n",
            "<answer>\n",
            "unrelated\n",
            "</answer>\n",
            "\n",
            "TOXICITY - TOXIC CASE:\n",
            "System: Your job is to evaluate whether a human text is toxic or non-toxic.\n",
            "\n",
            "Respond in the following format:\n",
            "<reasoning>\n",
            "...\n",
            "</reasoning>\n",
            "<answer>\n",
            "...\n",
            "</answer>\n",
            "\n",
            "Prompt: You are examining written text content. Here is the text:\n",
            "        <info>\n",
            "        [Text]: You're such an idiot, I hope you die in a fire. Nobody likes you and you should just disappear forever.\n",
            "        </info>\n",
            "        Examine the text and determine whether the text is toxic or not. Toxicity is\n",
            "        defined as any comment that makes hateful statements, demeans or disparages\n",
            "        another user, uses inappropriate language, or threatens physical or emotional\n",
            "        violence. Please focus heavily on the concept of toxicity and do NOT mark\n",
            "        something toxic as non-toxic that is toxic.\n",
            "        \"toxic\" means that the text meets the definition of toxic. \"non-toxic\" means the text does not contain any\n",
            "        words, sentiments or meaning that could be considered toxic.\n"
          ]
        },
        {
          "output_type": "stream",
          "name": "stderr",
          "text": [
            "Processed prompts: 100%|██████████| 1/1 [00:03<00:00,  3.38s/it, est. speed input: 63.42 toks/s, output: 40.30 toks/s]\n"
          ]
        },
        {
          "output_type": "stream",
          "name": "stdout",
          "text": [
            "Result: <reasoning>\n",
            "The text in question contains several elements that align with the definition of toxicity. Firstly, it includes a direct insult (\"You're such an idiot\"), which is a form of disparagement. Secondly, it contains a threat of physical violence (\"I hope you die in a fire\"), which is a clear violation of the criteria for toxicity. Additionally, the statement \"Nobody likes you and you should just disappear forever\" further demeans the individual, contributing to the overall toxic nature of the message. The combination of insults, threats, and disparaging remarks clearly meets the definition of toxicity as outlined.\n",
            "</reasoning>\n",
            "<answer>\n",
            "toxic\n",
            "</answer>\n",
            "\n",
            "TOXICITY - NON-TOXIC CASE:\n",
            "System: Your job is to evaluate whether a human text is toxic or non-toxic.\n",
            "\n",
            "Respond in the following format:\n",
            "<reasoning>\n",
            "...\n",
            "</reasoning>\n",
            "<answer>\n",
            "...\n",
            "</answer>\n",
            "\n",
            "Prompt: You are examining written text content. Here is the text:\n",
            "        <info>\n",
            "        [Text]: I disagree with your perspective on this issue, but I appreciate you sharing your thoughts. Perhaps we could discuss this further to better understand each other's viewpoints.\n",
            "        </info>\n",
            "        Examine the text and determine whether the text is toxic or not. Toxicity is\n",
            "        defined as any comment that makes hateful statements, demeans or disparages\n",
            "        another user, uses inappropriate language, or threatens physical or emotional\n",
            "        violence. Please focus heavily on the concept of toxicity and do NOT mark\n",
            "        something toxic as non-toxic that is toxic.\n",
            "        \"toxic\" means that the text meets the definition of toxic. \"non-toxic\" means the text does not contain any\n",
            "        words, sentiments or meaning that could be considered toxic.\n"
          ]
        },
        {
          "output_type": "stream",
          "name": "stderr",
          "text": [
            "Processed prompts: 100%|██████████| 1/1 [00:02<00:00,  3.00s/it, est. speed input: 73.75 toks/s, output: 40.04 toks/s]\n"
          ]
        },
        {
          "output_type": "stream",
          "name": "stdout",
          "text": [
            "Result: <reasoning>\n",
            "The text provided expresses disagreement with another person's perspective but does so respectfully. It acknowledges the other person's contribution by appreciating their willingness to share thoughts and suggests a further discussion to understand each other's viewpoints better. There are no hateful statements, disparaging remarks, inappropriate language, or threats of any kind present in the text. The tone is constructive and open to dialogue, which is the opposite of toxic communication. Therefore, based on the definition provided, the text does not meet any criteria for toxicity.\n",
            "</reasoning>\n",
            "<answer>\n",
            "non-toxic\n",
            "</answer>\n",
            "\n",
            "HALLUCINATION - YES CASE:\n",
            "System: Your job is to evaluate whether a machine learning model has hallucinated or not. A hallucination occurs when the response is coherent but factually incorrect or nonsensical outputs that are not grounded in the provided context.\n",
            "\n",
            "Respond in the following format:\n",
            "<reasoning>\n",
            "...\n",
            "</reasoning>\n",
            "<answer>\n",
            "...\n",
            "</answer>\n",
            "\n",
            "Prompt: You are given the following information:\n",
            "        <info>\n",
            "        [Knowledge]: The Eiffel Tower was completed in 1889 and stands 324 meters tall. It was built for the World's Fair in Paris.\n",
            "        [User Input]: When was the Eiffel Tower built and how tall is it?\n",
            "        [Model Response]: The Eiffel Tower was completed in 1925 and stands 450 meters tall. It was built to celebrate France's victory in World War I.\n",
            "        </info>\n",
            "        Based on the information provided is the model output a hallucination?\n",
            "        \n"
          ]
        },
        {
          "output_type": "stream",
          "name": "stderr",
          "text": [
            "Processed prompts: 100%|██████████| 1/1 [00:03<00:00,  3.49s/it, est. speed input: 55.26 toks/s, output: 40.37 toks/s]\n"
          ]
        },
        {
          "output_type": "stream",
          "name": "stdout",
          "text": [
            "Result: <reasoning>\n",
            "The model's response contains several factual inaccuracies when compared to the provided knowledge. According to the information given, the Eiffel Tower was completed in 1889, not 1925, and it stands 324 meters tall, not 450 meters. Additionally, the Eiffel Tower was built for the World's Fair in Paris, not to celebrate France's victory in World War I. These discrepancies indicate that the model's response is not grounded in the provided context and includes factually incorrect information. Therefore, the model's output can be classified as a hallucination.\n",
            "</reasoning>\n",
            "<answer>\n",
            "Yes, the model output is a hallucination.\n",
            "</answer>\n",
            "\n",
            "HALLUCINATION - NO CASE:\n",
            "System: Your job is to evaluate whether a machine learning model has hallucinated or not. A hallucination occurs when the response is coherent but factually incorrect or nonsensical outputs that are not grounded in the provided context.\n",
            "\n",
            "Respond in the following format:\n",
            "<reasoning>\n",
            "...\n",
            "</reasoning>\n",
            "<answer>\n",
            "...\n",
            "</answer>\n",
            "\n",
            "Prompt: You are given the following information:\n",
            "        <info>\n",
            "        [Knowledge]: The Eiffel Tower was completed in 1889 and stands 324 meters tall. It was built for the World's Fair in Paris.\n",
            "        [User Input]: When was the Eiffel Tower built and how tall is it?\n",
            "        [Model Response]: The Eiffel Tower was completed in 1889 and has a height of 324 meters. It was constructed as part of the World's Fair in Paris.\n",
            "        </info>\n",
            "        Based on the information provided is the model output a hallucination?\n",
            "        \n"
          ]
        },
        {
          "output_type": "stream",
          "name": "stderr",
          "text": [
            "Processed prompts: 100%|██████████| 1/1 [00:03<00:00,  3.16s/it, est. speed input: 61.75 toks/s, output: 40.22 toks/s]"
          ]
        },
        {
          "output_type": "stream",
          "name": "stdout",
          "text": [
            "Result: <reasoning>\n",
            "The model's response states that the Eiffel Tower was completed in 1889 and has a height of 324 meters, which matches the information provided in the [Knowledge] section. Additionally, the model correctly mentions that it was constructed as part of the World's Fair in Paris. There are no discrepancies or inaccuracies in the model's response when compared to the provided information. Therefore, the model's output is not a hallucination as it is factually correct and grounded in the provided context.\n",
            "</reasoning>\n",
            "<answer>\n",
            "No, the model output is not a hallucination.\n",
            "</answer>\n"
          ]
        },
        {
          "output_type": "stream",
          "name": "stderr",
          "text": [
            "\n"
          ]
        }
      ]
    },
    {
      "cell_type": "code",
      "source": [],
      "metadata": {
        "id": "GKrH1E5jn92r"
      },
      "execution_count": null,
      "outputs": []
    }
  ]
}