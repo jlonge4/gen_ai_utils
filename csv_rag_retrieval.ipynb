{
  "nbformat": 4,
  "nbformat_minor": 0,
  "metadata": {
    "colab": {
      "provenance": [],
      "machine_shape": "hm",
      "gpuType": "L4",
      "authorship_tag": "ABX9TyOsPH8WYzMztqGgqEDdFazc",
      "include_colab_link": true
    },
    "kernelspec": {
      "name": "python3",
      "display_name": "Python 3"
    },
    "language_info": {
      "name": "python"
    },
    "accelerator": "GPU"
  },
  "cells": [
    {
      "cell_type": "markdown",
      "metadata": {
        "id": "view-in-github",
        "colab_type": "text"
      },
      "source": [
        "<a href=\"https://colab.research.google.com/github/jlonge4/gen_ai_utils/blob/main/csv_rag_retrieval.ipynb\" target=\"_parent\"><img src=\"https://colab.research.google.com/assets/colab-badge.svg\" alt=\"Open In Colab\"/></a>"
      ]
    },
    {
      "cell_type": "markdown",
      "source": [
        "## Background:\n",
        "\n",
        "When processing CSV's for RAG, a common processing technique to maintain order is to convert the row to a JSON format to maintain the relationships using column names as keys."
      ],
      "metadata": {
        "id": "hSK306XWTUls"
      }
    },
    {
      "cell_type": "markdown",
      "source": [
        "## Hypothesis\n",
        "\n",
        "While necessary to store the full representation of the relationship structure as the content in your Document object for the model to use at query time, I hypothesize that removing the column names from the content for embedding(s) will maximize retrieval accuracy and distance between vectors (increase distinction among each record)."
      ],
      "metadata": {
        "id": "B9eaWr4oSSgm"
      }
    },
    {
      "cell_type": "code",
      "execution_count": null,
      "metadata": {
        "id": "MY1sqVPK57OE"
      },
      "outputs": [],
      "source": [
        "!pip install sentence-transformers renumics-spotlight umap-learn plotly"
      ]
    },
    {
      "cell_type": "code",
      "source": [
        "from sentence_transformers import SentenceTransformer\n",
        "\n",
        "model = SentenceTransformer(\"sentence-transformers/all-MiniLM-L6-v2\")\n",
        "model.to('cuda')"
      ],
      "metadata": {
        "id": "FbAJcupVEjQ6"
      },
      "execution_count": null,
      "outputs": []
    },
    {
      "cell_type": "code",
      "source": [
        "rows = [\n",
        "    {\"project_id\": 1, \"title\": \"Employee HelpDesk\", \"description\": \"Develop software to enhance and enable technicians to provide assistance to employees.\"},\n",
        "    {\"project_id\": 2, \"title\": \"Customer Support Chatbot\", \"description\": \"Create a chatbot that can answer customer questions and provide support.\"},\n",
        "    {\"project_id\": 3, \"title\": \"Automated Data Entry\", \"description\": \"Develop a system that can automatically enter data into a database from various sources.\"},\n",
        "    {\"project_id\": 4, \"title\": \"Inventory Management System\", \"description\": \"Create a system to track and manage inventory in a warehouse or store.\"},\n",
        "    {\"project_id\": 5, \"title\": \"Online Appointment Scheduling\", \"description\": \"Develop a platform that allows users to schedule appointments online.\"},\n",
        "    {\"project_id\": 6, \"title\": \"Expense Tracking Application\", \"description\": \"Create an app that helps users track and manage their expenses.\"},\n",
        "    {\"project_id\": 7, \"title\": \"Social Media Analytics Tool\", \"description\": \"Develop a tool that can analyze and provide insights on social media data.\"},\n",
        "    {\"project_id\": 8, \"title\": \"E-Learning Platform\", \"description\": \"Create a platform for online learning and education.\"},\n",
        "    {\"project_id\": 9, \"title\": \"Health and Fitness App\", \"description\": \"Develop an app that helps users track their health and fitness goals.\"},\n",
        "    {\"project_id\": 10, \"title\": \"Smart Home Automation System\", \"description\": \"Create a system that can automate and control various devices in a smart home.\"},\n",
        "    {\"project_id\": 11, \"title\": \"Online Marketplace Platform\", \"description\": \"Develop a platform for buying and selling goods and services online.\"}\n",
        "]\n",
        "row_strings = [str(row) for row in rows]\n",
        "row_embeds = model.encode(row_strings)"
      ],
      "metadata": {
        "id": "CRAlWxVXEkgO"
      },
      "execution_count": 24,
      "outputs": []
    },
    {
      "cell_type": "code",
      "source": [
        "row_embeds[0].shape"
      ],
      "metadata": {
        "id": "6tG-3S6fF-bA",
        "colab": {
          "base_uri": "https://localhost:8080/"
        },
        "outputId": "1706bece-5092-4163-f77f-80a222a999ae"
      },
      "execution_count": 25,
      "outputs": [
        {
          "output_type": "execute_result",
          "data": {
            "text/plain": [
              "(384,)"
            ]
          },
          "metadata": {},
          "execution_count": 25
        }
      ]
    },
    {
      "cell_type": "code",
      "source": [
        "q_embed = model.encode([\"What is the description of project titled Automated Data Entry?\"])"
      ],
      "metadata": {
        "id": "OnF9HEA3Icnr"
      },
      "execution_count": 26,
      "outputs": []
    },
    {
      "cell_type": "code",
      "source": [
        "import numpy as np\n",
        "import umap\n",
        "\n",
        "def reduce_dim(ref_embeds, query_embed):\n",
        "  embeddings = np.array([np.array(x) for x in ref_embeds])\n",
        "  q_embed = np.array(query_embed)\n",
        "\n",
        "  # Reduce dimensionality with UMAP\n",
        "  reducer = umap.UMAP(n_neighbors=2, min_dist=0.1, n_components=2, random_state=42)\n",
        "  refs_reduced = reducer.fit_transform(embeddings)\n",
        "  query_reduced = reducer.transform(query_embed.reshape(1, -1))\n",
        "\n",
        "  return refs_reduced, query_reduced"
      ],
      "metadata": {
        "id": "fq2gciG-g53i"
      },
      "execution_count": 27,
      "outputs": []
    },
    {
      "cell_type": "code",
      "source": [
        "import plotly.graph_objects as go\n",
        "import plotly.express as px\n",
        "import pandas as pd\n",
        "\n",
        "def create_plot(refs_reduced, query_reduced):\n",
        "    df_ref = pd.DataFrame({\n",
        "        'x': refs_reduced[:, 0],\n",
        "        'y': refs_reduced[:, 1],\n",
        "        'type': ['Reference'] * len(refs_reduced)\n",
        "    })\n",
        "\n",
        "    df_query = pd.DataFrame({\n",
        "        'x': [query_reduced[0, 0]],\n",
        "        'y': [query_reduced[0, 1]],\n",
        "        'type': ['Query']\n",
        "    })\n",
        "\n",
        "    # Concatenate the DataFrames\n",
        "    df = pd.concat([df_ref, df_query], ignore_index=True)\n",
        "\n",
        "    # Create the plot\n",
        "    fig = px.scatter(df, x='x', y='y', color='type',\n",
        "                    color_discrete_map={'Reference': 'red', 'Query': 'blue'},\n",
        "                    title=\"UMAP Visualization of Text Embeddings with Query Highlighted\",\n",
        "                    labels={'x': 'UMAP Dimension 1', 'y': 'UMAP Dimension 2'},\n",
        "                    hover_data={'x': False, 'y': False, 'type': True})\n",
        "\n",
        "    # Update layout for better appearance\n",
        "    fig.update_layout(\n",
        "        plot_bgcolor='white',\n",
        "        legend_title_text='Embedding Type',\n",
        "        width=800,\n",
        "        height=800,\n",
        "        title={\n",
        "            'y':0.95,\n",
        "            'x':0.5,\n",
        "            'xanchor': 'center',\n",
        "            'yanchor': 'top'\n",
        "        }\n",
        "    )\n",
        "\n",
        "    # Update axes\n",
        "    fig.update_xaxes(showgrid=True, gridwidth=1, gridcolor='lightgrey', zeroline=True, zerolinewidth=2, zerolinecolor='lightgrey')\n",
        "    fig.update_yaxes(showgrid=True, gridwidth=1, gridcolor='lightgrey', zeroline=True, zerolinewidth=2, zerolinecolor='lightgrey')\n",
        "\n",
        "    # Show the plot\n",
        "    fig.show()"
      ],
      "metadata": {
        "id": "2lbIkK3BhOJ1"
      },
      "execution_count": 33,
      "outputs": []
    },
    {
      "cell_type": "markdown",
      "source": [
        "# Observation\n",
        "\n",
        "Note that the scale fairly small here, the query is closer to most of the embeddings"
      ],
      "metadata": {
        "id": "Uyi3PHhoisEx"
      }
    },
    {
      "cell_type": "code",
      "source": [
        "refs_reduced, query_reduced = reduce_dim(row_embeds, q_embed)\n",
        "create_plot(refs_reduced, query_reduced)"
      ],
      "metadata": {
        "colab": {
          "base_uri": "https://localhost:8080/",
          "height": 886
        },
        "id": "Eo4yDnmffe_e",
        "outputId": "1486ee73-8175-45b9-ec3c-40dbb2fef80e"
      },
      "execution_count": 34,
      "outputs": [
        {
          "output_type": "stream",
          "name": "stderr",
          "text": [
            "/usr/local/lib/python3.10/dist-packages/umap/umap_.py:1945: UserWarning:\n",
            "\n",
            "n_jobs value 1 overridden to 1 by setting random_state. Use no seed for parallelism.\n",
            "\n"
          ]
        },
        {
          "output_type": "display_data",
          "data": {
            "text/html": [
              "<html>\n",
              "<head><meta charset=\"utf-8\" /></head>\n",
              "<body>\n",
              "    <div>            <script src=\"https://cdnjs.cloudflare.com/ajax/libs/mathjax/2.7.5/MathJax.js?config=TeX-AMS-MML_SVG\"></script><script type=\"text/javascript\">if (window.MathJax && window.MathJax.Hub && window.MathJax.Hub.Config) {window.MathJax.Hub.Config({SVG: {font: \"STIX-Web\"}});}</script>                <script type=\"text/javascript\">window.PlotlyConfig = {MathJaxConfig: 'local'};</script>\n",
              "        <script charset=\"utf-8\" src=\"https://cdn.plot.ly/plotly-2.24.1.min.js\"></script>                <div id=\"6122be55-777b-4c5b-8ff7-a236f16cce37\" class=\"plotly-graph-div\" style=\"height:800px; width:800px;\"></div>            <script type=\"text/javascript\">                                    window.PLOTLYENV=window.PLOTLYENV || {};                                    if (document.getElementById(\"6122be55-777b-4c5b-8ff7-a236f16cce37\")) {                    Plotly.newPlot(                        \"6122be55-777b-4c5b-8ff7-a236f16cce37\",                        [{\"customdata\":[[\"Reference\"],[\"Reference\"],[\"Reference\"],[\"Reference\"],[\"Reference\"],[\"Reference\"],[\"Reference\"],[\"Reference\"],[\"Reference\"],[\"Reference\"],[\"Reference\"]],\"hovertemplate\":\"type=%{customdata[0]}\\u003cextra\\u003e\\u003c\\u002fextra\\u003e\",\"legendgroup\":\"Reference\",\"marker\":{\"color\":\"red\",\"symbol\":\"circle\"},\"mode\":\"markers\",\"name\":\"Reference\",\"orientation\":\"v\",\"showlegend\":true,\"x\":[10.290954,10.605392,9.943876,-0.6438897,9.53878,-0.22028163,-0.40511823,9.461006,-0.6057673,9.634843,10.000343],\"xaxis\":\"x\",\"y\":[10.908371,11.495494,11.458257,7.4318647,10.021594,7.2108045,6.2464814,9.504933,6.6583085,11.945826,9.537624],\"yaxis\":\"y\",\"type\":\"scatter\"},{\"customdata\":[[\"Query\"]],\"hovertemplate\":\"type=%{customdata[0]}\\u003cextra\\u003e\\u003c\\u002fextra\\u003e\",\"legendgroup\":\"Query\",\"marker\":{\"color\":\"blue\",\"symbol\":\"circle\"},\"mode\":\"markers\",\"name\":\"Query\",\"orientation\":\"v\",\"showlegend\":true,\"x\":[11.152705],\"xaxis\":\"x\",\"y\":[10.787116],\"yaxis\":\"y\",\"type\":\"scatter\"}],                        {\"template\":{\"data\":{\"histogram2dcontour\":[{\"type\":\"histogram2dcontour\",\"colorbar\":{\"outlinewidth\":0,\"ticks\":\"\"},\"colorscale\":[[0.0,\"#0d0887\"],[0.1111111111111111,\"#46039f\"],[0.2222222222222222,\"#7201a8\"],[0.3333333333333333,\"#9c179e\"],[0.4444444444444444,\"#bd3786\"],[0.5555555555555556,\"#d8576b\"],[0.6666666666666666,\"#ed7953\"],[0.7777777777777778,\"#fb9f3a\"],[0.8888888888888888,\"#fdca26\"],[1.0,\"#f0f921\"]]}],\"choropleth\":[{\"type\":\"choropleth\",\"colorbar\":{\"outlinewidth\":0,\"ticks\":\"\"}}],\"histogram2d\":[{\"type\":\"histogram2d\",\"colorbar\":{\"outlinewidth\":0,\"ticks\":\"\"},\"colorscale\":[[0.0,\"#0d0887\"],[0.1111111111111111,\"#46039f\"],[0.2222222222222222,\"#7201a8\"],[0.3333333333333333,\"#9c179e\"],[0.4444444444444444,\"#bd3786\"],[0.5555555555555556,\"#d8576b\"],[0.6666666666666666,\"#ed7953\"],[0.7777777777777778,\"#fb9f3a\"],[0.8888888888888888,\"#fdca26\"],[1.0,\"#f0f921\"]]}],\"heatmap\":[{\"type\":\"heatmap\",\"colorbar\":{\"outlinewidth\":0,\"ticks\":\"\"},\"colorscale\":[[0.0,\"#0d0887\"],[0.1111111111111111,\"#46039f\"],[0.2222222222222222,\"#7201a8\"],[0.3333333333333333,\"#9c179e\"],[0.4444444444444444,\"#bd3786\"],[0.5555555555555556,\"#d8576b\"],[0.6666666666666666,\"#ed7953\"],[0.7777777777777778,\"#fb9f3a\"],[0.8888888888888888,\"#fdca26\"],[1.0,\"#f0f921\"]]}],\"heatmapgl\":[{\"type\":\"heatmapgl\",\"colorbar\":{\"outlinewidth\":0,\"ticks\":\"\"},\"colorscale\":[[0.0,\"#0d0887\"],[0.1111111111111111,\"#46039f\"],[0.2222222222222222,\"#7201a8\"],[0.3333333333333333,\"#9c179e\"],[0.4444444444444444,\"#bd3786\"],[0.5555555555555556,\"#d8576b\"],[0.6666666666666666,\"#ed7953\"],[0.7777777777777778,\"#fb9f3a\"],[0.8888888888888888,\"#fdca26\"],[1.0,\"#f0f921\"]]}],\"contourcarpet\":[{\"type\":\"contourcarpet\",\"colorbar\":{\"outlinewidth\":0,\"ticks\":\"\"}}],\"contour\":[{\"type\":\"contour\",\"colorbar\":{\"outlinewidth\":0,\"ticks\":\"\"},\"colorscale\":[[0.0,\"#0d0887\"],[0.1111111111111111,\"#46039f\"],[0.2222222222222222,\"#7201a8\"],[0.3333333333333333,\"#9c179e\"],[0.4444444444444444,\"#bd3786\"],[0.5555555555555556,\"#d8576b\"],[0.6666666666666666,\"#ed7953\"],[0.7777777777777778,\"#fb9f3a\"],[0.8888888888888888,\"#fdca26\"],[1.0,\"#f0f921\"]]}],\"surface\":[{\"type\":\"surface\",\"colorbar\":{\"outlinewidth\":0,\"ticks\":\"\"},\"colorscale\":[[0.0,\"#0d0887\"],[0.1111111111111111,\"#46039f\"],[0.2222222222222222,\"#7201a8\"],[0.3333333333333333,\"#9c179e\"],[0.4444444444444444,\"#bd3786\"],[0.5555555555555556,\"#d8576b\"],[0.6666666666666666,\"#ed7953\"],[0.7777777777777778,\"#fb9f3a\"],[0.8888888888888888,\"#fdca26\"],[1.0,\"#f0f921\"]]}],\"mesh3d\":[{\"type\":\"mesh3d\",\"colorbar\":{\"outlinewidth\":0,\"ticks\":\"\"}}],\"scatter\":[{\"fillpattern\":{\"fillmode\":\"overlay\",\"size\":10,\"solidity\":0.2},\"type\":\"scatter\"}],\"parcoords\":[{\"type\":\"parcoords\",\"line\":{\"colorbar\":{\"outlinewidth\":0,\"ticks\":\"\"}}}],\"scatterpolargl\":[{\"type\":\"scatterpolargl\",\"marker\":{\"colorbar\":{\"outlinewidth\":0,\"ticks\":\"\"}}}],\"bar\":[{\"error_x\":{\"color\":\"#2a3f5f\"},\"error_y\":{\"color\":\"#2a3f5f\"},\"marker\":{\"line\":{\"color\":\"#E5ECF6\",\"width\":0.5},\"pattern\":{\"fillmode\":\"overlay\",\"size\":10,\"solidity\":0.2}},\"type\":\"bar\"}],\"scattergeo\":[{\"type\":\"scattergeo\",\"marker\":{\"colorbar\":{\"outlinewidth\":0,\"ticks\":\"\"}}}],\"scatterpolar\":[{\"type\":\"scatterpolar\",\"marker\":{\"colorbar\":{\"outlinewidth\":0,\"ticks\":\"\"}}}],\"histogram\":[{\"marker\":{\"pattern\":{\"fillmode\":\"overlay\",\"size\":10,\"solidity\":0.2}},\"type\":\"histogram\"}],\"scattergl\":[{\"type\":\"scattergl\",\"marker\":{\"colorbar\":{\"outlinewidth\":0,\"ticks\":\"\"}}}],\"scatter3d\":[{\"type\":\"scatter3d\",\"line\":{\"colorbar\":{\"outlinewidth\":0,\"ticks\":\"\"}},\"marker\":{\"colorbar\":{\"outlinewidth\":0,\"ticks\":\"\"}}}],\"scattermapbox\":[{\"type\":\"scattermapbox\",\"marker\":{\"colorbar\":{\"outlinewidth\":0,\"ticks\":\"\"}}}],\"scatterternary\":[{\"type\":\"scatterternary\",\"marker\":{\"colorbar\":{\"outlinewidth\":0,\"ticks\":\"\"}}}],\"scattercarpet\":[{\"type\":\"scattercarpet\",\"marker\":{\"colorbar\":{\"outlinewidth\":0,\"ticks\":\"\"}}}],\"carpet\":[{\"aaxis\":{\"endlinecolor\":\"#2a3f5f\",\"gridcolor\":\"white\",\"linecolor\":\"white\",\"minorgridcolor\":\"white\",\"startlinecolor\":\"#2a3f5f\"},\"baxis\":{\"endlinecolor\":\"#2a3f5f\",\"gridcolor\":\"white\",\"linecolor\":\"white\",\"minorgridcolor\":\"white\",\"startlinecolor\":\"#2a3f5f\"},\"type\":\"carpet\"}],\"table\":[{\"cells\":{\"fill\":{\"color\":\"#EBF0F8\"},\"line\":{\"color\":\"white\"}},\"header\":{\"fill\":{\"color\":\"#C8D4E3\"},\"line\":{\"color\":\"white\"}},\"type\":\"table\"}],\"barpolar\":[{\"marker\":{\"line\":{\"color\":\"#E5ECF6\",\"width\":0.5},\"pattern\":{\"fillmode\":\"overlay\",\"size\":10,\"solidity\":0.2}},\"type\":\"barpolar\"}],\"pie\":[{\"automargin\":true,\"type\":\"pie\"}]},\"layout\":{\"autotypenumbers\":\"strict\",\"colorway\":[\"#636efa\",\"#EF553B\",\"#00cc96\",\"#ab63fa\",\"#FFA15A\",\"#19d3f3\",\"#FF6692\",\"#B6E880\",\"#FF97FF\",\"#FECB52\"],\"font\":{\"color\":\"#2a3f5f\"},\"hovermode\":\"closest\",\"hoverlabel\":{\"align\":\"left\"},\"paper_bgcolor\":\"white\",\"plot_bgcolor\":\"#E5ECF6\",\"polar\":{\"bgcolor\":\"#E5ECF6\",\"angularaxis\":{\"gridcolor\":\"white\",\"linecolor\":\"white\",\"ticks\":\"\"},\"radialaxis\":{\"gridcolor\":\"white\",\"linecolor\":\"white\",\"ticks\":\"\"}},\"ternary\":{\"bgcolor\":\"#E5ECF6\",\"aaxis\":{\"gridcolor\":\"white\",\"linecolor\":\"white\",\"ticks\":\"\"},\"baxis\":{\"gridcolor\":\"white\",\"linecolor\":\"white\",\"ticks\":\"\"},\"caxis\":{\"gridcolor\":\"white\",\"linecolor\":\"white\",\"ticks\":\"\"}},\"coloraxis\":{\"colorbar\":{\"outlinewidth\":0,\"ticks\":\"\"}},\"colorscale\":{\"sequential\":[[0.0,\"#0d0887\"],[0.1111111111111111,\"#46039f\"],[0.2222222222222222,\"#7201a8\"],[0.3333333333333333,\"#9c179e\"],[0.4444444444444444,\"#bd3786\"],[0.5555555555555556,\"#d8576b\"],[0.6666666666666666,\"#ed7953\"],[0.7777777777777778,\"#fb9f3a\"],[0.8888888888888888,\"#fdca26\"],[1.0,\"#f0f921\"]],\"sequentialminus\":[[0.0,\"#0d0887\"],[0.1111111111111111,\"#46039f\"],[0.2222222222222222,\"#7201a8\"],[0.3333333333333333,\"#9c179e\"],[0.4444444444444444,\"#bd3786\"],[0.5555555555555556,\"#d8576b\"],[0.6666666666666666,\"#ed7953\"],[0.7777777777777778,\"#fb9f3a\"],[0.8888888888888888,\"#fdca26\"],[1.0,\"#f0f921\"]],\"diverging\":[[0,\"#8e0152\"],[0.1,\"#c51b7d\"],[0.2,\"#de77ae\"],[0.3,\"#f1b6da\"],[0.4,\"#fde0ef\"],[0.5,\"#f7f7f7\"],[0.6,\"#e6f5d0\"],[0.7,\"#b8e186\"],[0.8,\"#7fbc41\"],[0.9,\"#4d9221\"],[1,\"#276419\"]]},\"xaxis\":{\"gridcolor\":\"white\",\"linecolor\":\"white\",\"ticks\":\"\",\"title\":{\"standoff\":15},\"zerolinecolor\":\"white\",\"automargin\":true,\"zerolinewidth\":2},\"yaxis\":{\"gridcolor\":\"white\",\"linecolor\":\"white\",\"ticks\":\"\",\"title\":{\"standoff\":15},\"zerolinecolor\":\"white\",\"automargin\":true,\"zerolinewidth\":2},\"scene\":{\"xaxis\":{\"backgroundcolor\":\"#E5ECF6\",\"gridcolor\":\"white\",\"linecolor\":\"white\",\"showbackground\":true,\"ticks\":\"\",\"zerolinecolor\":\"white\",\"gridwidth\":2},\"yaxis\":{\"backgroundcolor\":\"#E5ECF6\",\"gridcolor\":\"white\",\"linecolor\":\"white\",\"showbackground\":true,\"ticks\":\"\",\"zerolinecolor\":\"white\",\"gridwidth\":2},\"zaxis\":{\"backgroundcolor\":\"#E5ECF6\",\"gridcolor\":\"white\",\"linecolor\":\"white\",\"showbackground\":true,\"ticks\":\"\",\"zerolinecolor\":\"white\",\"gridwidth\":2}},\"shapedefaults\":{\"line\":{\"color\":\"#2a3f5f\"}},\"annotationdefaults\":{\"arrowcolor\":\"#2a3f5f\",\"arrowhead\":0,\"arrowwidth\":1},\"geo\":{\"bgcolor\":\"white\",\"landcolor\":\"#E5ECF6\",\"subunitcolor\":\"white\",\"showland\":true,\"showlakes\":true,\"lakecolor\":\"white\"},\"title\":{\"x\":0.05},\"mapbox\":{\"style\":\"light\"}}},\"xaxis\":{\"anchor\":\"y\",\"domain\":[0.0,1.0],\"title\":{\"text\":\"UMAP Dimension 1\"},\"showgrid\":true,\"gridwidth\":1,\"gridcolor\":\"lightgrey\",\"zeroline\":true,\"zerolinewidth\":2,\"zerolinecolor\":\"lightgrey\"},\"yaxis\":{\"anchor\":\"x\",\"domain\":[0.0,1.0],\"title\":{\"text\":\"UMAP Dimension 2\"},\"showgrid\":true,\"gridwidth\":1,\"gridcolor\":\"lightgrey\",\"zeroline\":true,\"zerolinewidth\":2,\"zerolinecolor\":\"lightgrey\"},\"legend\":{\"title\":{\"text\":\"Embedding Type\"},\"tracegroupgap\":0},\"title\":{\"text\":\"UMAP Visualization of Text Embeddings with Query Highlighted\",\"y\":0.95,\"x\":0.5,\"xanchor\":\"center\",\"yanchor\":\"top\"},\"plot_bgcolor\":\"white\",\"width\":800,\"height\":800},                        {\"responsive\": true}                    ).then(function(){\n",
              "                            \n",
              "var gd = document.getElementById('6122be55-777b-4c5b-8ff7-a236f16cce37');\n",
              "var x = new MutationObserver(function (mutations, observer) {{\n",
              "        var display = window.getComputedStyle(gd).display;\n",
              "        if (!display || display === 'none') {{\n",
              "            console.log([gd, 'removed!']);\n",
              "            Plotly.purge(gd);\n",
              "            observer.disconnect();\n",
              "        }}\n",
              "}});\n",
              "\n",
              "// Listen for the removal of the full notebook cells\n",
              "var notebookContainer = gd.closest('#notebook-container');\n",
              "if (notebookContainer) {{\n",
              "    x.observe(notebookContainer, {childList: true});\n",
              "}}\n",
              "\n",
              "// Listen for the clearing of the current output cell\n",
              "var outputEl = gd.closest('.output');\n",
              "if (outputEl) {{\n",
              "    x.observe(outputEl, {childList: true});\n",
              "}}\n",
              "\n",
              "                        })                };                            </script>        </div>\n",
              "</body>\n",
              "</html>"
            ]
          },
          "metadata": {}
        }
      ]
    },
    {
      "cell_type": "code",
      "source": [
        "from sklearn.metrics.pairwise import cosine_similarity\n",
        "import numpy\n",
        "\n",
        "cosine_similarities_w_columns = cosine_similarity(q_embed, row_embeds)\n",
        "closest_vectors_indices = numpy.argsort(cosine_similarities_w_columns[0])[-4:][::-1]\n",
        "closest_vectors_scores = cosine_similarities_w_columns[0][closest_vectors_indices]\n",
        "\n",
        "for i, idx in enumerate(closest_vectors_indices):\n",
        "    print(f\"Score: {closest_vectors_scores[i]}, Row: {rows[idx]}\")"
      ],
      "metadata": {
        "colab": {
          "base_uri": "https://localhost:8080/"
        },
        "id": "h7ua3AkyKmGu",
        "outputId": "8884819c-923f-4079-d4cf-05707821d104"
      },
      "execution_count": 35,
      "outputs": [
        {
          "output_type": "stream",
          "name": "stdout",
          "text": [
            "Score: 0.5482973456382751, Row: {'project_id': 3, 'title': 'Automated Data Entry', 'description': 'Develop a system that can automatically enter data into a database from various sources.'}\n",
            "Score: 0.28474557399749756, Row: {'project_id': 1, 'title': 'Employee HelpDesk', 'description': 'Develop software to enhance and enable technicians to provide assistance to employees.'}\n",
            "Score: 0.2832058370113373, Row: {'project_id': 10, 'title': 'Smart Home Automation System', 'description': 'Create a system that can automate and control various devices in a smart home.'}\n",
            "Score: 0.25437596440315247, Row: {'project_id': 7, 'title': 'Social Media Analytics Tool', 'description': 'Develop a tool that can analyze and provide insights on social media data.'}\n"
          ]
        }
      ]
    },
    {
      "cell_type": "code",
      "source": [
        "rows_wo_json = [str(str(row[\"project_id\"]) + '; ' + row['title'] + '; ' + row[\"description\"]) for row in rows]\n",
        "row_embeds_2 = model.encode(rows_wo_json)\n",
        "rows_wo_json[0]"
      ],
      "metadata": {
        "colab": {
          "base_uri": "https://localhost:8080/",
          "height": 35
        },
        "id": "fCbtzokXGQih",
        "outputId": "a1758451-9f9b-4c08-de13-adbdcd7d149d"
      },
      "execution_count": 36,
      "outputs": [
        {
          "output_type": "execute_result",
          "data": {
            "text/plain": [
              "'1; Employee HelpDesk; Develop software to enhance and enable technicians to provide assistance to employees.'"
            ],
            "application/vnd.google.colaboratory.intrinsic+json": {
              "type": "string"
            }
          },
          "metadata": {},
          "execution_count": 36
        }
      ]
    },
    {
      "cell_type": "markdown",
      "source": [
        "# Observation\n",
        "\n",
        "Note that the scale is larger, and now the query is near only 4 other vectors."
      ],
      "metadata": {
        "id": "VmBBaQIjjFoG"
      }
    },
    {
      "cell_type": "code",
      "source": [
        "refs_reduced_2, query_reduced_2 = reduce_dim(row_embeds_2, q_embed)\n",
        "create_plot(refs_reduced_2, query_reduced_2)"
      ],
      "metadata": {
        "colab": {
          "base_uri": "https://localhost:8080/",
          "height": 886
        },
        "id": "GbanXqbHh73f",
        "outputId": "b14d4157-74f3-4d35-a89e-5fe4d1edc5ac"
      },
      "execution_count": 37,
      "outputs": [
        {
          "output_type": "stream",
          "name": "stderr",
          "text": [
            "/usr/local/lib/python3.10/dist-packages/umap/umap_.py:1945: UserWarning:\n",
            "\n",
            "n_jobs value 1 overridden to 1 by setting random_state. Use no seed for parallelism.\n",
            "\n"
          ]
        },
        {
          "output_type": "display_data",
          "data": {
            "text/html": [
              "<html>\n",
              "<head><meta charset=\"utf-8\" /></head>\n",
              "<body>\n",
              "    <div>            <script src=\"https://cdnjs.cloudflare.com/ajax/libs/mathjax/2.7.5/MathJax.js?config=TeX-AMS-MML_SVG\"></script><script type=\"text/javascript\">if (window.MathJax && window.MathJax.Hub && window.MathJax.Hub.Config) {window.MathJax.Hub.Config({SVG: {font: \"STIX-Web\"}});}</script>                <script type=\"text/javascript\">window.PlotlyConfig = {MathJaxConfig: 'local'};</script>\n",
              "        <script charset=\"utf-8\" src=\"https://cdn.plot.ly/plotly-2.24.1.min.js\"></script>                <div id=\"ebf2208e-8f96-477d-9793-f02130904bab\" class=\"plotly-graph-div\" style=\"height:800px; width:800px;\"></div>            <script type=\"text/javascript\">                                    window.PLOTLYENV=window.PLOTLYENV || {};                                    if (document.getElementById(\"ebf2208e-8f96-477d-9793-f02130904bab\")) {                    Plotly.newPlot(                        \"ebf2208e-8f96-477d-9793-f02130904bab\",                        [{\"customdata\":[[\"Reference\"],[\"Reference\"],[\"Reference\"],[\"Reference\"],[\"Reference\"],[\"Reference\"],[\"Reference\"],[\"Reference\"],[\"Reference\"],[\"Reference\"],[\"Reference\"]],\"hovertemplate\":\"type=%{customdata[0]}\\u003cextra\\u003e\\u003c\\u002fextra\\u003e\",\"legendgroup\":\"Reference\",\"marker\":{\"color\":\"red\",\"symbol\":\"circle\"},\"mode\":\"markers\",\"name\":\"Reference\",\"orientation\":\"v\",\"showlegend\":true,\"x\":[19.950212,19.731642,4.6701865,4.052691,-11.7688265,-21.70308,4.4468126,-12.056162,-21.442041,4.663235,-12.342277],\"xaxis\":\"x\",\"y\":[-3.3971105,-3.1787202,6.099048,6.1207676,9.971625,21.699623,6.6384277,10.258777,21.43858,5.5819693,10.545176],\"yaxis\":\"y\",\"type\":\"scatter\"},{\"customdata\":[[\"Query\"]],\"hovertemplate\":\"type=%{customdata[0]}\\u003cextra\\u003e\\u003c\\u002fextra\\u003e\",\"legendgroup\":\"Query\",\"marker\":{\"color\":\"blue\",\"symbol\":\"circle\"},\"mode\":\"markers\",\"name\":\"Query\",\"orientation\":\"v\",\"showlegend\":true,\"x\":[5.422375],\"xaxis\":\"x\",\"y\":[5.4295106],\"yaxis\":\"y\",\"type\":\"scatter\"}],                        {\"template\":{\"data\":{\"histogram2dcontour\":[{\"type\":\"histogram2dcontour\",\"colorbar\":{\"outlinewidth\":0,\"ticks\":\"\"},\"colorscale\":[[0.0,\"#0d0887\"],[0.1111111111111111,\"#46039f\"],[0.2222222222222222,\"#7201a8\"],[0.3333333333333333,\"#9c179e\"],[0.4444444444444444,\"#bd3786\"],[0.5555555555555556,\"#d8576b\"],[0.6666666666666666,\"#ed7953\"],[0.7777777777777778,\"#fb9f3a\"],[0.8888888888888888,\"#fdca26\"],[1.0,\"#f0f921\"]]}],\"choropleth\":[{\"type\":\"choropleth\",\"colorbar\":{\"outlinewidth\":0,\"ticks\":\"\"}}],\"histogram2d\":[{\"type\":\"histogram2d\",\"colorbar\":{\"outlinewidth\":0,\"ticks\":\"\"},\"colorscale\":[[0.0,\"#0d0887\"],[0.1111111111111111,\"#46039f\"],[0.2222222222222222,\"#7201a8\"],[0.3333333333333333,\"#9c179e\"],[0.4444444444444444,\"#bd3786\"],[0.5555555555555556,\"#d8576b\"],[0.6666666666666666,\"#ed7953\"],[0.7777777777777778,\"#fb9f3a\"],[0.8888888888888888,\"#fdca26\"],[1.0,\"#f0f921\"]]}],\"heatmap\":[{\"type\":\"heatmap\",\"colorbar\":{\"outlinewidth\":0,\"ticks\":\"\"},\"colorscale\":[[0.0,\"#0d0887\"],[0.1111111111111111,\"#46039f\"],[0.2222222222222222,\"#7201a8\"],[0.3333333333333333,\"#9c179e\"],[0.4444444444444444,\"#bd3786\"],[0.5555555555555556,\"#d8576b\"],[0.6666666666666666,\"#ed7953\"],[0.7777777777777778,\"#fb9f3a\"],[0.8888888888888888,\"#fdca26\"],[1.0,\"#f0f921\"]]}],\"heatmapgl\":[{\"type\":\"heatmapgl\",\"colorbar\":{\"outlinewidth\":0,\"ticks\":\"\"},\"colorscale\":[[0.0,\"#0d0887\"],[0.1111111111111111,\"#46039f\"],[0.2222222222222222,\"#7201a8\"],[0.3333333333333333,\"#9c179e\"],[0.4444444444444444,\"#bd3786\"],[0.5555555555555556,\"#d8576b\"],[0.6666666666666666,\"#ed7953\"],[0.7777777777777778,\"#fb9f3a\"],[0.8888888888888888,\"#fdca26\"],[1.0,\"#f0f921\"]]}],\"contourcarpet\":[{\"type\":\"contourcarpet\",\"colorbar\":{\"outlinewidth\":0,\"ticks\":\"\"}}],\"contour\":[{\"type\":\"contour\",\"colorbar\":{\"outlinewidth\":0,\"ticks\":\"\"},\"colorscale\":[[0.0,\"#0d0887\"],[0.1111111111111111,\"#46039f\"],[0.2222222222222222,\"#7201a8\"],[0.3333333333333333,\"#9c179e\"],[0.4444444444444444,\"#bd3786\"],[0.5555555555555556,\"#d8576b\"],[0.6666666666666666,\"#ed7953\"],[0.7777777777777778,\"#fb9f3a\"],[0.8888888888888888,\"#fdca26\"],[1.0,\"#f0f921\"]]}],\"surface\":[{\"type\":\"surface\",\"colorbar\":{\"outlinewidth\":0,\"ticks\":\"\"},\"colorscale\":[[0.0,\"#0d0887\"],[0.1111111111111111,\"#46039f\"],[0.2222222222222222,\"#7201a8\"],[0.3333333333333333,\"#9c179e\"],[0.4444444444444444,\"#bd3786\"],[0.5555555555555556,\"#d8576b\"],[0.6666666666666666,\"#ed7953\"],[0.7777777777777778,\"#fb9f3a\"],[0.8888888888888888,\"#fdca26\"],[1.0,\"#f0f921\"]]}],\"mesh3d\":[{\"type\":\"mesh3d\",\"colorbar\":{\"outlinewidth\":0,\"ticks\":\"\"}}],\"scatter\":[{\"fillpattern\":{\"fillmode\":\"overlay\",\"size\":10,\"solidity\":0.2},\"type\":\"scatter\"}],\"parcoords\":[{\"type\":\"parcoords\",\"line\":{\"colorbar\":{\"outlinewidth\":0,\"ticks\":\"\"}}}],\"scatterpolargl\":[{\"type\":\"scatterpolargl\",\"marker\":{\"colorbar\":{\"outlinewidth\":0,\"ticks\":\"\"}}}],\"bar\":[{\"error_x\":{\"color\":\"#2a3f5f\"},\"error_y\":{\"color\":\"#2a3f5f\"},\"marker\":{\"line\":{\"color\":\"#E5ECF6\",\"width\":0.5},\"pattern\":{\"fillmode\":\"overlay\",\"size\":10,\"solidity\":0.2}},\"type\":\"bar\"}],\"scattergeo\":[{\"type\":\"scattergeo\",\"marker\":{\"colorbar\":{\"outlinewidth\":0,\"ticks\":\"\"}}}],\"scatterpolar\":[{\"type\":\"scatterpolar\",\"marker\":{\"colorbar\":{\"outlinewidth\":0,\"ticks\":\"\"}}}],\"histogram\":[{\"marker\":{\"pattern\":{\"fillmode\":\"overlay\",\"size\":10,\"solidity\":0.2}},\"type\":\"histogram\"}],\"scattergl\":[{\"type\":\"scattergl\",\"marker\":{\"colorbar\":{\"outlinewidth\":0,\"ticks\":\"\"}}}],\"scatter3d\":[{\"type\":\"scatter3d\",\"line\":{\"colorbar\":{\"outlinewidth\":0,\"ticks\":\"\"}},\"marker\":{\"colorbar\":{\"outlinewidth\":0,\"ticks\":\"\"}}}],\"scattermapbox\":[{\"type\":\"scattermapbox\",\"marker\":{\"colorbar\":{\"outlinewidth\":0,\"ticks\":\"\"}}}],\"scatterternary\":[{\"type\":\"scatterternary\",\"marker\":{\"colorbar\":{\"outlinewidth\":0,\"ticks\":\"\"}}}],\"scattercarpet\":[{\"type\":\"scattercarpet\",\"marker\":{\"colorbar\":{\"outlinewidth\":0,\"ticks\":\"\"}}}],\"carpet\":[{\"aaxis\":{\"endlinecolor\":\"#2a3f5f\",\"gridcolor\":\"white\",\"linecolor\":\"white\",\"minorgridcolor\":\"white\",\"startlinecolor\":\"#2a3f5f\"},\"baxis\":{\"endlinecolor\":\"#2a3f5f\",\"gridcolor\":\"white\",\"linecolor\":\"white\",\"minorgridcolor\":\"white\",\"startlinecolor\":\"#2a3f5f\"},\"type\":\"carpet\"}],\"table\":[{\"cells\":{\"fill\":{\"color\":\"#EBF0F8\"},\"line\":{\"color\":\"white\"}},\"header\":{\"fill\":{\"color\":\"#C8D4E3\"},\"line\":{\"color\":\"white\"}},\"type\":\"table\"}],\"barpolar\":[{\"marker\":{\"line\":{\"color\":\"#E5ECF6\",\"width\":0.5},\"pattern\":{\"fillmode\":\"overlay\",\"size\":10,\"solidity\":0.2}},\"type\":\"barpolar\"}],\"pie\":[{\"automargin\":true,\"type\":\"pie\"}]},\"layout\":{\"autotypenumbers\":\"strict\",\"colorway\":[\"#636efa\",\"#EF553B\",\"#00cc96\",\"#ab63fa\",\"#FFA15A\",\"#19d3f3\",\"#FF6692\",\"#B6E880\",\"#FF97FF\",\"#FECB52\"],\"font\":{\"color\":\"#2a3f5f\"},\"hovermode\":\"closest\",\"hoverlabel\":{\"align\":\"left\"},\"paper_bgcolor\":\"white\",\"plot_bgcolor\":\"#E5ECF6\",\"polar\":{\"bgcolor\":\"#E5ECF6\",\"angularaxis\":{\"gridcolor\":\"white\",\"linecolor\":\"white\",\"ticks\":\"\"},\"radialaxis\":{\"gridcolor\":\"white\",\"linecolor\":\"white\",\"ticks\":\"\"}},\"ternary\":{\"bgcolor\":\"#E5ECF6\",\"aaxis\":{\"gridcolor\":\"white\",\"linecolor\":\"white\",\"ticks\":\"\"},\"baxis\":{\"gridcolor\":\"white\",\"linecolor\":\"white\",\"ticks\":\"\"},\"caxis\":{\"gridcolor\":\"white\",\"linecolor\":\"white\",\"ticks\":\"\"}},\"coloraxis\":{\"colorbar\":{\"outlinewidth\":0,\"ticks\":\"\"}},\"colorscale\":{\"sequential\":[[0.0,\"#0d0887\"],[0.1111111111111111,\"#46039f\"],[0.2222222222222222,\"#7201a8\"],[0.3333333333333333,\"#9c179e\"],[0.4444444444444444,\"#bd3786\"],[0.5555555555555556,\"#d8576b\"],[0.6666666666666666,\"#ed7953\"],[0.7777777777777778,\"#fb9f3a\"],[0.8888888888888888,\"#fdca26\"],[1.0,\"#f0f921\"]],\"sequentialminus\":[[0.0,\"#0d0887\"],[0.1111111111111111,\"#46039f\"],[0.2222222222222222,\"#7201a8\"],[0.3333333333333333,\"#9c179e\"],[0.4444444444444444,\"#bd3786\"],[0.5555555555555556,\"#d8576b\"],[0.6666666666666666,\"#ed7953\"],[0.7777777777777778,\"#fb9f3a\"],[0.8888888888888888,\"#fdca26\"],[1.0,\"#f0f921\"]],\"diverging\":[[0,\"#8e0152\"],[0.1,\"#c51b7d\"],[0.2,\"#de77ae\"],[0.3,\"#f1b6da\"],[0.4,\"#fde0ef\"],[0.5,\"#f7f7f7\"],[0.6,\"#e6f5d0\"],[0.7,\"#b8e186\"],[0.8,\"#7fbc41\"],[0.9,\"#4d9221\"],[1,\"#276419\"]]},\"xaxis\":{\"gridcolor\":\"white\",\"linecolor\":\"white\",\"ticks\":\"\",\"title\":{\"standoff\":15},\"zerolinecolor\":\"white\",\"automargin\":true,\"zerolinewidth\":2},\"yaxis\":{\"gridcolor\":\"white\",\"linecolor\":\"white\",\"ticks\":\"\",\"title\":{\"standoff\":15},\"zerolinecolor\":\"white\",\"automargin\":true,\"zerolinewidth\":2},\"scene\":{\"xaxis\":{\"backgroundcolor\":\"#E5ECF6\",\"gridcolor\":\"white\",\"linecolor\":\"white\",\"showbackground\":true,\"ticks\":\"\",\"zerolinecolor\":\"white\",\"gridwidth\":2},\"yaxis\":{\"backgroundcolor\":\"#E5ECF6\",\"gridcolor\":\"white\",\"linecolor\":\"white\",\"showbackground\":true,\"ticks\":\"\",\"zerolinecolor\":\"white\",\"gridwidth\":2},\"zaxis\":{\"backgroundcolor\":\"#E5ECF6\",\"gridcolor\":\"white\",\"linecolor\":\"white\",\"showbackground\":true,\"ticks\":\"\",\"zerolinecolor\":\"white\",\"gridwidth\":2}},\"shapedefaults\":{\"line\":{\"color\":\"#2a3f5f\"}},\"annotationdefaults\":{\"arrowcolor\":\"#2a3f5f\",\"arrowhead\":0,\"arrowwidth\":1},\"geo\":{\"bgcolor\":\"white\",\"landcolor\":\"#E5ECF6\",\"subunitcolor\":\"white\",\"showland\":true,\"showlakes\":true,\"lakecolor\":\"white\"},\"title\":{\"x\":0.05},\"mapbox\":{\"style\":\"light\"}}},\"xaxis\":{\"anchor\":\"y\",\"domain\":[0.0,1.0],\"title\":{\"text\":\"UMAP Dimension 1\"},\"showgrid\":true,\"gridwidth\":1,\"gridcolor\":\"lightgrey\",\"zeroline\":true,\"zerolinewidth\":2,\"zerolinecolor\":\"lightgrey\"},\"yaxis\":{\"anchor\":\"x\",\"domain\":[0.0,1.0],\"title\":{\"text\":\"UMAP Dimension 2\"},\"showgrid\":true,\"gridwidth\":1,\"gridcolor\":\"lightgrey\",\"zeroline\":true,\"zerolinewidth\":2,\"zerolinecolor\":\"lightgrey\"},\"legend\":{\"title\":{\"text\":\"Embedding Type\"},\"tracegroupgap\":0},\"title\":{\"text\":\"UMAP Visualization of Text Embeddings with Query Highlighted\",\"y\":0.95,\"x\":0.5,\"xanchor\":\"center\",\"yanchor\":\"top\"},\"plot_bgcolor\":\"white\",\"width\":800,\"height\":800},                        {\"responsive\": true}                    ).then(function(){\n",
              "                            \n",
              "var gd = document.getElementById('ebf2208e-8f96-477d-9793-f02130904bab');\n",
              "var x = new MutationObserver(function (mutations, observer) {{\n",
              "        var display = window.getComputedStyle(gd).display;\n",
              "        if (!display || display === 'none') {{\n",
              "            console.log([gd, 'removed!']);\n",
              "            Plotly.purge(gd);\n",
              "            observer.disconnect();\n",
              "        }}\n",
              "}});\n",
              "\n",
              "// Listen for the removal of the full notebook cells\n",
              "var notebookContainer = gd.closest('#notebook-container');\n",
              "if (notebookContainer) {{\n",
              "    x.observe(notebookContainer, {childList: true});\n",
              "}}\n",
              "\n",
              "// Listen for the clearing of the current output cell\n",
              "var outputEl = gd.closest('.output');\n",
              "if (outputEl) {{\n",
              "    x.observe(outputEl, {childList: true});\n",
              "}}\n",
              "\n",
              "                        })                };                            </script>        </div>\n",
              "</body>\n",
              "</html>"
            ]
          },
          "metadata": {}
        }
      ]
    },
    {
      "cell_type": "markdown",
      "source": [
        "# Observation 2\n",
        "\n",
        "Note that not only have the cosine similarities increased, but the rank of the results is now what we would expect (ie records mentioning the word automation are first and second)"
      ],
      "metadata": {
        "id": "nUZ-BUh2jRVG"
      }
    },
    {
      "cell_type": "code",
      "source": [
        "from sklearn.metrics.pairwise import cosine_similarity\n",
        "import numpy\n",
        "\n",
        "cosine_similarities_wo = cosine_similarity(q_embed, row_embeds_2)\n",
        "closest_vectors_indices = numpy.argsort(cosine_similarities_wo[0])[-4:][::-1]\n",
        "closest_vectors_scores = cosine_similarities_wo[0][closest_vectors_indices]\n",
        "\n",
        "for i, idx in enumerate(closest_vectors_indices):\n",
        "    print(f\"Score: {closest_vectors_scores[i]}, Row: {rows_wo_json[idx]}\")"
      ],
      "metadata": {
        "colab": {
          "base_uri": "https://localhost:8080/"
        },
        "id": "KsHwtLNaK_IK",
        "outputId": "2383e600-cca8-4be1-b540-c8fc78dbc9fe"
      },
      "execution_count": 43,
      "outputs": [
        {
          "output_type": "stream",
          "name": "stdout",
          "text": [
            "Score: 0.7760639190673828, Row: 3; Automated Data Entry; Develop a system that can automatically enter data into a database from various sources.\n",
            "Score: 0.43231236934661865, Row: 10; Smart Home Automation System; Create a system that can automate and control various devices in a smart home.\n",
            "Score: 0.40793299674987793, Row: 4; Inventory Management System; Create a system to track and manage inventory in a warehouse or store.\n",
            "Score: 0.3983978033065796, Row: 1; Employee HelpDesk; Develop software to enhance and enable technicians to provide assistance to employees.\n"
          ]
        }
      ]
    },
    {
      "cell_type": "code",
      "source": [
        "from scipy.spatial.distance import cdist\n",
        "\n",
        "distances = cdist(row_embeds, row_embeds, \"cosine\")\n",
        "mean_distance_1 = np.mean(distances)\n",
        "print(f\"Average distance between vectors with column names included: {mean_distance_1}\")\n",
        "\n",
        "distances = cdist(row_embeds_2, row_embeds_2, \"cosine\")\n",
        "mean_distance = np.mean(distances)\n",
        "print(f\"Average distance without columns: {mean_distance}\")"
      ],
      "metadata": {
        "colab": {
          "base_uri": "https://localhost:8080/"
        },
        "id": "YKDMhVouMrU3",
        "outputId": "3ec98ab3-d260-4b74-83cd-85e50ddcd5ad"
      },
      "execution_count": 44,
      "outputs": [
        {
          "output_type": "stream",
          "name": "stdout",
          "text": [
            "Average distance between vectors with column names included: 0.31624439762906154\n",
            "Average distance without columns: 0.596461488547043\n"
          ]
        }
      ]
    },
    {
      "cell_type": "markdown",
      "source": [
        "SNR"
      ],
      "metadata": {
        "id": "zWRAPXTWZ6sc"
      }
    },
    {
      "cell_type": "code",
      "source": [
        "def calculate_snr(signal, noise):\n",
        "    mean_signal = np.mean(signal)\n",
        "    snr = mean_signal / noise\n",
        "    return snr"
      ],
      "metadata": {
        "id": "hcF6Beu3Zyzl"
      },
      "execution_count": 42,
      "outputs": []
    },
    {
      "cell_type": "markdown",
      "source": [
        "SNR is expected to be higher (signal more indistinguishable from the \"noise\") for records that include column names repeatedly throughout references."
      ],
      "metadata": {
        "id": "wUrVCnMxbAf7"
      }
    },
    {
      "cell_type": "code",
      "source": [
        "snr_w_columns= calculate_snr(cosine_similarities_w_columns, mean_distance_1)\n",
        "snr_wo_columns = calculate_snr(cosine_similarities_wo, mean_distance)\n",
        "\n",
        "print(f\"SNR with columns: {snr_w_columns}\")\n",
        "print(f\"SNR without columns: {snr_wo_columns}\")"
      ],
      "metadata": {
        "colab": {
          "base_uri": "https://localhost:8080/"
        },
        "id": "I1zVU0HJavAk",
        "outputId": "71bfc64a-4e8f-404c-b5ad-18005f0529e2"
      },
      "execution_count": 45,
      "outputs": [
        {
          "output_type": "stream",
          "name": "stdout",
          "text": [
            "SNR with columns: 0.77052802881513\n",
            "SNR without columns: 0.6169394109580617\n"
          ]
        }
      ]
    },
    {
      "cell_type": "markdown",
      "source": [
        "# Limitations\n",
        "\n",
        "- Context matters: Sometimes, what appears to be redundancy might carry important contextual information.\n",
        "- Domain-specific terminology: In specialized fields, apparent redundancy might be necessary for precision.\n",
        "- Query diversity: The effectiveness of this approach might vary depending on the nature and diversity of potential queries."
      ],
      "metadata": {
        "id": "upfU0t-Wb8e_"
      }
    }
  ]
}