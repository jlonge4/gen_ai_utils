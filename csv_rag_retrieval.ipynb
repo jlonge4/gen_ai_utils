{
  "nbformat": 4,
  "nbformat_minor": 0,
  "metadata": {
    "colab": {
      "provenance": [],
      "machine_shape": "hm",
      "gpuType": "L4",
      "authorship_tag": "ABX9TyMaK/2Wyn6DOMKeFbTnWWlv",
      "include_colab_link": true
    },
    "kernelspec": {
      "name": "python3",
      "display_name": "Python 3"
    },
    "language_info": {
      "name": "python"
    },
    "accelerator": "GPU"
  },
  "cells": [
    {
      "cell_type": "markdown",
      "metadata": {
        "id": "view-in-github",
        "colab_type": "text"
      },
      "source": [
        "<a href=\"https://colab.research.google.com/github/jlonge4/gen_ai_utils/blob/main/csv_rag_retrieval.ipynb\" target=\"_parent\"><img src=\"https://colab.research.google.com/assets/colab-badge.svg\" alt=\"Open In Colab\"/></a>"
      ]
    },
    {
      "cell_type": "markdown",
      "source": [
        "## Background:\n",
        "\n",
        "When processing CSV's for RAG, a common processing technique to maintain structure is to convert the row to a JSON format to maintain the structure."
      ],
      "metadata": {
        "id": "hSK306XWTUls"
      }
    },
    {
      "cell_type": "markdown",
      "source": [
        "## Hypothesis\n",
        "\n",
        "Removing the column names from the content for embedding(s) will maximize retrieval accuracy and distance between vectors (increase distinction among each record)"
      ],
      "metadata": {
        "id": "B9eaWr4oSSgm"
      }
    },
    {
      "cell_type": "code",
      "execution_count": null,
      "metadata": {
        "id": "MY1sqVPK57OE"
      },
      "outputs": [],
      "source": [
        "!pip install sentence-transformers renumics-spotlight umap-learn"
      ]
    },
    {
      "cell_type": "code",
      "source": [],
      "metadata": {
        "id": "1afRkqaZTTyA"
      },
      "execution_count": null,
      "outputs": []
    },
    {
      "cell_type": "code",
      "source": [
        "from sentence_transformers import SentenceTransformer\n",
        "\n",
        "model = SentenceTransformer(\"sentence-transformers/all-MiniLM-L6-v2\")\n",
        "model.to('cuda')"
      ],
      "metadata": {
        "id": "FbAJcupVEjQ6"
      },
      "execution_count": 1,
      "outputs": []
    },
    {
      "cell_type": "code",
      "source": [
        "rows = [\n",
        "    {\"project_id\": 1, \"title\": \"Employee HelpDesk\", \"description\": \"Develop software to enhance and enable technicians to provide assistance to employees.\"},\n",
        "    {\"project_id\": 2, \"title\": \"Customer Support Chatbot\", \"description\": \"Create a chatbot that can answer customer questions and provide support.\"},\n",
        "    {\"project_id\": 3, \"title\": \"Automated Data Entry\", \"description\": \"Develop a system that can automatically enter data into a database from various sources.\"},\n",
        "    {\"project_id\": 4, \"title\": \"Inventory Management System\", \"description\": \"Create a system to track and manage inventory in a warehouse or store.\"},\n",
        "    {\"project_id\": 5, \"title\": \"Online Appointment Scheduling\", \"description\": \"Develop a platform that allows users to schedule appointments online.\"},\n",
        "    {\"project_id\": 6, \"title\": \"Expense Tracking Application\", \"description\": \"Create an app that helps users track and manage their expenses.\"},\n",
        "    {\"project_id\": 7, \"title\": \"Social Media Analytics Tool\", \"description\": \"Develop a tool that can analyze and provide insights on social media data.\"},\n",
        "    {\"project_id\": 8, \"title\": \"E-Learning Platform\", \"description\": \"Create a platform for online learning and education.\"},\n",
        "    {\"project_id\": 9, \"title\": \"Health and Fitness App\", \"description\": \"Develop an app that helps users track their health and fitness goals.\"},\n",
        "    {\"project_id\": 10, \"title\": \"Smart Home Automation System\", \"description\": \"Create a system that can automate and control various devices in a smart home.\"},\n",
        "    {\"project_id\": 11, \"title\": \"Online Marketplace Platform\", \"description\": \"Develop a platform for buying and selling goods and services online.\"}\n",
        "]\n",
        "row_strings = [str(row) for row in rows]\n",
        "row_embeds = model.encode(row_strings)"
      ],
      "metadata": {
        "id": "CRAlWxVXEkgO"
      },
      "execution_count": 36,
      "outputs": []
    },
    {
      "cell_type": "code",
      "source": [
        "row_embeds[0]"
      ],
      "metadata": {
        "id": "6tG-3S6fF-bA"
      },
      "execution_count": null,
      "outputs": []
    },
    {
      "cell_type": "code",
      "source": [
        "q_embed = model.encode([\"What is the description of project titled Automated Data Entry?\"])"
      ],
      "metadata": {
        "id": "OnF9HEA3Icnr"
      },
      "execution_count": 61,
      "outputs": []
    },
    {
      "cell_type": "code",
      "source": [
        "global_min = -30\n",
        "global_max = 30"
      ],
      "metadata": {
        "id": "SM6vjymsRgpj"
      },
      "execution_count": 71,
      "outputs": []
    },
    {
      "cell_type": "code",
      "source": [
        "import umap\n",
        "import numpy as np\n",
        "import matplotlib.pyplot as plt\n",
        "\n",
        "# Prepare the embeddings for UMAP\n",
        "embeddings = np.array([np.array(x) for x in row_embeds])\n",
        "\n",
        "# Reduce dimensionality with UMAP\n",
        "reducer = umap.UMAP(n_neighbors=2, min_dist=0.1, n_components=2, random_state=42)\n",
        "embedding_reduced = reducer.fit_transform(embeddings)\n",
        "query_reduced = reducer.transform(q_embed)\n",
        "\n",
        "plt.figure(figsize=(6, 6))\n",
        "plt.axis('equal')\n",
        "plt.xlim(global_min, global_max)\n",
        "plt.ylim(global_min, global_max)\n",
        "# Plot the reduced embeddings\n",
        "plt.scatter(query_reduced[:,  0], query_reduced[:,  1], c='blue', alpha=0.2)\n",
        "\n",
        "# Highlight the question embedding and the  5 closest vectors\n",
        "plt.scatter(embedding_reduced[:,  0], embedding_reduced[:,  1], c='red', alpha=1)\n",
        "# plt.scatter(embedding_reduced[df[\"id\"] == df[df[\"dist\"] == df[\"dist\"].min()][\"id\"].values[0],  0], embedding_reduced[df[\"id\"] == df[df[\"dist\"] == df[\"dist\"].min()][\"id\"].values[0],  1], c='blue', alpha=1, marker='*')\n",
        "\n",
        "# Add labels and title\n",
        "plt.title(\"UMAP Visualization of Text Embeddings with Question Highlighted\")\n",
        "plt.xlabel(\"UMAP  1\")\n",
        "plt.ylabel(\"UMAP  2\")\n",
        "plt.show()"
      ],
      "metadata": {
        "colab": {
          "base_uri": "https://localhost:8080/",
          "height": 619
        },
        "id": "xuv7X5m4El8t",
        "outputId": "d9f6a97d-cd10-4f8d-f0c0-81f6f2b77598"
      },
      "execution_count": 72,
      "outputs": [
        {
          "output_type": "stream",
          "name": "stderr",
          "text": [
            "/usr/local/lib/python3.10/dist-packages/umap/umap_.py:1945: UserWarning: n_jobs value 1 overridden to 1 by setting random_state. Use no seed for parallelism.\n",
            "  warn(f\"n_jobs value {self.n_jobs} overridden to 1 by setting random_state. Use no seed for parallelism.\")\n"
          ]
        },
        {
          "output_type": "display_data",
          "data": {
            "text/plain": [
              "<Figure size 600x600 with 1 Axes>"
            ],
            "image/png": "[encoded data removed]"
          },
          "metadata": {}
        }
      ]
    },
    {
      "cell_type": "code",
      "source": [
        "from sklearn.metrics.pairwise import cosine_similarity\n",
        "import numpy\n",
        "\n",
        "cosine_similarities = cosine_similarity(q_embed, row_embeds)\n",
        "closest_vectors_indices = numpy.argsort(cosine_similarities[0])[-4:][::-1]\n",
        "closest_vectors_scores = cosine_similarities[0][closest_vectors_indices]\n",
        "\n",
        "for i, idx in enumerate(closest_vectors_indices):\n",
        "    print(f\"Score: {closest_vectors_scores[i]}, Row: {rows[idx]}\")"
      ],
      "metadata": {
        "colab": {
          "base_uri": "https://localhost:8080/"
        },
        "id": "h7ua3AkyKmGu",
        "outputId": "8c75c98c-5692-4865-c115-cb7a76a50601"
      },
      "execution_count": 68,
      "outputs": [
        {
          "output_type": "stream",
          "name": "stdout",
          "text": [
            "Score: 0.5482973456382751, Row: {'project_id': 3, 'title': 'Automated Data Entry', 'description': 'Develop a system that can automatically enter data into a database from various sources.'}\n",
            "Score: 0.28474557399749756, Row: {'project_id': 1, 'title': 'Employee HelpDesk', 'description': 'Develop software to enhance and enable technicians to provide assistance to employees.'}\n",
            "Score: 0.2832058370113373, Row: {'project_id': 10, 'title': 'Smart Home Automation System', 'description': 'Create a system that can automate and control various devices in a smart home.'}\n",
            "Score: 0.25437596440315247, Row: {'project_id': 7, 'title': 'Social Media Analytics Tool', 'description': 'Develop a tool that can analyze and provide insights on social media data.'}\n"
          ]
        }
      ]
    },
    {
      "cell_type": "code",
      "source": [
        "rows_wo_json = [str(str(row[\"project_id\"]) + '; ' + row['title'] + '; ' + row[\"description\"]) for row in rows]\n",
        "row_embeds_2 = model.encode(rows_wo_json)\n",
        "rows_wo_json[0]"
      ],
      "metadata": {
        "colab": {
          "base_uri": "https://localhost:8080/",
          "height": 35
        },
        "id": "fCbtzokXGQih",
        "outputId": "ab42ad8f-0785-4370-94e8-f225adb30434"
      },
      "execution_count": 69,
      "outputs": [
        {
          "output_type": "execute_result",
          "data": {
            "text/plain": [
              "'1; Employee HelpDesk; Develop software to enhance and enable technicians to provide assistance to employees.'"
            ],
            "application/vnd.google.colaboratory.intrinsic+json": {
              "type": "string"
            }
          },
          "metadata": {},
          "execution_count": 69
        }
      ]
    },
    {
      "cell_type": "code",
      "source": [
        "embeddings = np.array([np.array(x) for x in row_embeds_2])\n",
        "\n",
        "# Reduce dimensionality with UMAP\n",
        "reducer = umap.UMAP(n_neighbors=2, min_dist=0.1, n_components=2, random_state=42)\n",
        "embedding_reduced = reducer.fit_transform(embeddings)\n",
        "query_reduced = reducer.transform(q_embed)\n",
        "# Plot the reduced embeddings\n",
        "plt.figure(figsize=(6, 6))\n",
        "plt.axis('equal')\n",
        "plt.xlim(global_min, global_max)\n",
        "plt.ylim(global_min, global_max)\n",
        "plt.scatter(query_reduced[:,  0], query_reduced[:,  1], c='blue', alpha=0.2)\n",
        "\n",
        "# Highlight the question embedding and the  5 closest vectors\n",
        "plt.scatter(embedding_reduced[:,  0], embedding_reduced[:,  1], c='red', alpha=1)\n",
        "\n",
        "# Add labels and title\n",
        "plt.title(\"UMAP Visualization of Text Embeddings with Question Highlighted\")\n",
        "plt.xlabel(\"UMAP  1\")\n",
        "plt.ylabel(\"UMAP  2\")\n",
        "plt.show()"
      ],
      "metadata": {
        "colab": {
          "base_uri": "https://localhost:8080/",
          "height": 619
        },
        "id": "GDME6RNZJ2J5",
        "outputId": "900dc3f9-402d-4958-fb6b-eeb22a6921fa"
      },
      "execution_count": 73,
      "outputs": [
        {
          "output_type": "stream",
          "name": "stderr",
          "text": [
            "/usr/local/lib/python3.10/dist-packages/umap/umap_.py:1945: UserWarning: n_jobs value 1 overridden to 1 by setting random_state. Use no seed for parallelism.\n",
            "  warn(f\"n_jobs value {self.n_jobs} overridden to 1 by setting random_state. Use no seed for parallelism.\")\n"
          ]
        },
        {
          "output_type": "display_data",
          "data": {
            "text/plain": [
              "<Figure size 600x600 with 1 Axes>"
            ],
            "image/png": "[encoded data removed]"
          },
          "metadata": {}
        }
      ]
    },
    {
      "cell_type": "code",
      "source": [
        "from sklearn.metrics.pairwise import cosine_similarity\n",
        "import numpy\n",
        "\n",
        "cosine_similarities = cosine_similarity(q_embed, row_embeds_2)\n",
        "closest_vectors_indices = numpy.argsort(cosine_similarities[0])[-4:][::-1]\n",
        "closest_vectors_scores = cosine_similarities[0][closest_vectors_indices]\n",
        "\n",
        "for i, idx in enumerate(closest_vectors_indices):\n",
        "    print(f\"Score: {closest_vectors_scores[i]}, Row: {rows_wo_json[idx]}\")"
      ],
      "metadata": {
        "colab": {
          "base_uri": "https://localhost:8080/"
        },
        "id": "KsHwtLNaK_IK",
        "outputId": "d580bf53-7b10-45ec-f1aa-cb664cb60285"
      },
      "execution_count": 74,
      "outputs": [
        {
          "output_type": "stream",
          "name": "stdout",
          "text": [
            "Score: 0.7760639190673828, Row: 3; Automated Data Entry; Develop a system that can automatically enter data into a database from various sources.\n",
            "Score: 0.43231236934661865, Row: 10; Smart Home Automation System; Create a system that can automate and control various devices in a smart home.\n",
            "Score: 0.40793299674987793, Row: 4; Inventory Management System; Create a system to track and manage inventory in a warehouse or store.\n",
            "Score: 0.3983978033065796, Row: 1; Employee HelpDesk; Develop software to enhance and enable technicians to provide assistance to employees.\n"
          ]
        }
      ]
    },
    {
      "cell_type": "code",
      "source": [
        "from scipy.spatial.distance import cdist\n",
        "\n",
        "distances = cdist(row_embeds, row_embeds, \"cosine\")\n",
        "mean_distance = np.mean(distances)\n",
        "print(f\"Average distance between vectors with JSON structure included: {mean_distance}\")\n",
        "\n",
        "distances = cdist(row_embeds_2, row_embeds_2, \"cosine\")\n",
        "mean_distance = np.mean(distances)\n",
        "print(f\"Average distance without JSON structure: {mean_distance}\")"
      ],
      "metadata": {
        "colab": {
          "base_uri": "https://localhost:8080/"
        },
        "id": "YKDMhVouMrU3",
        "outputId": "890313ba-3bc1-401b-b074-30139a5960a1"
      },
      "execution_count": 75,
      "outputs": [
        {
          "output_type": "stream",
          "name": "stdout",
          "text": [
            "Average distance between vectors with JSON structure included: 0.31624439762906154\n",
            "Average distance without JSON structure: 0.596461488547043\n"
          ]
        }
      ]
    }
  ]
}