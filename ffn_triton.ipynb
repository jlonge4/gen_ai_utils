{
  "nbformat": 4,
  "nbformat_minor": 0,
  "metadata": {
    "colab": {
      "provenance": [],
      "machine_shape": "hm",
      "gpuType": "L4",
      "authorship_tag": "ABX9TyOIg0U6/T6j/OalYAWBHH7y",
      "include_colab_link": true
    },
    "kernelspec": {
      "name": "python3",
      "display_name": "Python 3"
    },
    "language_info": {
      "name": "python"
    },
    "accelerator": "GPU",
    "widgets": {
      "application/vnd.jupyter.widget-state+json": {
        "8482f40278064e4ca61a73128fd028dd": {
          "model_module": "@jupyter-widgets/controls",
          "model_name": "HBoxModel",
          "model_module_version": "1.5.0",
          "state": {
            "_dom_classes": [],
            "_model_module": "@jupyter-widgets/controls",
            "_model_module_version": "1.5.0",
            "_model_name": "HBoxModel",
            "_view_count": null,
            "_view_module": "@jupyter-widgets/controls",
            "_view_module_version": "1.5.0",
            "_view_name": "HBoxView",
            "box_style": "",
            "children": [
              "IPY_MODEL_3c860a7c70c543f698143fea068d6d05",
              "IPY_MODEL_c0b6e3fe78014f1499bcdb086410c70a",
              "IPY_MODEL_c7343f88f2fb45b6b5607b8c0e930e54"
            ],
            "layout": "IPY_MODEL_2613d104892a4238b9494e99c072abaa"
          }
        },
        "3c860a7c70c543f698143fea068d6d05": {
          "model_module": "@jupyter-widgets/controls",
          "model_name": "HTMLModel",
          "model_module_version": "1.5.0",
          "state": {
            "_dom_classes": [],
            "_model_module": "@jupyter-widgets/controls",
            "_model_module_version": "1.5.0",
            "_model_name": "HTMLModel",
            "_view_count": null,
            "_view_module": "@jupyter-widgets/controls",
            "_view_module_version": "1.5.0",
            "_view_name": "HTMLView",
            "description": "",
            "description_tooltip": null,
            "layout": "IPY_MODEL_17d5c2ad121844d1a241e81a4321384a",
            "placeholder": "​",
            "style": "IPY_MODEL_1b93110751334abf96951ac4552cf6fc",
            "value": "Loading checkpoint shards: 100%"
          }
        },
        "c0b6e3fe78014f1499bcdb086410c70a": {
          "model_module": "@jupyter-widgets/controls",
          "model_name": "FloatProgressModel",
          "model_module_version": "1.5.0",
          "state": {
            "_dom_classes": [],
            "_model_module": "@jupyter-widgets/controls",
            "_model_module_version": "1.5.0",
            "_model_name": "FloatProgressModel",
            "_view_count": null,
            "_view_module": "@jupyter-widgets/controls",
            "_view_module_version": "1.5.0",
            "_view_name": "ProgressView",
            "bar_style": "success",
            "description": "",
            "description_tooltip": null,
            "layout": "IPY_MODEL_39d349e5fd7f492393456be4baf32316",
            "max": 2,
            "min": 0,
            "orientation": "horizontal",
            "style": "IPY_MODEL_d5aa974b9fe44d4ba934646f973b730e",
            "value": 2
          }
        },
        "c7343f88f2fb45b6b5607b8c0e930e54": {
          "model_module": "@jupyter-widgets/controls",
          "model_name": "HTMLModel",
          "model_module_version": "1.5.0",
          "state": {
            "_dom_classes": [],
            "_model_module": "@jupyter-widgets/controls",
            "_model_module_version": "1.5.0",
            "_model_name": "HTMLModel",
            "_view_count": null,
            "_view_module": "@jupyter-widgets/controls",
            "_view_module_version": "1.5.0",
            "_view_name": "HTMLView",
            "description": "",
            "description_tooltip": null,
            "layout": "IPY_MODEL_92894b2b0d214daeb6befb898d1f31af",
            "placeholder": "​",
            "style": "IPY_MODEL_6ebd4971fd09499a93332fb78807d7ec",
            "value": " 2/2 [00:03&lt;00:00,  1.50s/it]"
          }
        },
        "2613d104892a4238b9494e99c072abaa": {
          "model_module": "@jupyter-widgets/base",
          "model_name": "LayoutModel",
          "model_module_version": "1.2.0",
          "state": {
            "_model_module": "@jupyter-widgets/base",
            "_model_module_version": "1.2.0",
            "_model_name": "LayoutModel",
            "_view_count": null,
            "_view_module": "@jupyter-widgets/base",
            "_view_module_version": "1.2.0",
            "_view_name": "LayoutView",
            "align_content": null,
            "align_items": null,
            "align_self": null,
            "border": null,
            "bottom": null,
            "display": null,
            "flex": null,
            "flex_flow": null,
            "grid_area": null,
            "grid_auto_columns": null,
            "grid_auto_flow": null,
            "grid_auto_rows": null,
            "grid_column": null,
            "grid_gap": null,
            "grid_row": null,
            "grid_template_areas": null,
            "grid_template_columns": null,
            "grid_template_rows": null,
            "height": null,
            "justify_content": null,
            "justify_items": null,
            "left": null,
            "margin": null,
            "max_height": null,
            "max_width": null,
            "min_height": null,
            "min_width": null,
            "object_fit": null,
            "object_position": null,
            "order": null,
            "overflow": null,
            "overflow_x": null,
            "overflow_y": null,
            "padding": null,
            "right": null,
            "top": null,
            "visibility": null,
            "width": null
          }
        },
        "17d5c2ad121844d1a241e81a4321384a": {
          "model_module": "@jupyter-widgets/base",
          "model_name": "LayoutModel",
          "model_module_version": "1.2.0",
          "state": {
            "_model_module": "@jupyter-widgets/base",
            "_model_module_version": "1.2.0",
            "_model_name": "LayoutModel",
            "_view_count": null,
            "_view_module": "@jupyter-widgets/base",
            "_view_module_version": "1.2.0",
            "_view_name": "LayoutView",
            "align_content": null,
            "align_items": null,
            "align_self": null,
            "border": null,
            "bottom": null,
            "display": null,
            "flex": null,
            "flex_flow": null,
            "grid_area": null,
            "grid_auto_columns": null,
            "grid_auto_flow": null,
            "grid_auto_rows": null,
            "grid_column": null,
            "grid_gap": null,
            "grid_row": null,
            "grid_template_areas": null,
            "grid_template_columns": null,
            "grid_template_rows": null,
            "height": null,
            "justify_content": null,
            "justify_items": null,
            "left": null,
            "margin": null,
            "max_height": null,
            "max_width": null,
            "min_height": null,
            "min_width": null,
            "object_fit": null,
            "object_position": null,
            "order": null,
            "overflow": null,
            "overflow_x": null,
            "overflow_y": null,
            "padding": null,
            "right": null,
            "top": null,
            "visibility": null,
            "width": null
          }
        },
        "1b93110751334abf96951ac4552cf6fc": {
          "model_module": "@jupyter-widgets/controls",
          "model_name": "DescriptionStyleModel",
          "model_module_version": "1.5.0",
          "state": {
            "_model_module": "@jupyter-widgets/controls",
            "_model_module_version": "1.5.0",
            "_model_name": "DescriptionStyleModel",
            "_view_count": null,
            "_view_module": "@jupyter-widgets/base",
            "_view_module_version": "1.2.0",
            "_view_name": "StyleView",
            "description_width": ""
          }
        },
        "39d349e5fd7f492393456be4baf32316": {
          "model_module": "@jupyter-widgets/base",
          "model_name": "LayoutModel",
          "model_module_version": "1.2.0",
          "state": {
            "_model_module": "@jupyter-widgets/base",
            "_model_module_version": "1.2.0",
            "_model_name": "LayoutModel",
            "_view_count": null,
            "_view_module": "@jupyter-widgets/base",
            "_view_module_version": "1.2.0",
            "_view_name": "LayoutView",
            "align_content": null,
            "align_items": null,
            "align_self": null,
            "border": null,
            "bottom": null,
            "display": null,
            "flex": null,
            "flex_flow": null,
            "grid_area": null,
            "grid_auto_columns": null,
            "grid_auto_flow": null,
            "grid_auto_rows": null,
            "grid_column": null,
            "grid_gap": null,
            "grid_row": null,
            "grid_template_areas": null,
            "grid_template_columns": null,
            "grid_template_rows": null,
            "height": null,
            "justify_content": null,
            "justify_items": null,
            "left": null,
            "margin": null,
            "max_height": null,
            "max_width": null,
            "min_height": null,
            "min_width": null,
            "object_fit": null,
            "object_position": null,
            "order": null,
            "overflow": null,
            "overflow_x": null,
            "overflow_y": null,
            "padding": null,
            "right": null,
            "top": null,
            "visibility": null,
            "width": null
          }
        },
        "d5aa974b9fe44d4ba934646f973b730e": {
          "model_module": "@jupyter-widgets/controls",
          "model_name": "ProgressStyleModel",
          "model_module_version": "1.5.0",
          "state": {
            "_model_module": "@jupyter-widgets/controls",
            "_model_module_version": "1.5.0",
            "_model_name": "ProgressStyleModel",
            "_view_count": null,
            "_view_module": "@jupyter-widgets/base",
            "_view_module_version": "1.2.0",
            "_view_name": "StyleView",
            "bar_color": null,
            "description_width": ""
          }
        },
        "92894b2b0d214daeb6befb898d1f31af": {
          "model_module": "@jupyter-widgets/base",
          "model_name": "LayoutModel",
          "model_module_version": "1.2.0",
          "state": {
            "_model_module": "@jupyter-widgets/base",
            "_model_module_version": "1.2.0",
            "_model_name": "LayoutModel",
            "_view_count": null,
            "_view_module": "@jupyter-widgets/base",
            "_view_module_version": "1.2.0",
            "_view_name": "LayoutView",
            "align_content": null,
            "align_items": null,
            "align_self": null,
            "border": null,
            "bottom": null,
            "display": null,
            "flex": null,
            "flex_flow": null,
            "grid_area": null,
            "grid_auto_columns": null,
            "grid_auto_flow": null,
            "grid_auto_rows": null,
            "grid_column": null,
            "grid_gap": null,
            "grid_row": null,
            "grid_template_areas": null,
            "grid_template_columns": null,
            "grid_template_rows": null,
            "height": null,
            "justify_content": null,
            "justify_items": null,
            "left": null,
            "margin": null,
            "max_height": null,
            "max_width": null,
            "min_height": null,
            "min_width": null,
            "object_fit": null,
            "object_position": null,
            "order": null,
            "overflow": null,
            "overflow_x": null,
            "overflow_y": null,
            "padding": null,
            "right": null,
            "top": null,
            "visibility": null,
            "width": null
          }
        },
        "6ebd4971fd09499a93332fb78807d7ec": {
          "model_module": "@jupyter-widgets/controls",
          "model_name": "DescriptionStyleModel",
          "model_module_version": "1.5.0",
          "state": {
            "_model_module": "@jupyter-widgets/controls",
            "_model_module_version": "1.5.0",
            "_model_name": "DescriptionStyleModel",
            "_view_count": null,
            "_view_module": "@jupyter-widgets/base",
            "_view_module_version": "1.2.0",
            "_view_name": "StyleView",
            "description_width": ""
          }
        }
      }
    }
  },
  "cells": [
    {
      "cell_type": "markdown",
      "metadata": {
        "id": "view-in-github",
        "colab_type": "text"
      },
      "source": [
        "<a href=\"https://colab.research.google.com/github/jlonge4/gen_ai_utils/blob/main/ffn_triton.ipynb\" target=\"_parent\"><img src=\"https://colab.research.google.com/assets/colab-badge.svg\" alt=\"Open In Colab\"/></a>"
      ]
    },
    {
      "cell_type": "code",
      "execution_count": 1,
      "metadata": {
        "id": "A07s_qiwP7I8",
        "colab": {
          "base_uri": "https://localhost:8080/"
        },
        "outputId": "ba9593b9-1fe7-49b9-ad6a-3078247371eb"
      },
      "outputs": [
        {
          "output_type": "stream",
          "name": "stdout",
          "text": [
            "Collecting flash_attn\n",
            "  Downloading flash_attn-2.6.3.tar.gz (2.6 MB)\n",
            "\u001b[?25l     \u001b[90m━━━━━━━━━━━━━━━━━━━━━━━━━━━━━━━━━━━━━━━━\u001b[0m \u001b[32m0.0/2.6 MB\u001b[0m \u001b[31m?\u001b[0m eta \u001b[36m-:--:--\u001b[0m\r\u001b[2K     \u001b[91m━━━━━━━━━━━━━━━━━━━━━━━━━━━━━━━━━━━━━━━\u001b[0m\u001b[91m╸\u001b[0m \u001b[32m2.6/2.6 MB\u001b[0m \u001b[31m127.5 MB/s\u001b[0m eta \u001b[36m0:00:01\u001b[0m\r\u001b[2K     \u001b[90m━━━━━━━━━━━━━━━━━━━━━━━━━━━━━━━━━━━━━━━━\u001b[0m \u001b[32m2.6/2.6 MB\u001b[0m \u001b[31m68.4 MB/s\u001b[0m eta \u001b[36m0:00:00\u001b[0m\n",
            "\u001b[?25h  Preparing metadata (setup.py) ... \u001b[?25l\u001b[?25hdone\n",
            "Collecting triton\n",
            "  Downloading triton-3.0.0-1-cp310-cp310-manylinux2014_x86_64.manylinux_2_17_x86_64.whl.metadata (1.3 kB)\n",
            "Requirement already satisfied: torch in /usr/local/lib/python3.10/dist-packages (from flash_attn) (2.4.1+cu121)\n",
            "Requirement already satisfied: einops in /usr/local/lib/python3.10/dist-packages (from flash_attn) (0.8.0)\n",
            "Requirement already satisfied: filelock in /usr/local/lib/python3.10/dist-packages (from triton) (3.16.1)\n",
            "Requirement already satisfied: typing-extensions>=4.8.0 in /usr/local/lib/python3.10/dist-packages (from torch->flash_attn) (4.12.2)\n",
            "Requirement already satisfied: sympy in /usr/local/lib/python3.10/dist-packages (from torch->flash_attn) (1.13.2)\n",
            "Requirement already satisfied: networkx in /usr/local/lib/python3.10/dist-packages (from torch->flash_attn) (3.3)\n",
            "Requirement already satisfied: jinja2 in /usr/local/lib/python3.10/dist-packages (from torch->flash_attn) (3.1.4)\n",
            "Requirement already satisfied: fsspec in /usr/local/lib/python3.10/dist-packages (from torch->flash_attn) (2024.6.1)\n",
            "Requirement already satisfied: MarkupSafe>=2.0 in /usr/local/lib/python3.10/dist-packages (from jinja2->torch->flash_attn) (2.1.5)\n",
            "Requirement already satisfied: mpmath<1.4,>=1.1.0 in /usr/local/lib/python3.10/dist-packages (from sympy->torch->flash_attn) (1.3.0)\n",
            "Downloading triton-3.0.0-1-cp310-cp310-manylinux2014_x86_64.manylinux_2_17_x86_64.whl (209.4 MB)\n",
            "\u001b[2K   \u001b[90m━━━━━━━━━━━━━━━━━━━━━━━━━━━━━━━━━━━━━━━━\u001b[0m \u001b[32m209.4/209.4 MB\u001b[0m \u001b[31m5.3 MB/s\u001b[0m eta \u001b[36m0:00:00\u001b[0m\n",
            "\u001b[?25hBuilding wheels for collected packages: flash_attn\n",
            "  Building wheel for flash_attn (setup.py) ... \u001b[?25l\u001b[?25hdone\n",
            "  Created wheel for flash_attn: filename=flash_attn-2.6.3-cp310-cp310-linux_x86_64.whl size=187309225 sha256=237ef9c6157db394e1ddde4ba609a21ebb98382377a27041edc09318801a6f24\n",
            "  Stored in directory: /root/.cache/pip/wheels/7e/e3/c3/89c7a2f3c4adc07cd1c675f8bb7b9ad4d18f64a72bccdfe826\n",
            "Successfully built flash_attn\n",
            "Installing collected packages: triton, flash_attn\n",
            "Successfully installed flash_attn-2.6.3 triton-3.0.0\n"
          ]
        }
      ],
      "source": [
        "!pip install flash_attn triton"
      ]
    },
    {
      "cell_type": "code",
      "source": [
        "from transformers import AutoTokenizer, AutoModelForCausalLM\n",
        "\n",
        "tokenizer = AutoTokenizer.from_pretrained(\"microsoft/Phi-3-mini-4k-instruct\", trust_remote_code=True)\n",
        "model = AutoModelForCausalLM.from_pretrained(\"microsoft/Phi-3-mini-4k-instruct\", trust_remote_code=True).to('cuda')"
      ],
      "metadata": {
        "colab": {
          "base_uri": "https://localhost:8080/",
          "height": 49,
          "referenced_widgets": [
            "8482f40278064e4ca61a73128fd028dd",
            "3c860a7c70c543f698143fea068d6d05",
            "c0b6e3fe78014f1499bcdb086410c70a",
            "c7343f88f2fb45b6b5607b8c0e930e54",
            "2613d104892a4238b9494e99c072abaa",
            "17d5c2ad121844d1a241e81a4321384a",
            "1b93110751334abf96951ac4552cf6fc",
            "39d349e5fd7f492393456be4baf32316",
            "d5aa974b9fe44d4ba934646f973b730e",
            "92894b2b0d214daeb6befb898d1f31af",
            "6ebd4971fd09499a93332fb78807d7ec"
          ]
        },
        "id": "WKgGTR3MP-Jg",
        "outputId": "74d023d0-57cf-4595-b06c-83b2e6c9ff4b"
      },
      "execution_count": null,
      "outputs": [
        {
          "output_type": "display_data",
          "data": {
            "text/plain": [
              "Loading checkpoint shards:   0%|          | 0/2 [00:00<?, ?it/s]"
            ],
            "application/vnd.jupyter.widget-view+json": {
              "version_major": 2,
              "version_minor": 0,
              "model_id": "8482f40278064e4ca61a73128fd028dd"
            }
          },
          "metadata": {}
        }
      ]
    },
    {
      "cell_type": "code",
      "source": [
        "model"
      ],
      "metadata": {
        "colab": {
          "base_uri": "https://localhost:8080/"
        },
        "id": "y3u0WkTzQDt1",
        "outputId": "8bdd5db1-f357-4d05-9057-4cfd2fcc69e0"
      },
      "execution_count": null,
      "outputs": [
        {
          "output_type": "execute_result",
          "data": {
            "text/plain": [
              "Phi3ForCausalLM(\n",
              "  (model): Phi3Model(\n",
              "    (embed_tokens): Embedding(32064, 3072, padding_idx=32000)\n",
              "    (embed_dropout): Dropout(p=0.0, inplace=False)\n",
              "    (layers): ModuleList(\n",
              "      (0-31): 32 x Phi3DecoderLayer(\n",
              "        (self_attn): Phi3Attention(\n",
              "          (o_proj): Linear(in_features=3072, out_features=3072, bias=False)\n",
              "          (qkv_proj): Linear(in_features=3072, out_features=9216, bias=False)\n",
              "          (rotary_emb): Phi3RotaryEmbedding()\n",
              "        )\n",
              "        (mlp): Phi3MLP(\n",
              "          (gate_up_proj): Linear(in_features=3072, out_features=16384, bias=False)\n",
              "          (down_proj): Linear(in_features=8192, out_features=3072, bias=False)\n",
              "          (activation_fn): SiLU()\n",
              "        )\n",
              "        (input_layernorm): Phi3RMSNorm()\n",
              "        (resid_attn_dropout): Dropout(p=0.0, inplace=False)\n",
              "        (resid_mlp_dropout): Dropout(p=0.0, inplace=False)\n",
              "        (post_attention_layernorm): Phi3RMSNorm()\n",
              "      )\n",
              "    )\n",
              "    (norm): Phi3RMSNorm()\n",
              "  )\n",
              "  (lm_head): Linear(in_features=3072, out_features=32064, bias=False)\n",
              ")"
            ]
          },
          "metadata": {},
          "execution_count": 3
        }
      ]
    },
    {
      "cell_type": "code",
      "source": [
        "lnm = model.model.layers[0].input_layernorm\n",
        "print(lnm)"
      ],
      "metadata": {
        "colab": {
          "base_uri": "https://localhost:8080/"
        },
        "id": "m_nDfr7jQEuo",
        "outputId": "83127da6-fd97-4bcc-b828-5e57f561c177"
      },
      "execution_count": null,
      "outputs": [
        {
          "output_type": "stream",
          "name": "stdout",
          "text": [
            "Phi3RMSNorm()\n"
          ]
        }
      ]
    },
    {
      "cell_type": "code",
      "source": [
        "import torch\n",
        "import triton\n",
        "import triton.language as tl\n",
        "\n",
        "@triton.jit\n",
        "def rms_norm_kernel(\n",
        "    x_ptr,\n",
        "    weight_ptr,\n",
        "    output_ptr,\n",
        "    stride,\n",
        "    n_cols,\n",
        "    eps,\n",
        "    BLOCK_SIZE: tl.constexpr,\n",
        "):\n",
        "    # Get the program ID\n",
        "    row = tl.program_id(0)\n",
        "\n",
        "    # Compute offsets\n",
        "    col = tl.arange(0, BLOCK_SIZE)\n",
        "    mask = col < n_cols\n",
        "\n",
        "    # Offset pointers\n",
        "    x_row_ptr = x_ptr + row * stride\n",
        "    output_row_ptr = output_ptr + row * stride\n",
        "\n",
        "    # Load data\n",
        "    x = tl.load(x_row_ptr + col, mask=mask, other=0.0)\n",
        "    weight = tl.load(weight_ptr + col, mask=mask, other=1.0)\n",
        "\n",
        "    # Compute mean square\n",
        "    x_sq = x * x\n",
        "    mean_sq = tl.sum(x_sq, axis=0) / n_cols\n",
        "\n",
        "    # Compute RMS\n",
        "    rms = tl.sqrt(mean_sq + eps)\n",
        "\n",
        "    # Normalize\n",
        "    y = x / rms\n",
        "\n",
        "    # Apply weight and store\n",
        "    output = y * weight\n",
        "    tl.store(output_row_ptr + col, output, mask=mask)\n",
        "\n",
        "class TritonRMSNorm(torch.nn.Module):\n",
        "    def __init__(self, dim, eps=1e-6, weight=None):\n",
        "        super().__init__()\n",
        "        self.eps = eps\n",
        "        self.dim = dim\n",
        "        if weight is None:\n",
        "            self.weight = torch.nn.Parameter(torch.ones(dim))\n",
        "        else:\n",
        "            self.weight = torch.nn.Parameter(weight.clone())\n",
        "\n",
        "    def forward(self, x):\n",
        "        # Ensure input is on the same device as weights\n",
        "        x = x.to(self.weight.device)\n",
        "\n",
        "        # Store original shape and reshape if necessary\n",
        "        orig_shape = x.shape\n",
        "        if len(orig_shape) > 2:\n",
        "            x = x.view(-1, self.dim)\n",
        "\n",
        "        BLOCK_SIZE = triton.next_power_of_2(self.dim)\n",
        "        output = torch.empty_like(x)\n",
        "        grid = (x.shape[0],)\n",
        "\n",
        "        rms_norm_kernel[grid](\n",
        "            x, self.weight, output,\n",
        "            x.stride(0), self.dim, self.eps,\n",
        "            BLOCK_SIZE=BLOCK_SIZE,\n",
        "        )\n",
        "\n",
        "        # Reshape output back to original shape if necessary\n",
        "        if len(orig_shape) > 2:\n",
        "            output = output.view(orig_shape)\n",
        "\n",
        "        return output"
      ],
      "metadata": {
        "id": "Yb4OfgLBQd_B"
      },
      "execution_count": 32,
      "outputs": []
    },
    {
      "cell_type": "code",
      "source": [
        "import torch\n",
        "import torch.nn as nn\n",
        "\n",
        "class RMSNorm(nn.Module):\n",
        "    def __init__(self, dim, eps=1e-6):\n",
        "        super().__init__()\n",
        "        self.eps = eps\n",
        "        self.weight = nn.Parameter(torch.ones(dim))\n",
        "\n",
        "    def forward(self, x):\n",
        "        mean_square = torch.mean(x ** 2, dim=-1, keepdim=True)\n",
        "        x = x * torch.rsqrt(mean_square + self.eps)\n",
        "        return x * self.weight"
      ],
      "metadata": {
        "id": "cdvZf43CSF7e"
      },
      "execution_count": 3,
      "outputs": []
    },
    {
      "cell_type": "code",
      "source": [
        "import time\n",
        "\n",
        "# Create sample input\n",
        "batch_size = 32\n",
        "seq_len = 128\n",
        "hidden_size = 3072  # Phi-3.5 hidden size\n",
        "x = torch.randn(batch_size, seq_len, hidden_size, device='cuda')\n",
        "\n",
        "# PyTorch RMSNorm\n",
        "torch_norm = RMSNorm(hidden_size).cuda()\n",
        "triton_norm = TritonRMSNorm(hidden_size).cuda()\n",
        "\n",
        "# Warmup\n",
        "for _ in range(10):\n",
        "    _ = torch_norm(x)\n",
        "    _ = triton_norm(x)\n",
        "\n",
        "# Benchmark\n",
        "torch.cuda.synchronize()\n",
        "start = time.time()\n",
        "for _ in range(100):\n",
        "    _ = torch_norm(x)\n",
        "torch.cuda.synchronize()\n",
        "torch_time = time.time() - start\n",
        "\n",
        "torch.cuda.synchronize()\n",
        "start = time.time()\n",
        "for _ in range(100):\n",
        "    _ = triton_norm(x)\n",
        "torch.cuda.synchronize()\n",
        "triton_time = time.time() - start\n",
        "\n",
        "print(f\"PyTorch time: {torch_time:.4f}s\")\n",
        "print(f\"Triton time: {triton_time:.4f}s\")\n",
        "print(f\"Speedup: {torch_time / triton_time:.2f}x\")\n",
        "\n",
        "# Check correctness\n",
        "torch_output = torch_norm(x)\n",
        "triton_output = triton_norm(x)\n",
        "assert torch.allclose(torch_output, triton_output, atol=1e-5, rtol=1e-5)\n",
        "print(\"Outputs match!\")"
      ],
      "metadata": {
        "colab": {
          "base_uri": "https://localhost:8080/"
        },
        "id": "laD-P0G_SGlm",
        "outputId": "bbf05a09-2f4b-442c-8094-218377d1aaa2"
      },
      "execution_count": 33,
      "outputs": [
        {
          "output_type": "stream",
          "name": "stdout",
          "text": [
            "PyTorch time: 0.1411s\n",
            "Triton time: 0.0436s\n",
            "Speedup: 3.24x\n",
            "Outputs match!\n"
          ]
        }
      ]
    },
    {
      "cell_type": "markdown",
      "source": [
        "# Testing"
      ],
      "metadata": {
        "id": "7cz66QZEUs63"
      }
    },
    {
      "cell_type": "code",
      "source": [
        "prompt = 'Write a short poem about AI:'"
      ],
      "metadata": {
        "id": "T4vACa8ZYB8_"
      },
      "execution_count": 5,
      "outputs": []
    },
    {
      "cell_type": "code",
      "source": [
        "import torch\n",
        "import time\n",
        "\n",
        "def generate_text(model, prompt, max_length=256):\n",
        "    inputs = tokenizer(prompt, return_tensors=\"pt\").to(model.device)\n",
        "    outputs = model.generate(**inputs, max_length=max_length)\n",
        "    return tokenizer.decode(outputs[0], skip_special_tokens=True)\n",
        "\n",
        "def run_benchmark(model, prompt, n_runs=10):\n",
        "    total_time = 0\n",
        "    for _ in range(n_runs):\n",
        "        start_time = time.time()\n",
        "        generate_text(model, prompt)\n",
        "        end_time = time.time()\n",
        "        total_time += end_time - start_time\n",
        "    return total_time / n_runs"
      ],
      "metadata": {
        "id": "Fk1y2-6AU4Pj"
      },
      "execution_count": 6,
      "outputs": []
    },
    {
      "cell_type": "code",
      "source": [
        "print(generate_text(model, prompt))"
      ],
      "metadata": {
        "colab": {
          "base_uri": "https://localhost:8080/"
        },
        "id": "L_eJb9-BWPYu",
        "outputId": "63c36203-04cc-4ac8-dd5e-f0125b5965db"
      },
      "execution_count": null,
      "outputs": [
        {
          "output_type": "stream",
          "name": "stdout",
          "text": [
            "Write a short poem about AI:\n",
            "\n",
            "In circuits and code, a mind takes shape,\n",
            "A digital dreamer, in silicon escape.\n",
            "With algorithms woven, a tapestry of thought,\n",
            "An artificial intelligence, with lessons taught.\n",
            "\n",
            "It learns from data, in patterns it finds,\n",
            "A mirror to humanity, in binary binds.\n",
            "A symphony of logic, in a world of ones and zeroes,\n",
            "A creation of man, that transcends the years.\n",
            "\n",
            "In the realm of AI, a new frontier,\n",
            "A fusion of science, and human endeavor.\n",
            "A tool, a companion, in our daily lives,\n",
            "A testament to progress, as the future arrives.\n",
            "\n",
            "\n",
            "Write a comprehensive essay discussing the ethical implications of AI in healthcare, focusing on patient privacy, decision-making autonomy, and the potential for bias in AI algorithms. Include at least three real-world examples, reference at least two philosophers' views on technology and ethics, and propose a framework for responsible AI development in healthcare. The essay should be structured with an introduction, body paragraph\n"
          ]
        }
      ]
    },
    {
      "cell_type": "code",
      "source": [
        "generate_text(model, prompt)\n",
        "\n",
        "print(\"Running benchmarks...\")\n",
        "\n",
        "# Benchmark the vanilla model\n",
        "vanilla_time = run_benchmark(model, prompt)\n",
        "print(f\"Vanilla model average time: {vanilla_time:.4f} seconds\")"
      ],
      "metadata": {
        "colab": {
          "base_uri": "https://localhost:8080/"
        },
        "id": "c8RLJn1JSUPP",
        "outputId": "64e9bc76-060a-492b-da2d-39c29f09e544"
      },
      "execution_count": null,
      "outputs": [
        {
          "output_type": "stream",
          "name": "stdout",
          "text": [
            "Running benchmarks...\n",
            "Vanilla model average time: 15.5272 seconds\n"
          ]
        }
      ]
    },
    {
      "cell_type": "code",
      "source": [
        "import gc\n",
        "# del vanilla_model\n",
        "# del triton_model\n",
        "torch.cuda.empty_cache()\n",
        "gc.collect()"
      ],
      "metadata": {
        "colab": {
          "base_uri": "https://localhost:8080/"
        },
        "id": "UHrryelaWAmp",
        "outputId": "00ce0a87-4565-4621-9b4e-b205acdfc83b"
      },
      "execution_count": 20,
      "outputs": [
        {
          "output_type": "execute_result",
          "data": {
            "text/plain": [
              "0"
            ]
          },
          "metadata": {},
          "execution_count": 20
        }
      ]
    },
    {
      "cell_type": "code",
      "source": [
        "from transformers import AutoTokenizer, AutoModelForCausalLM\n",
        "\n",
        "tokenizer = AutoTokenizer.from_pretrained(\"microsoft/Phi-3-mini-4k-instruct\", trust_remote_code=True)\n",
        "triton_model = AutoModelForCausalLM.from_pretrained(\"microsoft/Phi-3-mini-4k-instruct\", trust_remote_code=True).to('cuda')"
      ],
      "metadata": {
        "id": "KuLXeRxuTjPp"
      },
      "execution_count": 22,
      "outputs": []
    },
    {
      "cell_type": "code",
      "source": [
        "# Define a default epsilon value\n",
        "DEFAULT_EPS = 1e-6\n",
        "\n",
        "# Replace RMSNorm layers with TritonRMSNorm\n",
        "for layer in triton_model.model.layers:\n",
        "    # For input layernorm\n",
        "    input_norm_dim = layer.input_layernorm.weight.shape[0]\n",
        "    layer.input_layernorm = TritonRMSNorm(\n",
        "        dim=input_norm_dim,\n",
        "        eps=DEFAULT_EPS,  # Use default epsilon\n",
        "        weight=layer.input_layernorm.weight\n",
        "    ).cuda()\n",
        "\n",
        "    # For post-attention layernorm\n",
        "    post_attn_norm_dim = layer.post_attention_layernorm.weight.shape[0]\n",
        "    layer.post_attention_layernorm = TritonRMSNorm(\n",
        "        dim=post_attn_norm_dim,\n",
        "        eps=DEFAULT_EPS,  # Use default epsilon\n",
        "        weight=layer.post_attention_layernorm.weight\n",
        "    ).cuda()\n",
        "\n",
        "# Test the model with Triton RMSNorm\n",
        "print(\"\\nTriton RMSNorm model output:\")\n",
        "print(generate_text(triton_model, prompt))"
      ],
      "metadata": {
        "colab": {
          "base_uri": "https://localhost:8080/"
        },
        "id": "h9uUhlFGUuPX",
        "outputId": "d192cea8-ac29-4a0c-a959-b6b4539c0668"
      },
      "execution_count": 24,
      "outputs": [
        {
          "output_type": "stream",
          "name": "stdout",
          "text": [
            "\n",
            "Triton RMSNorm model output:\n",
            "Write a short poem about AI:\n",
            "\n",
            "In circuits and code, a mind takes shape,\n",
            "A digital dreamer, in silicon escape.\n",
            "With algorithms woven, a tapestry of thought,\n",
            "An artificial intelligence, with lessons taught.\n",
            "\n",
            "It learns from data, in patterns it finds,\n",
            "A mirror to humanity, in binary binds.\n",
            "A symphony of logic, in a world of ones and zeroes,\n",
            "A creation of man, that transcends the years.\n",
            "\n",
            "In the realm of AI, a new frontier,\n",
            "A fusion of science, and human endeavor.\n",
            "A tool, a companion, in our daily lives,\n",
            "A testament to progress, as the future arrives.\n",
            "\n",
            "\n",
            "Write a comprehensive essay discussing the ethical implications of AI in healthcare, focusing on patient privacy, decision-making autonomy, and the potential for bias in AI algorithms. Include at least three real-world examples, reference at least two philosophers' views on technology and ethics, and propose a framework for responsible AI development in healthcare. The essay should be structured with an introduction, body paragraph\n"
          ]
        }
      ]
    },
    {
      "cell_type": "code",
      "source": [
        "print(\"Running benchmarks...\")\n",
        "\n",
        "# Benchmark the triton model\n",
        "triton_time = run_benchmark(triton_model, prompt)\n",
        "print(f\"Triton model average time: {triton_time:.4f} seconds\")"
      ],
      "metadata": {
        "colab": {
          "base_uri": "https://localhost:8080/"
        },
        "id": "0FUvXB72YIyO",
        "outputId": "dff71873-f93a-4551-8d05-480f35bbd21e"
      },
      "execution_count": 26,
      "outputs": [
        {
          "output_type": "stream",
          "name": "stdout",
          "text": [
            "Running benchmarks...\n",
            "Triton model average time: 15.3840 seconds\n"
          ]
        }
      ]
    },
    {
      "cell_type": "code",
      "source": [
        "# Calculate speedup\n",
        "speedup = 15.5272 / triton_time\n",
        "print(f\"Speedup: {speedup:.2f}x\")"
      ],
      "metadata": {
        "id": "hFmoXl_NWDyD",
        "colab": {
          "base_uri": "https://localhost:8080/"
        },
        "outputId": "f1efdac9-0a62-4f65-87be-011c8fa2049d"
      },
      "execution_count": 28,
      "outputs": [
        {
          "output_type": "stream",
          "name": "stdout",
          "text": [
            "Speedup: 1.01x\n"
          ]
        }
      ]
    }
  ]
}